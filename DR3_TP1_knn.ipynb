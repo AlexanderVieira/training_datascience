{
  "nbformat": 4,
  "nbformat_minor": 0,
  "metadata": {
    "colab": {
      "name": "DR3_TP1_knn.ipynb",
      "provenance": [],
      "collapsed_sections": [],
      "authorship_tag": "ABX9TyOtU9KAyD0xO8Ev0F5KGClz",
      "include_colab_link": true
    },
    "kernelspec": {
      "name": "python3",
      "display_name": "Python 3"
    },
    "language_info": {
      "name": "python"
    }
  },
  "cells": [
    {
      "cell_type": "markdown",
      "metadata": {
        "id": "view-in-github",
        "colab_type": "text"
      },
      "source": [
        "<a href=\"https://colab.research.google.com/github/AlexanderVieira/training_datascience/blob/main/DR3_TP1_knn.ipynb\" target=\"_parent\"><img src=\"https://colab.research.google.com/assets/colab-badge.svg\" alt=\"Open In Colab\"/></a>"
      ]
    },
    {
      "cell_type": "markdown",
      "source": [
        "#**Instalção de Módulos**"
      ],
      "metadata": {
        "id": "UqksudWrfixD"
      }
    },
    {
      "cell_type": "code",
      "source": [
        "!pip install yellowbrick"
      ],
      "metadata": {
        "colab": {
          "base_uri": "https://localhost:8080/"
        },
        "id": "MgiV43vafY9U",
        "outputId": "4e0cc33d-96e5-4b5d-e350-9d2e1fd2bf93"
      },
      "execution_count": null,
      "outputs": [
        {
          "output_type": "stream",
          "name": "stdout",
          "text": [
            "Collecting yellowbrick\n",
            "  Downloading yellowbrick-1.4-py3-none-any.whl (274 kB)\n",
            "\u001b[?25l\r\u001b[K     |█▏                              | 10 kB 25.1 MB/s eta 0:00:01\r\u001b[K     |██▍                             | 20 kB 14.9 MB/s eta 0:00:01\r\u001b[K     |███▋                            | 30 kB 10.8 MB/s eta 0:00:01\r\u001b[K     |████▉                           | 40 kB 9.2 MB/s eta 0:00:01\r\u001b[K     |██████                          | 51 kB 4.7 MB/s eta 0:00:01\r\u001b[K     |███████▏                        | 61 kB 5.5 MB/s eta 0:00:01\r\u001b[K     |████████▍                       | 71 kB 5.2 MB/s eta 0:00:01\r\u001b[K     |█████████▋                      | 81 kB 5.4 MB/s eta 0:00:01\r\u001b[K     |██████████▊                     | 92 kB 6.0 MB/s eta 0:00:01\r\u001b[K     |████████████                    | 102 kB 5.2 MB/s eta 0:00:01\r\u001b[K     |█████████████▏                  | 112 kB 5.2 MB/s eta 0:00:01\r\u001b[K     |██████████████▍                 | 122 kB 5.2 MB/s eta 0:00:01\r\u001b[K     |███████████████▌                | 133 kB 5.2 MB/s eta 0:00:01\r\u001b[K     |████████████████▊               | 143 kB 5.2 MB/s eta 0:00:01\r\u001b[K     |██████████████████              | 153 kB 5.2 MB/s eta 0:00:01\r\u001b[K     |███████████████████▏            | 163 kB 5.2 MB/s eta 0:00:01\r\u001b[K     |████████████████████▎           | 174 kB 5.2 MB/s eta 0:00:01\r\u001b[K     |█████████████████████▌          | 184 kB 5.2 MB/s eta 0:00:01\r\u001b[K     |██████████████████████▊         | 194 kB 5.2 MB/s eta 0:00:01\r\u001b[K     |████████████████████████        | 204 kB 5.2 MB/s eta 0:00:01\r\u001b[K     |█████████████████████████       | 215 kB 5.2 MB/s eta 0:00:01\r\u001b[K     |██████████████████████████▎     | 225 kB 5.2 MB/s eta 0:00:01\r\u001b[K     |███████████████████████████▌    | 235 kB 5.2 MB/s eta 0:00:01\r\u001b[K     |████████████████████████████▊   | 245 kB 5.2 MB/s eta 0:00:01\r\u001b[K     |█████████████████████████████▉  | 256 kB 5.2 MB/s eta 0:00:01\r\u001b[K     |███████████████████████████████ | 266 kB 5.2 MB/s eta 0:00:01\r\u001b[K     |████████████████████████████████| 274 kB 5.2 MB/s \n",
            "\u001b[?25hRequirement already satisfied: scipy>=1.0.0 in /usr/local/lib/python3.7/dist-packages (from yellowbrick) (1.4.1)\n",
            "Requirement already satisfied: numpy>=1.16.0 in /usr/local/lib/python3.7/dist-packages (from yellowbrick) (1.21.5)\n",
            "Requirement already satisfied: cycler>=0.10.0 in /usr/local/lib/python3.7/dist-packages (from yellowbrick) (0.11.0)\n",
            "Requirement already satisfied: matplotlib!=3.0.0,>=2.0.2 in /usr/local/lib/python3.7/dist-packages (from yellowbrick) (3.2.2)\n",
            "Requirement already satisfied: scikit-learn>=1.0.0 in /usr/local/lib/python3.7/dist-packages (from yellowbrick) (1.0.2)\n",
            "Requirement already satisfied: python-dateutil>=2.1 in /usr/local/lib/python3.7/dist-packages (from matplotlib!=3.0.0,>=2.0.2->yellowbrick) (2.8.2)\n",
            "Requirement already satisfied: pyparsing!=2.0.4,!=2.1.2,!=2.1.6,>=2.0.1 in /usr/local/lib/python3.7/dist-packages (from matplotlib!=3.0.0,>=2.0.2->yellowbrick) (3.0.7)\n",
            "Requirement already satisfied: kiwisolver>=1.0.1 in /usr/local/lib/python3.7/dist-packages (from matplotlib!=3.0.0,>=2.0.2->yellowbrick) (1.3.2)\n",
            "Requirement already satisfied: six>=1.5 in /usr/local/lib/python3.7/dist-packages (from python-dateutil>=2.1->matplotlib!=3.0.0,>=2.0.2->yellowbrick) (1.15.0)\n",
            "Requirement already satisfied: threadpoolctl>=2.0.0 in /usr/local/lib/python3.7/dist-packages (from scikit-learn>=1.0.0->yellowbrick) (3.1.0)\n",
            "Requirement already satisfied: joblib>=0.11 in /usr/local/lib/python3.7/dist-packages (from scikit-learn>=1.0.0->yellowbrick) (1.1.0)\n",
            "Installing collected packages: yellowbrick\n",
            "Successfully installed yellowbrick-1.4\n"
          ]
        }
      ]
    },
    {
      "cell_type": "markdown",
      "source": [
        "#**Importação das bibliotecas básicas**"
      ],
      "metadata": {
        "id": "OYbxAxZu23qx"
      }
    },
    {
      "cell_type": "code",
      "execution_count": null,
      "metadata": {
        "id": "ISeGQX_Fua8w"
      },
      "outputs": [],
      "source": [
        "import pickle\n",
        "import pandas as pd\n",
        "import numpy as np\n",
        "import seaborn as sns\n",
        "import matplotlib.pyplot as plt\n",
        "from matplotlib.colors import ListedColormap\n",
        "import plotly.express as px\n",
        "from sklearn.neighbors import KNeighborsClassifier\n",
        "from sklearn.model_selection import train_test_split, learning_curve,  ShuffleSplit\n",
        "from sklearn.metrics import accuracy_score, classification_report\n",
        "from yellowbrick.classifier import ConfusionMatrix\n",
        "from sklearn.svm import SVC"
      ]
    },
    {
      "cell_type": "markdown",
      "source": [
        "#**Aprendizagem baseada em instâncias - knn**"
      ],
      "metadata": {
        "id": "uvNTnRoCgM1L"
      }
    },
    {
      "cell_type": "markdown",
      "source": [
        "#**Carregamento da base de dados Smarket**"
      ],
      "metadata": {
        "id": "8GoSS811aYXs"
      }
    },
    {
      "cell_type": "code",
      "source": [
        "base_smarket = pd.read_csv('/content/Smarket.csv')\n",
        "base_smarket"
      ],
      "metadata": {
        "colab": {
          "base_uri": "https://localhost:8080/",
          "height": 424
        },
        "id": "RI3sb_MTvFrA",
        "outputId": "d2ce6c07-05d3-4b22-d3d9-da8be3d3669a"
      },
      "execution_count": null,
      "outputs": [
        {
          "output_type": "execute_result",
          "data": {
            "text/html": [
              "\n",
              "  <div id=\"df-33472c70-f984-40f4-9b16-229bbf9c4486\">\n",
              "    <div class=\"colab-df-container\">\n",
              "      <div>\n",
              "<style scoped>\n",
              "    .dataframe tbody tr th:only-of-type {\n",
              "        vertical-align: middle;\n",
              "    }\n",
              "\n",
              "    .dataframe tbody tr th {\n",
              "        vertical-align: top;\n",
              "    }\n",
              "\n",
              "    .dataframe thead th {\n",
              "        text-align: right;\n",
              "    }\n",
              "</style>\n",
              "<table border=\"1\" class=\"dataframe\">\n",
              "  <thead>\n",
              "    <tr style=\"text-align: right;\">\n",
              "      <th></th>\n",
              "      <th>Year</th>\n",
              "      <th>Lag1</th>\n",
              "      <th>Lag2</th>\n",
              "      <th>Lag3</th>\n",
              "      <th>Lag4</th>\n",
              "      <th>Lag5</th>\n",
              "      <th>Volume</th>\n",
              "      <th>Today</th>\n",
              "      <th>Direction</th>\n",
              "    </tr>\n",
              "  </thead>\n",
              "  <tbody>\n",
              "    <tr>\n",
              "      <th>0</th>\n",
              "      <td>2001</td>\n",
              "      <td>0.381</td>\n",
              "      <td>-0.192</td>\n",
              "      <td>-2.624</td>\n",
              "      <td>-1.055</td>\n",
              "      <td>5.010</td>\n",
              "      <td>1.19130</td>\n",
              "      <td>0.959</td>\n",
              "      <td>Up</td>\n",
              "    </tr>\n",
              "    <tr>\n",
              "      <th>1</th>\n",
              "      <td>2001</td>\n",
              "      <td>0.959</td>\n",
              "      <td>0.381</td>\n",
              "      <td>-0.192</td>\n",
              "      <td>-2.624</td>\n",
              "      <td>-1.055</td>\n",
              "      <td>1.29650</td>\n",
              "      <td>1.032</td>\n",
              "      <td>Up</td>\n",
              "    </tr>\n",
              "    <tr>\n",
              "      <th>2</th>\n",
              "      <td>2001</td>\n",
              "      <td>1.032</td>\n",
              "      <td>0.959</td>\n",
              "      <td>0.381</td>\n",
              "      <td>-0.192</td>\n",
              "      <td>-2.624</td>\n",
              "      <td>1.41120</td>\n",
              "      <td>-0.623</td>\n",
              "      <td>Down</td>\n",
              "    </tr>\n",
              "    <tr>\n",
              "      <th>3</th>\n",
              "      <td>2001</td>\n",
              "      <td>-0.623</td>\n",
              "      <td>1.032</td>\n",
              "      <td>0.959</td>\n",
              "      <td>0.381</td>\n",
              "      <td>-0.192</td>\n",
              "      <td>1.27600</td>\n",
              "      <td>0.614</td>\n",
              "      <td>Up</td>\n",
              "    </tr>\n",
              "    <tr>\n",
              "      <th>4</th>\n",
              "      <td>2001</td>\n",
              "      <td>0.614</td>\n",
              "      <td>-0.623</td>\n",
              "      <td>1.032</td>\n",
              "      <td>0.959</td>\n",
              "      <td>0.381</td>\n",
              "      <td>1.20570</td>\n",
              "      <td>0.213</td>\n",
              "      <td>Up</td>\n",
              "    </tr>\n",
              "    <tr>\n",
              "      <th>...</th>\n",
              "      <td>...</td>\n",
              "      <td>...</td>\n",
              "      <td>...</td>\n",
              "      <td>...</td>\n",
              "      <td>...</td>\n",
              "      <td>...</td>\n",
              "      <td>...</td>\n",
              "      <td>...</td>\n",
              "      <td>...</td>\n",
              "    </tr>\n",
              "    <tr>\n",
              "      <th>1245</th>\n",
              "      <td>2005</td>\n",
              "      <td>0.422</td>\n",
              "      <td>0.252</td>\n",
              "      <td>-0.024</td>\n",
              "      <td>-0.584</td>\n",
              "      <td>-0.285</td>\n",
              "      <td>1.88850</td>\n",
              "      <td>0.043</td>\n",
              "      <td>Up</td>\n",
              "    </tr>\n",
              "    <tr>\n",
              "      <th>1246</th>\n",
              "      <td>2005</td>\n",
              "      <td>0.043</td>\n",
              "      <td>0.422</td>\n",
              "      <td>0.252</td>\n",
              "      <td>-0.024</td>\n",
              "      <td>-0.584</td>\n",
              "      <td>1.28581</td>\n",
              "      <td>-0.955</td>\n",
              "      <td>Down</td>\n",
              "    </tr>\n",
              "    <tr>\n",
              "      <th>1247</th>\n",
              "      <td>2005</td>\n",
              "      <td>-0.955</td>\n",
              "      <td>0.043</td>\n",
              "      <td>0.422</td>\n",
              "      <td>0.252</td>\n",
              "      <td>-0.024</td>\n",
              "      <td>1.54047</td>\n",
              "      <td>0.130</td>\n",
              "      <td>Up</td>\n",
              "    </tr>\n",
              "    <tr>\n",
              "      <th>1248</th>\n",
              "      <td>2005</td>\n",
              "      <td>0.130</td>\n",
              "      <td>-0.955</td>\n",
              "      <td>0.043</td>\n",
              "      <td>0.422</td>\n",
              "      <td>0.252</td>\n",
              "      <td>1.42236</td>\n",
              "      <td>-0.298</td>\n",
              "      <td>Down</td>\n",
              "    </tr>\n",
              "    <tr>\n",
              "      <th>1249</th>\n",
              "      <td>2005</td>\n",
              "      <td>-0.298</td>\n",
              "      <td>0.130</td>\n",
              "      <td>-0.955</td>\n",
              "      <td>0.043</td>\n",
              "      <td>0.422</td>\n",
              "      <td>1.38254</td>\n",
              "      <td>-0.489</td>\n",
              "      <td>Down</td>\n",
              "    </tr>\n",
              "  </tbody>\n",
              "</table>\n",
              "<p>1250 rows × 9 columns</p>\n",
              "</div>\n",
              "      <button class=\"colab-df-convert\" onclick=\"convertToInteractive('df-33472c70-f984-40f4-9b16-229bbf9c4486')\"\n",
              "              title=\"Convert this dataframe to an interactive table.\"\n",
              "              style=\"display:none;\">\n",
              "        \n",
              "  <svg xmlns=\"http://www.w3.org/2000/svg\" height=\"24px\"viewBox=\"0 0 24 24\"\n",
              "       width=\"24px\">\n",
              "    <path d=\"M0 0h24v24H0V0z\" fill=\"none\"/>\n",
              "    <path d=\"M18.56 5.44l.94 2.06.94-2.06 2.06-.94-2.06-.94-.94-2.06-.94 2.06-2.06.94zm-11 1L8.5 8.5l.94-2.06 2.06-.94-2.06-.94L8.5 2.5l-.94 2.06-2.06.94zm10 10l.94 2.06.94-2.06 2.06-.94-2.06-.94-.94-2.06-.94 2.06-2.06.94z\"/><path d=\"M17.41 7.96l-1.37-1.37c-.4-.4-.92-.59-1.43-.59-.52 0-1.04.2-1.43.59L10.3 9.45l-7.72 7.72c-.78.78-.78 2.05 0 2.83L4 21.41c.39.39.9.59 1.41.59.51 0 1.02-.2 1.41-.59l7.78-7.78 2.81-2.81c.8-.78.8-2.07 0-2.86zM5.41 20L4 18.59l7.72-7.72 1.47 1.35L5.41 20z\"/>\n",
              "  </svg>\n",
              "      </button>\n",
              "      \n",
              "  <style>\n",
              "    .colab-df-container {\n",
              "      display:flex;\n",
              "      flex-wrap:wrap;\n",
              "      gap: 12px;\n",
              "    }\n",
              "\n",
              "    .colab-df-convert {\n",
              "      background-color: #E8F0FE;\n",
              "      border: none;\n",
              "      border-radius: 50%;\n",
              "      cursor: pointer;\n",
              "      display: none;\n",
              "      fill: #1967D2;\n",
              "      height: 32px;\n",
              "      padding: 0 0 0 0;\n",
              "      width: 32px;\n",
              "    }\n",
              "\n",
              "    .colab-df-convert:hover {\n",
              "      background-color: #E2EBFA;\n",
              "      box-shadow: 0px 1px 2px rgba(60, 64, 67, 0.3), 0px 1px 3px 1px rgba(60, 64, 67, 0.15);\n",
              "      fill: #174EA6;\n",
              "    }\n",
              "\n",
              "    [theme=dark] .colab-df-convert {\n",
              "      background-color: #3B4455;\n",
              "      fill: #D2E3FC;\n",
              "    }\n",
              "\n",
              "    [theme=dark] .colab-df-convert:hover {\n",
              "      background-color: #434B5C;\n",
              "      box-shadow: 0px 1px 3px 1px rgba(0, 0, 0, 0.15);\n",
              "      filter: drop-shadow(0px 1px 2px rgba(0, 0, 0, 0.3));\n",
              "      fill: #FFFFFF;\n",
              "    }\n",
              "  </style>\n",
              "\n",
              "      <script>\n",
              "        const buttonEl =\n",
              "          document.querySelector('#df-33472c70-f984-40f4-9b16-229bbf9c4486 button.colab-df-convert');\n",
              "        buttonEl.style.display =\n",
              "          google.colab.kernel.accessAllowed ? 'block' : 'none';\n",
              "\n",
              "        async function convertToInteractive(key) {\n",
              "          const element = document.querySelector('#df-33472c70-f984-40f4-9b16-229bbf9c4486');\n",
              "          const dataTable =\n",
              "            await google.colab.kernel.invokeFunction('convertToInteractive',\n",
              "                                                     [key], {});\n",
              "          if (!dataTable) return;\n",
              "\n",
              "          const docLinkHtml = 'Like what you see? Visit the ' +\n",
              "            '<a target=\"_blank\" href=https://colab.research.google.com/notebooks/data_table.ipynb>data table notebook</a>'\n",
              "            + ' to learn more about interactive tables.';\n",
              "          element.innerHTML = '';\n",
              "          dataTable['output_type'] = 'display_data';\n",
              "          await google.colab.output.renderOutput(dataTable, element);\n",
              "          const docLink = document.createElement('div');\n",
              "          docLink.innerHTML = docLinkHtml;\n",
              "          element.appendChild(docLink);\n",
              "        }\n",
              "      </script>\n",
              "    </div>\n",
              "  </div>\n",
              "  "
            ],
            "text/plain": [
              "      Year   Lag1   Lag2   Lag3   Lag4   Lag5   Volume  Today Direction\n",
              "0     2001  0.381 -0.192 -2.624 -1.055  5.010  1.19130  0.959        Up\n",
              "1     2001  0.959  0.381 -0.192 -2.624 -1.055  1.29650  1.032        Up\n",
              "2     2001  1.032  0.959  0.381 -0.192 -2.624  1.41120 -0.623      Down\n",
              "3     2001 -0.623  1.032  0.959  0.381 -0.192  1.27600  0.614        Up\n",
              "4     2001  0.614 -0.623  1.032  0.959  0.381  1.20570  0.213        Up\n",
              "...    ...    ...    ...    ...    ...    ...      ...    ...       ...\n",
              "1245  2005  0.422  0.252 -0.024 -0.584 -0.285  1.88850  0.043        Up\n",
              "1246  2005  0.043  0.422  0.252 -0.024 -0.584  1.28581 -0.955      Down\n",
              "1247  2005 -0.955  0.043  0.422  0.252 -0.024  1.54047  0.130        Up\n",
              "1248  2005  0.130 -0.955  0.043  0.422  0.252  1.42236 -0.298      Down\n",
              "1249  2005 -0.298  0.130 -0.955  0.043  0.422  1.38254 -0.489      Down\n",
              "\n",
              "[1250 rows x 9 columns]"
            ]
          },
          "metadata": {},
          "execution_count": 3
        }
      ]
    },
    {
      "cell_type": "markdown",
      "source": [
        "#**Exploração dos dados**"
      ],
      "metadata": {
        "id": "JesfG17Qa3Mh"
      }
    },
    {
      "cell_type": "code",
      "source": [
        "base_smarket.info()"
      ],
      "metadata": {
        "colab": {
          "base_uri": "https://localhost:8080/"
        },
        "id": "hGWltzD5YYIc",
        "outputId": "fc6d55b0-ace3-4f5a-9b29-6d0a6967551a"
      },
      "execution_count": null,
      "outputs": [
        {
          "output_type": "stream",
          "name": "stdout",
          "text": [
            "<class 'pandas.core.frame.DataFrame'>\n",
            "RangeIndex: 1250 entries, 0 to 1249\n",
            "Data columns (total 9 columns):\n",
            " #   Column     Non-Null Count  Dtype  \n",
            "---  ------     --------------  -----  \n",
            " 0   Year       1250 non-null   int64  \n",
            " 1   Lag1       1250 non-null   float64\n",
            " 2   Lag2       1250 non-null   float64\n",
            " 3   Lag3       1250 non-null   float64\n",
            " 4   Lag4       1250 non-null   float64\n",
            " 5   Lag5       1250 non-null   float64\n",
            " 6   Volume     1250 non-null   float64\n",
            " 7   Today      1250 non-null   float64\n",
            " 8   Direction  1250 non-null   object \n",
            "dtypes: float64(7), int64(1), object(1)\n",
            "memory usage: 88.0+ KB\n"
          ]
        }
      ]
    },
    {
      "cell_type": "code",
      "source": [
        "base_smarket.describe()"
      ],
      "metadata": {
        "colab": {
          "base_uri": "https://localhost:8080/",
          "height": 300
        },
        "id": "-HdTD3cvYoSE",
        "outputId": "b3afa4d2-6840-4649-e02f-aabf6b5c75de"
      },
      "execution_count": null,
      "outputs": [
        {
          "output_type": "execute_result",
          "data": {
            "text/html": [
              "\n",
              "  <div id=\"df-b1111828-6003-4eb0-8efc-661dd163a542\">\n",
              "    <div class=\"colab-df-container\">\n",
              "      <div>\n",
              "<style scoped>\n",
              "    .dataframe tbody tr th:only-of-type {\n",
              "        vertical-align: middle;\n",
              "    }\n",
              "\n",
              "    .dataframe tbody tr th {\n",
              "        vertical-align: top;\n",
              "    }\n",
              "\n",
              "    .dataframe thead th {\n",
              "        text-align: right;\n",
              "    }\n",
              "</style>\n",
              "<table border=\"1\" class=\"dataframe\">\n",
              "  <thead>\n",
              "    <tr style=\"text-align: right;\">\n",
              "      <th></th>\n",
              "      <th>Year</th>\n",
              "      <th>Lag1</th>\n",
              "      <th>Lag2</th>\n",
              "      <th>Lag3</th>\n",
              "      <th>Lag4</th>\n",
              "      <th>Lag5</th>\n",
              "      <th>Volume</th>\n",
              "      <th>Today</th>\n",
              "    </tr>\n",
              "  </thead>\n",
              "  <tbody>\n",
              "    <tr>\n",
              "      <th>count</th>\n",
              "      <td>1250.000000</td>\n",
              "      <td>1250.000000</td>\n",
              "      <td>1250.000000</td>\n",
              "      <td>1250.000000</td>\n",
              "      <td>1250.000000</td>\n",
              "      <td>1250.00000</td>\n",
              "      <td>1250.000000</td>\n",
              "      <td>1250.000000</td>\n",
              "    </tr>\n",
              "    <tr>\n",
              "      <th>mean</th>\n",
              "      <td>2003.016000</td>\n",
              "      <td>0.003834</td>\n",
              "      <td>0.003919</td>\n",
              "      <td>0.001716</td>\n",
              "      <td>0.001636</td>\n",
              "      <td>0.00561</td>\n",
              "      <td>1.478305</td>\n",
              "      <td>0.003138</td>\n",
              "    </tr>\n",
              "    <tr>\n",
              "      <th>std</th>\n",
              "      <td>1.409018</td>\n",
              "      <td>1.136299</td>\n",
              "      <td>1.136280</td>\n",
              "      <td>1.138703</td>\n",
              "      <td>1.138774</td>\n",
              "      <td>1.14755</td>\n",
              "      <td>0.360357</td>\n",
              "      <td>1.136334</td>\n",
              "    </tr>\n",
              "    <tr>\n",
              "      <th>min</th>\n",
              "      <td>2001.000000</td>\n",
              "      <td>-4.922000</td>\n",
              "      <td>-4.922000</td>\n",
              "      <td>-4.922000</td>\n",
              "      <td>-4.922000</td>\n",
              "      <td>-4.92200</td>\n",
              "      <td>0.356070</td>\n",
              "      <td>-4.922000</td>\n",
              "    </tr>\n",
              "    <tr>\n",
              "      <th>25%</th>\n",
              "      <td>2002.000000</td>\n",
              "      <td>-0.639500</td>\n",
              "      <td>-0.639500</td>\n",
              "      <td>-0.640000</td>\n",
              "      <td>-0.640000</td>\n",
              "      <td>-0.64000</td>\n",
              "      <td>1.257400</td>\n",
              "      <td>-0.639500</td>\n",
              "    </tr>\n",
              "    <tr>\n",
              "      <th>50%</th>\n",
              "      <td>2003.000000</td>\n",
              "      <td>0.039000</td>\n",
              "      <td>0.039000</td>\n",
              "      <td>0.038500</td>\n",
              "      <td>0.038500</td>\n",
              "      <td>0.03850</td>\n",
              "      <td>1.422950</td>\n",
              "      <td>0.038500</td>\n",
              "    </tr>\n",
              "    <tr>\n",
              "      <th>75%</th>\n",
              "      <td>2004.000000</td>\n",
              "      <td>0.596750</td>\n",
              "      <td>0.596750</td>\n",
              "      <td>0.596750</td>\n",
              "      <td>0.596750</td>\n",
              "      <td>0.59700</td>\n",
              "      <td>1.641675</td>\n",
              "      <td>0.596750</td>\n",
              "    </tr>\n",
              "    <tr>\n",
              "      <th>max</th>\n",
              "      <td>2005.000000</td>\n",
              "      <td>5.733000</td>\n",
              "      <td>5.733000</td>\n",
              "      <td>5.733000</td>\n",
              "      <td>5.733000</td>\n",
              "      <td>5.73300</td>\n",
              "      <td>3.152470</td>\n",
              "      <td>5.733000</td>\n",
              "    </tr>\n",
              "  </tbody>\n",
              "</table>\n",
              "</div>\n",
              "      <button class=\"colab-df-convert\" onclick=\"convertToInteractive('df-b1111828-6003-4eb0-8efc-661dd163a542')\"\n",
              "              title=\"Convert this dataframe to an interactive table.\"\n",
              "              style=\"display:none;\">\n",
              "        \n",
              "  <svg xmlns=\"http://www.w3.org/2000/svg\" height=\"24px\"viewBox=\"0 0 24 24\"\n",
              "       width=\"24px\">\n",
              "    <path d=\"M0 0h24v24H0V0z\" fill=\"none\"/>\n",
              "    <path d=\"M18.56 5.44l.94 2.06.94-2.06 2.06-.94-2.06-.94-.94-2.06-.94 2.06-2.06.94zm-11 1L8.5 8.5l.94-2.06 2.06-.94-2.06-.94L8.5 2.5l-.94 2.06-2.06.94zm10 10l.94 2.06.94-2.06 2.06-.94-2.06-.94-.94-2.06-.94 2.06-2.06.94z\"/><path d=\"M17.41 7.96l-1.37-1.37c-.4-.4-.92-.59-1.43-.59-.52 0-1.04.2-1.43.59L10.3 9.45l-7.72 7.72c-.78.78-.78 2.05 0 2.83L4 21.41c.39.39.9.59 1.41.59.51 0 1.02-.2 1.41-.59l7.78-7.78 2.81-2.81c.8-.78.8-2.07 0-2.86zM5.41 20L4 18.59l7.72-7.72 1.47 1.35L5.41 20z\"/>\n",
              "  </svg>\n",
              "      </button>\n",
              "      \n",
              "  <style>\n",
              "    .colab-df-container {\n",
              "      display:flex;\n",
              "      flex-wrap:wrap;\n",
              "      gap: 12px;\n",
              "    }\n",
              "\n",
              "    .colab-df-convert {\n",
              "      background-color: #E8F0FE;\n",
              "      border: none;\n",
              "      border-radius: 50%;\n",
              "      cursor: pointer;\n",
              "      display: none;\n",
              "      fill: #1967D2;\n",
              "      height: 32px;\n",
              "      padding: 0 0 0 0;\n",
              "      width: 32px;\n",
              "    }\n",
              "\n",
              "    .colab-df-convert:hover {\n",
              "      background-color: #E2EBFA;\n",
              "      box-shadow: 0px 1px 2px rgba(60, 64, 67, 0.3), 0px 1px 3px 1px rgba(60, 64, 67, 0.15);\n",
              "      fill: #174EA6;\n",
              "    }\n",
              "\n",
              "    [theme=dark] .colab-df-convert {\n",
              "      background-color: #3B4455;\n",
              "      fill: #D2E3FC;\n",
              "    }\n",
              "\n",
              "    [theme=dark] .colab-df-convert:hover {\n",
              "      background-color: #434B5C;\n",
              "      box-shadow: 0px 1px 3px 1px rgba(0, 0, 0, 0.15);\n",
              "      filter: drop-shadow(0px 1px 2px rgba(0, 0, 0, 0.3));\n",
              "      fill: #FFFFFF;\n",
              "    }\n",
              "  </style>\n",
              "\n",
              "      <script>\n",
              "        const buttonEl =\n",
              "          document.querySelector('#df-b1111828-6003-4eb0-8efc-661dd163a542 button.colab-df-convert');\n",
              "        buttonEl.style.display =\n",
              "          google.colab.kernel.accessAllowed ? 'block' : 'none';\n",
              "\n",
              "        async function convertToInteractive(key) {\n",
              "          const element = document.querySelector('#df-b1111828-6003-4eb0-8efc-661dd163a542');\n",
              "          const dataTable =\n",
              "            await google.colab.kernel.invokeFunction('convertToInteractive',\n",
              "                                                     [key], {});\n",
              "          if (!dataTable) return;\n",
              "\n",
              "          const docLinkHtml = 'Like what you see? Visit the ' +\n",
              "            '<a target=\"_blank\" href=https://colab.research.google.com/notebooks/data_table.ipynb>data table notebook</a>'\n",
              "            + ' to learn more about interactive tables.';\n",
              "          element.innerHTML = '';\n",
              "          dataTable['output_type'] = 'display_data';\n",
              "          await google.colab.output.renderOutput(dataTable, element);\n",
              "          const docLink = document.createElement('div');\n",
              "          docLink.innerHTML = docLinkHtml;\n",
              "          element.appendChild(docLink);\n",
              "        }\n",
              "      </script>\n",
              "    </div>\n",
              "  </div>\n",
              "  "
            ],
            "text/plain": [
              "              Year         Lag1  ...       Volume        Today\n",
              "count  1250.000000  1250.000000  ...  1250.000000  1250.000000\n",
              "mean   2003.016000     0.003834  ...     1.478305     0.003138\n",
              "std       1.409018     1.136299  ...     0.360357     1.136334\n",
              "min    2001.000000    -4.922000  ...     0.356070    -4.922000\n",
              "25%    2002.000000    -0.639500  ...     1.257400    -0.639500\n",
              "50%    2003.000000     0.039000  ...     1.422950     0.038500\n",
              "75%    2004.000000     0.596750  ...     1.641675     0.596750\n",
              "max    2005.000000     5.733000  ...     3.152470     5.733000\n",
              "\n",
              "[8 rows x 8 columns]"
            ]
          },
          "metadata": {},
          "execution_count": 5
        }
      ]
    },
    {
      "cell_type": "code",
      "source": [
        "base_smarket.isnull().sum()"
      ],
      "metadata": {
        "colab": {
          "base_uri": "https://localhost:8080/"
        },
        "id": "YSr3Lcz_wCTh",
        "outputId": "3cda565c-221d-41f8-de21-2437bc8b686f"
      },
      "execution_count": null,
      "outputs": [
        {
          "output_type": "execute_result",
          "data": {
            "text/plain": [
              "Year         0\n",
              "Lag1         0\n",
              "Lag2         0\n",
              "Lag3         0\n",
              "Lag4         0\n",
              "Lag5         0\n",
              "Volume       0\n",
              "Today        0\n",
              "Direction    0\n",
              "dtype: int64"
            ]
          },
          "metadata": {},
          "execution_count": 6
        }
      ]
    },
    {
      "cell_type": "code",
      "source": [
        "np.unique(base_smarket['Direction'], return_counts=True)"
      ],
      "metadata": {
        "colab": {
          "base_uri": "https://localhost:8080/"
        },
        "id": "aHmpALZsmq5q",
        "outputId": "232b9916-b2b8-42d5-c417-41648c6d5352"
      },
      "execution_count": null,
      "outputs": [
        {
          "output_type": "execute_result",
          "data": {
            "text/plain": [
              "(array(['Down', 'Up'], dtype=object), array([602, 648]))"
            ]
          },
          "metadata": {},
          "execution_count": 7
        }
      ]
    },
    {
      "cell_type": "code",
      "source": [
        "base_smarket.index"
      ],
      "metadata": {
        "colab": {
          "base_uri": "https://localhost:8080/"
        },
        "id": "pxhdQ_0und4q",
        "outputId": "be6d6af9-f099-40ac-f679-bd03a97c5777"
      },
      "execution_count": null,
      "outputs": [
        {
          "output_type": "execute_result",
          "data": {
            "text/plain": [
              "RangeIndex(start=0, stop=1250, step=1)"
            ]
          },
          "metadata": {},
          "execution_count": 8
        }
      ]
    },
    {
      "cell_type": "markdown",
      "source": [
        "#**Visualização dos dados**"
      ],
      "metadata": {
        "id": "31tOo7ezbJGB"
      }
    },
    {
      "cell_type": "code",
      "source": [
        "sns.countplot(x = base_smarket['Direction']);"
      ],
      "metadata": {
        "colab": {
          "base_uri": "https://localhost:8080/",
          "height": 361
        },
        "id": "H7g6VGSxm-eD",
        "outputId": "de0e5986-024f-4b4b-949a-36b460523977"
      },
      "execution_count": null,
      "outputs": [
        {
          "output_type": "display_data",
          "data": {
            "image/png": "[encoded data removed]",
            "text/plain": [
              "<Figure size 576x396 with 1 Axes>"
            ]
          },
          "metadata": {}
        }
      ]
    },
    {
      "cell_type": "code",
      "source": [
        "sns.countplot(x = base_smarket['Year']);"
      ],
      "metadata": {
        "colab": {
          "base_uri": "https://localhost:8080/",
          "height": 361
        },
        "id": "0eJo-H2B1RGF",
        "outputId": "dc052dd2-6505-4e8a-9761-40d5af361e4b"
      },
      "execution_count": null,
      "outputs": [
        {
          "output_type": "display_data",
          "data": {
            "image/png": "[encoded data removed]",
            "text/plain": [
              "<Figure size 576x396 with 1 Axes>"
            ]
          },
          "metadata": {}
        }
      ]
    },
    {
      "cell_type": "code",
      "source": [
        "plt.hist(x=base_smarket['Volume']);"
      ],
      "metadata": {
        "colab": {
          "base_uri": "https://localhost:8080/",
          "height": 347
        },
        "id": "JGzxgB3Lcd8c",
        "outputId": "f8cc4708-82a6-4114-a78f-2a084219adc4"
      },
      "execution_count": null,
      "outputs": [
        {
          "output_type": "display_data",
          "data": {
            "image/png": "[encoded data removed]",
            "text/plain": [
              "<Figure size 576x396 with 1 Axes>"
            ]
          },
          "metadata": {}
        }
      ]
    },
    {
      "cell_type": "code",
      "source": [
        "sns.distplot(base_smarket['Volume'], hist = True, kde = True);"
      ],
      "metadata": {
        "colab": {
          "base_uri": "https://localhost:8080/",
          "height": 416
        },
        "id": "u3yicDwCq5wJ",
        "outputId": "b4d72e0b-f65e-43ca-d32e-9c428606adfd"
      },
      "execution_count": null,
      "outputs": [
        {
          "output_type": "stream",
          "name": "stderr",
          "text": [
            "/usr/local/lib/python3.7/dist-packages/seaborn/distributions.py:2619: FutureWarning: `distplot` is a deprecated function and will be removed in a future version. Please adapt your code to use either `displot` (a figure-level function with similar flexibility) or `histplot` (an axes-level function for histograms).\n",
            "  warnings.warn(msg, FutureWarning)\n"
          ]
        },
        {
          "output_type": "display_data",
          "data": {
            "image/png": "[encoded data removed]",
            "text/plain": [
              "<Figure size 576x396 with 1 Axes>"
            ]
          },
          "metadata": {}
        }
      ]
    },
    {
      "cell_type": "code",
      "source": [
        "plt.hist(x=base_smarket['Today']);"
      ],
      "metadata": {
        "colab": {
          "base_uri": "https://localhost:8080/",
          "height": 347
        },
        "id": "rNy5xaxgcrDO",
        "outputId": "45998f64-14ad-4ea1-f371-fc9f94e67454"
      },
      "execution_count": null,
      "outputs": [
        {
          "output_type": "display_data",
          "data": {
            "image/png": "[encoded data removed]",
            "text/plain": [
              "<Figure size 576x396 with 1 Axes>"
            ]
          },
          "metadata": {}
        }
      ]
    },
    {
      "cell_type": "code",
      "source": [
        "plt.hist(x=base_smarket['Lag1']);"
      ],
      "metadata": {
        "colab": {
          "base_uri": "https://localhost:8080/",
          "height": 347
        },
        "id": "TAktK69OdD2W",
        "outputId": "2accc465-4c3b-4ace-b9f7-5d61917d1244"
      },
      "execution_count": null,
      "outputs": [
        {
          "output_type": "display_data",
          "data": {
            "image/png": "[encoded data removed]",
            "text/plain": [
              "<Figure size 576x396 with 1 Axes>"
            ]
          },
          "metadata": {}
        }
      ]
    },
    {
      "cell_type": "code",
      "source": [
        "sns.distplot(base_smarket['Lag1'], hist = True, kde = True);"
      ],
      "metadata": {
        "colab": {
          "base_uri": "https://localhost:8080/",
          "height": 416
        },
        "id": "WoiWcZziqsV4",
        "outputId": "6b6498b9-eaa4-449b-d55f-306d33a6633e"
      },
      "execution_count": null,
      "outputs": [
        {
          "output_type": "stream",
          "name": "stderr",
          "text": [
            "/usr/local/lib/python3.7/dist-packages/seaborn/distributions.py:2619: FutureWarning: `distplot` is a deprecated function and will be removed in a future version. Please adapt your code to use either `displot` (a figure-level function with similar flexibility) or `histplot` (an axes-level function for histograms).\n",
            "  warnings.warn(msg, FutureWarning)\n"
          ]
        },
        {
          "output_type": "display_data",
          "data": {
            "image/png": "[encoded data removed]",
            "text/plain": [
              "<Figure size 576x396 with 1 Axes>"
            ]
          },
          "metadata": {}
        }
      ]
    },
    {
      "cell_type": "code",
      "source": [
        "grafico = px.treemap(base_smarket, path=['Direction', 'Year'])\n",
        "grafico.show()"
      ],
      "metadata": {
        "colab": {
          "base_uri": "https://localhost:8080/",
          "height": 542
        },
        "id": "UhiFbnqMdOTs",
        "outputId": "55cf9f5d-ac1a-42cd-cc15-1b7f2fc6ea99"
      },
      "execution_count": null,
      "outputs": [
        {
          "output_type": "display_data",
          "data": {
            "text/html": [
              "<html>\n",
              "<head><meta charset=\"utf-8\" /></head>\n",
              "<body>\n",
              "    <div>            <script src=\"https://cdnjs.cloudflare.com/ajax/libs/mathjax/2.7.5/MathJax.js?config=TeX-AMS-MML_SVG\"></script><script type=\"text/javascript\">if (window.MathJax) {MathJax.Hub.Config({SVG: {font: \"STIX-Web\"}});}</script>                <script type=\"text/javascript\">window.PlotlyConfig = {MathJaxConfig: 'local'};</script>\n",
              "        <script src=\"https://cdn.plot.ly/plotly-2.8.3.min.js\"></script>                <div id=\"693e52f2-5dc7-4be8-a94a-66dffc2fa85a\" class=\"plotly-graph-div\" style=\"height:525px; width:100%;\"></div>            <script type=\"text/javascript\">                                    window.PLOTLYENV=window.PLOTLYENV || {};                                    if (document.getElementById(\"693e52f2-5dc7-4be8-a94a-66dffc2fa85a\")) {                    Plotly.newPlot(                        \"693e52f2-5dc7-4be8-a94a-66dffc2fa85a\",                        [{\"branchvalues\":\"total\",\"domain\":{\"x\":[0.0,1.0],\"y\":[0.0,1.0]},\"hovertemplate\":\"labels=%{label}<br>count=%{value}<br>parent=%{parent}<br>id=%{id}<extra></extra>\",\"ids\":[\"Down/2001\",\"Up/2001\",\"Down/2002\",\"Up/2002\",\"Down/2003\",\"Up/2003\",\"Down/2004\",\"Up/2004\",\"Down/2005\",\"Up/2005\",\"Down\",\"Up\"],\"labels\":[\"2001\",\"2001\",\"2002\",\"2002\",\"2003\",\"2003\",\"2004\",\"2004\",\"2005\",\"2005\",\"Down\",\"Up\"],\"name\":\"\",\"parents\":[\"Down\",\"Up\",\"Down\",\"Up\",\"Down\",\"Up\",\"Down\",\"Up\",\"Down\",\"Up\",\"\",\"\"],\"values\":[125,117,140,112,114,138,112,140,111,141,602,648],\"type\":\"treemap\"}],                        {\"template\":{\"data\":{\"bar\":[{\"error_x\":{\"color\":\"#2a3f5f\"},\"error_y\":{\"color\":\"#2a3f5f\"},\"marker\":{\"line\":{\"color\":\"#E5ECF6\",\"width\":0.5},\"pattern\":{\"fillmode\":\"overlay\",\"size\":10,\"solidity\":0.2}},\"type\":\"bar\"}],\"barpolar\":[{\"marker\":{\"line\":{\"color\":\"#E5ECF6\",\"width\":0.5},\"pattern\":{\"fillmode\":\"overlay\",\"size\":10,\"solidity\":0.2}},\"type\":\"barpolar\"}],\"carpet\":[{\"aaxis\":{\"endlinecolor\":\"#2a3f5f\",\"gridcolor\":\"white\",\"linecolor\":\"white\",\"minorgridcolor\":\"white\",\"startlinecolor\":\"#2a3f5f\"},\"baxis\":{\"endlinecolor\":\"#2a3f5f\",\"gridcolor\":\"white\",\"linecolor\":\"white\",\"minorgridcolor\":\"white\",\"startlinecolor\":\"#2a3f5f\"},\"type\":\"carpet\"}],\"choropleth\":[{\"colorbar\":{\"outlinewidth\":0,\"ticks\":\"\"},\"type\":\"choropleth\"}],\"contour\":[{\"colorbar\":{\"outlinewidth\":0,\"ticks\":\"\"},\"colorscale\":[[0.0,\"#0d0887\"],[0.1111111111111111,\"#46039f\"],[0.2222222222222222,\"#7201a8\"],[0.3333333333333333,\"#9c179e\"],[0.4444444444444444,\"#bd3786\"],[0.5555555555555556,\"#d8576b\"],[0.6666666666666666,\"#ed7953\"],[0.7777777777777778,\"#fb9f3a\"],[0.8888888888888888,\"#fdca26\"],[1.0,\"#f0f921\"]],\"type\":\"contour\"}],\"contourcarpet\":[{\"colorbar\":{\"outlinewidth\":0,\"ticks\":\"\"},\"type\":\"contourcarpet\"}],\"heatmap\":[{\"colorbar\":{\"outlinewidth\":0,\"ticks\":\"\"},\"colorscale\":[[0.0,\"#0d0887\"],[0.1111111111111111,\"#46039f\"],[0.2222222222222222,\"#7201a8\"],[0.3333333333333333,\"#9c179e\"],[0.4444444444444444,\"#bd3786\"],[0.5555555555555556,\"#d8576b\"],[0.6666666666666666,\"#ed7953\"],[0.7777777777777778,\"#fb9f3a\"],[0.8888888888888888,\"#fdca26\"],[1.0,\"#f0f921\"]],\"type\":\"heatmap\"}],\"heatmapgl\":[{\"colorbar\":{\"outlinewidth\":0,\"ticks\":\"\"},\"colorscale\":[[0.0,\"#0d0887\"],[0.1111111111111111,\"#46039f\"],[0.2222222222222222,\"#7201a8\"],[0.3333333333333333,\"#9c179e\"],[0.4444444444444444,\"#bd3786\"],[0.5555555555555556,\"#d8576b\"],[0.6666666666666666,\"#ed7953\"],[0.7777777777777778,\"#fb9f3a\"],[0.8888888888888888,\"#fdca26\"],[1.0,\"#f0f921\"]],\"type\":\"heatmapgl\"}],\"histogram\":[{\"marker\":{\"pattern\":{\"fillmode\":\"overlay\",\"size\":10,\"solidity\":0.2}},\"type\":\"histogram\"}],\"histogram2d\":[{\"colorbar\":{\"outlinewidth\":0,\"ticks\":\"\"},\"colorscale\":[[0.0,\"#0d0887\"],[0.1111111111111111,\"#46039f\"],[0.2222222222222222,\"#7201a8\"],[0.3333333333333333,\"#9c179e\"],[0.4444444444444444,\"#bd3786\"],[0.5555555555555556,\"#d8576b\"],[0.6666666666666666,\"#ed7953\"],[0.7777777777777778,\"#fb9f3a\"],[0.8888888888888888,\"#fdca26\"],[1.0,\"#f0f921\"]],\"type\":\"histogram2d\"}],\"histogram2dcontour\":[{\"colorbar\":{\"outlinewidth\":0,\"ticks\":\"\"},\"colorscale\":[[0.0,\"#0d0887\"],[0.1111111111111111,\"#46039f\"],[0.2222222222222222,\"#7201a8\"],[0.3333333333333333,\"#9c179e\"],[0.4444444444444444,\"#bd3786\"],[0.5555555555555556,\"#d8576b\"],[0.6666666666666666,\"#ed7953\"],[0.7777777777777778,\"#fb9f3a\"],[0.8888888888888888,\"#fdca26\"],[1.0,\"#f0f921\"]],\"type\":\"histogram2dcontour\"}],\"mesh3d\":[{\"colorbar\":{\"outlinewidth\":0,\"ticks\":\"\"},\"type\":\"mesh3d\"}],\"parcoords\":[{\"line\":{\"colorbar\":{\"outlinewidth\":0,\"ticks\":\"\"}},\"type\":\"parcoords\"}],\"pie\":[{\"automargin\":true,\"type\":\"pie\"}],\"scatter\":[{\"marker\":{\"colorbar\":{\"outlinewidth\":0,\"ticks\":\"\"}},\"type\":\"scatter\"}],\"scatter3d\":[{\"line\":{\"colorbar\":{\"outlinewidth\":0,\"ticks\":\"\"}},\"marker\":{\"colorbar\":{\"outlinewidth\":0,\"ticks\":\"\"}},\"type\":\"scatter3d\"}],\"scattercarpet\":[{\"marker\":{\"colorbar\":{\"outlinewidth\":0,\"ticks\":\"\"}},\"type\":\"scattercarpet\"}],\"scattergeo\":[{\"marker\":{\"colorbar\":{\"outlinewidth\":0,\"ticks\":\"\"}},\"type\":\"scattergeo\"}],\"scattergl\":[{\"marker\":{\"colorbar\":{\"outlinewidth\":0,\"ticks\":\"\"}},\"type\":\"scattergl\"}],\"scattermapbox\":[{\"marker\":{\"colorbar\":{\"outlinewidth\":0,\"ticks\":\"\"}},\"type\":\"scattermapbox\"}],\"scatterpolar\":[{\"marker\":{\"colorbar\":{\"outlinewidth\":0,\"ticks\":\"\"}},\"type\":\"scatterpolar\"}],\"scatterpolargl\":[{\"marker\":{\"colorbar\":{\"outlinewidth\":0,\"ticks\":\"\"}},\"type\":\"scatterpolargl\"}],\"scatterternary\":[{\"marker\":{\"colorbar\":{\"outlinewidth\":0,\"ticks\":\"\"}},\"type\":\"scatterternary\"}],\"surface\":[{\"colorbar\":{\"outlinewidth\":0,\"ticks\":\"\"},\"colorscale\":[[0.0,\"#0d0887\"],[0.1111111111111111,\"#46039f\"],[0.2222222222222222,\"#7201a8\"],[0.3333333333333333,\"#9c179e\"],[0.4444444444444444,\"#bd3786\"],[0.5555555555555556,\"#d8576b\"],[0.6666666666666666,\"#ed7953\"],[0.7777777777777778,\"#fb9f3a\"],[0.8888888888888888,\"#fdca26\"],[1.0,\"#f0f921\"]],\"type\":\"surface\"}],\"table\":[{\"cells\":{\"fill\":{\"color\":\"#EBF0F8\"},\"line\":{\"color\":\"white\"}},\"header\":{\"fill\":{\"color\":\"#C8D4E3\"},\"line\":{\"color\":\"white\"}},\"type\":\"table\"}]},\"layout\":{\"annotationdefaults\":{\"arrowcolor\":\"#2a3f5f\",\"arrowhead\":0,\"arrowwidth\":1},\"autotypenumbers\":\"strict\",\"coloraxis\":{\"colorbar\":{\"outlinewidth\":0,\"ticks\":\"\"}},\"colorscale\":{\"diverging\":[[0,\"#8e0152\"],[0.1,\"#c51b7d\"],[0.2,\"#de77ae\"],[0.3,\"#f1b6da\"],[0.4,\"#fde0ef\"],[0.5,\"#f7f7f7\"],[0.6,\"#e6f5d0\"],[0.7,\"#b8e186\"],[0.8,\"#7fbc41\"],[0.9,\"#4d9221\"],[1,\"#276419\"]],\"sequential\":[[0.0,\"#0d0887\"],[0.1111111111111111,\"#46039f\"],[0.2222222222222222,\"#7201a8\"],[0.3333333333333333,\"#9c179e\"],[0.4444444444444444,\"#bd3786\"],[0.5555555555555556,\"#d8576b\"],[0.6666666666666666,\"#ed7953\"],[0.7777777777777778,\"#fb9f3a\"],[0.8888888888888888,\"#fdca26\"],[1.0,\"#f0f921\"]],\"sequentialminus\":[[0.0,\"#0d0887\"],[0.1111111111111111,\"#46039f\"],[0.2222222222222222,\"#7201a8\"],[0.3333333333333333,\"#9c179e\"],[0.4444444444444444,\"#bd3786\"],[0.5555555555555556,\"#d8576b\"],[0.6666666666666666,\"#ed7953\"],[0.7777777777777778,\"#fb9f3a\"],[0.8888888888888888,\"#fdca26\"],[1.0,\"#f0f921\"]]},\"colorway\":[\"#636efa\",\"#EF553B\",\"#00cc96\",\"#ab63fa\",\"#FFA15A\",\"#19d3f3\",\"#FF6692\",\"#B6E880\",\"#FF97FF\",\"#FECB52\"],\"font\":{\"color\":\"#2a3f5f\"},\"geo\":{\"bgcolor\":\"white\",\"lakecolor\":\"white\",\"landcolor\":\"#E5ECF6\",\"showlakes\":true,\"showland\":true,\"subunitcolor\":\"white\"},\"hoverlabel\":{\"align\":\"left\"},\"hovermode\":\"closest\",\"mapbox\":{\"style\":\"light\"},\"paper_bgcolor\":\"white\",\"plot_bgcolor\":\"#E5ECF6\",\"polar\":{\"angularaxis\":{\"gridcolor\":\"white\",\"linecolor\":\"white\",\"ticks\":\"\"},\"bgcolor\":\"#E5ECF6\",\"radialaxis\":{\"gridcolor\":\"white\",\"linecolor\":\"white\",\"ticks\":\"\"}},\"scene\":{\"xaxis\":{\"backgroundcolor\":\"#E5ECF6\",\"gridcolor\":\"white\",\"gridwidth\":2,\"linecolor\":\"white\",\"showbackground\":true,\"ticks\":\"\",\"zerolinecolor\":\"white\"},\"yaxis\":{\"backgroundcolor\":\"#E5ECF6\",\"gridcolor\":\"white\",\"gridwidth\":2,\"linecolor\":\"white\",\"showbackground\":true,\"ticks\":\"\",\"zerolinecolor\":\"white\"},\"zaxis\":{\"backgroundcolor\":\"#E5ECF6\",\"gridcolor\":\"white\",\"gridwidth\":2,\"linecolor\":\"white\",\"showbackground\":true,\"ticks\":\"\",\"zerolinecolor\":\"white\"}},\"shapedefaults\":{\"line\":{\"color\":\"#2a3f5f\"}},\"ternary\":{\"aaxis\":{\"gridcolor\":\"white\",\"linecolor\":\"white\",\"ticks\":\"\"},\"baxis\":{\"gridcolor\":\"white\",\"linecolor\":\"white\",\"ticks\":\"\"},\"bgcolor\":\"#E5ECF6\",\"caxis\":{\"gridcolor\":\"white\",\"linecolor\":\"white\",\"ticks\":\"\"}},\"title\":{\"x\":0.05},\"xaxis\":{\"automargin\":true,\"gridcolor\":\"white\",\"linecolor\":\"white\",\"ticks\":\"\",\"title\":{\"standoff\":15},\"zerolinecolor\":\"white\",\"zerolinewidth\":2},\"yaxis\":{\"automargin\":true,\"gridcolor\":\"white\",\"linecolor\":\"white\",\"ticks\":\"\",\"title\":{\"standoff\":15},\"zerolinecolor\":\"white\",\"zerolinewidth\":2}}},\"legend\":{\"tracegroupgap\":0},\"margin\":{\"t\":60}},                        {\"responsive\": true}                    ).then(function(){\n",
              "                            \n",
              "var gd = document.getElementById('693e52f2-5dc7-4be8-a94a-66dffc2fa85a');\n",
              "var x = new MutationObserver(function (mutations, observer) {{\n",
              "        var display = window.getComputedStyle(gd).display;\n",
              "        if (!display || display === 'none') {{\n",
              "            console.log([gd, 'removed!']);\n",
              "            Plotly.purge(gd);\n",
              "            observer.disconnect();\n",
              "        }}\n",
              "}});\n",
              "\n",
              "// Listen for the removal of the full notebook cells\n",
              "var notebookContainer = gd.closest('#notebook-container');\n",
              "if (notebookContainer) {{\n",
              "    x.observe(notebookContainer, {childList: true});\n",
              "}}\n",
              "\n",
              "// Listen for the clearing of the current output cell\n",
              "var outputEl = gd.closest('.output');\n",
              "if (outputEl) {{\n",
              "    x.observe(outputEl, {childList: true});\n",
              "}}\n",
              "\n",
              "                        })                };                            </script>        </div>\n",
              "</body>\n",
              "</html>"
            ]
          },
          "metadata": {}
        }
      ]
    },
    {
      "cell_type": "markdown",
      "source": [
        "#**Divisão entre previsores e classe - Ano: 2005**"
      ],
      "metadata": {
        "id": "dGzqUP2moPNU"
      }
    },
    {
      "cell_type": "code",
      "source": [
        "base_smarket_2005 = base_smarket[base_smarket['Year']==2005]\n",
        "base_smarket_2005"
      ],
      "metadata": {
        "colab": {
          "base_uri": "https://localhost:8080/",
          "height": 424
        },
        "id": "rJFL_nn33-k9",
        "outputId": "45b973fb-41d1-4d0a-e0f8-9befb2fb0dae"
      },
      "execution_count": null,
      "outputs": [
        {
          "output_type": "execute_result",
          "data": {
            "text/html": [
              "\n",
              "  <div id=\"df-4d384b1c-bbc1-4367-b506-c9503e97fa08\">\n",
              "    <div class=\"colab-df-container\">\n",
              "      <div>\n",
              "<style scoped>\n",
              "    .dataframe tbody tr th:only-of-type {\n",
              "        vertical-align: middle;\n",
              "    }\n",
              "\n",
              "    .dataframe tbody tr th {\n",
              "        vertical-align: top;\n",
              "    }\n",
              "\n",
              "    .dataframe thead th {\n",
              "        text-align: right;\n",
              "    }\n",
              "</style>\n",
              "<table border=\"1\" class=\"dataframe\">\n",
              "  <thead>\n",
              "    <tr style=\"text-align: right;\">\n",
              "      <th></th>\n",
              "      <th>Year</th>\n",
              "      <th>Lag1</th>\n",
              "      <th>Lag2</th>\n",
              "      <th>Lag3</th>\n",
              "      <th>Lag4</th>\n",
              "      <th>Lag5</th>\n",
              "      <th>Volume</th>\n",
              "      <th>Today</th>\n",
              "      <th>Direction</th>\n",
              "    </tr>\n",
              "  </thead>\n",
              "  <tbody>\n",
              "    <tr>\n",
              "      <th>998</th>\n",
              "      <td>2005</td>\n",
              "      <td>-0.134</td>\n",
              "      <td>0.008</td>\n",
              "      <td>-0.007</td>\n",
              "      <td>0.715</td>\n",
              "      <td>-0.431</td>\n",
              "      <td>0.78690</td>\n",
              "      <td>-0.812</td>\n",
              "      <td>Down</td>\n",
              "    </tr>\n",
              "    <tr>\n",
              "      <th>999</th>\n",
              "      <td>2005</td>\n",
              "      <td>-0.812</td>\n",
              "      <td>-0.134</td>\n",
              "      <td>0.008</td>\n",
              "      <td>-0.007</td>\n",
              "      <td>0.715</td>\n",
              "      <td>1.51080</td>\n",
              "      <td>-1.167</td>\n",
              "      <td>Down</td>\n",
              "    </tr>\n",
              "    <tr>\n",
              "      <th>1000</th>\n",
              "      <td>2005</td>\n",
              "      <td>-1.167</td>\n",
              "      <td>-0.812</td>\n",
              "      <td>-0.134</td>\n",
              "      <td>0.008</td>\n",
              "      <td>-0.007</td>\n",
              "      <td>1.72100</td>\n",
              "      <td>-0.363</td>\n",
              "      <td>Down</td>\n",
              "    </tr>\n",
              "    <tr>\n",
              "      <th>1001</th>\n",
              "      <td>2005</td>\n",
              "      <td>-0.363</td>\n",
              "      <td>-1.167</td>\n",
              "      <td>-0.812</td>\n",
              "      <td>-0.134</td>\n",
              "      <td>0.008</td>\n",
              "      <td>1.73890</td>\n",
              "      <td>0.351</td>\n",
              "      <td>Up</td>\n",
              "    </tr>\n",
              "    <tr>\n",
              "      <th>1002</th>\n",
              "      <td>2005</td>\n",
              "      <td>0.351</td>\n",
              "      <td>-0.363</td>\n",
              "      <td>-1.167</td>\n",
              "      <td>-0.812</td>\n",
              "      <td>-0.134</td>\n",
              "      <td>1.56910</td>\n",
              "      <td>-0.143</td>\n",
              "      <td>Down</td>\n",
              "    </tr>\n",
              "    <tr>\n",
              "      <th>...</th>\n",
              "      <td>...</td>\n",
              "      <td>...</td>\n",
              "      <td>...</td>\n",
              "      <td>...</td>\n",
              "      <td>...</td>\n",
              "      <td>...</td>\n",
              "      <td>...</td>\n",
              "      <td>...</td>\n",
              "      <td>...</td>\n",
              "    </tr>\n",
              "    <tr>\n",
              "      <th>1245</th>\n",
              "      <td>2005</td>\n",
              "      <td>0.422</td>\n",
              "      <td>0.252</td>\n",
              "      <td>-0.024</td>\n",
              "      <td>-0.584</td>\n",
              "      <td>-0.285</td>\n",
              "      <td>1.88850</td>\n",
              "      <td>0.043</td>\n",
              "      <td>Up</td>\n",
              "    </tr>\n",
              "    <tr>\n",
              "      <th>1246</th>\n",
              "      <td>2005</td>\n",
              "      <td>0.043</td>\n",
              "      <td>0.422</td>\n",
              "      <td>0.252</td>\n",
              "      <td>-0.024</td>\n",
              "      <td>-0.584</td>\n",
              "      <td>1.28581</td>\n",
              "      <td>-0.955</td>\n",
              "      <td>Down</td>\n",
              "    </tr>\n",
              "    <tr>\n",
              "      <th>1247</th>\n",
              "      <td>2005</td>\n",
              "      <td>-0.955</td>\n",
              "      <td>0.043</td>\n",
              "      <td>0.422</td>\n",
              "      <td>0.252</td>\n",
              "      <td>-0.024</td>\n",
              "      <td>1.54047</td>\n",
              "      <td>0.130</td>\n",
              "      <td>Up</td>\n",
              "    </tr>\n",
              "    <tr>\n",
              "      <th>1248</th>\n",
              "      <td>2005</td>\n",
              "      <td>0.130</td>\n",
              "      <td>-0.955</td>\n",
              "      <td>0.043</td>\n",
              "      <td>0.422</td>\n",
              "      <td>0.252</td>\n",
              "      <td>1.42236</td>\n",
              "      <td>-0.298</td>\n",
              "      <td>Down</td>\n",
              "    </tr>\n",
              "    <tr>\n",
              "      <th>1249</th>\n",
              "      <td>2005</td>\n",
              "      <td>-0.298</td>\n",
              "      <td>0.130</td>\n",
              "      <td>-0.955</td>\n",
              "      <td>0.043</td>\n",
              "      <td>0.422</td>\n",
              "      <td>1.38254</td>\n",
              "      <td>-0.489</td>\n",
              "      <td>Down</td>\n",
              "    </tr>\n",
              "  </tbody>\n",
              "</table>\n",
              "<p>252 rows × 9 columns</p>\n",
              "</div>\n",
              "      <button class=\"colab-df-convert\" onclick=\"convertToInteractive('df-4d384b1c-bbc1-4367-b506-c9503e97fa08')\"\n",
              "              title=\"Convert this dataframe to an interactive table.\"\n",
              "              style=\"display:none;\">\n",
              "        \n",
              "  <svg xmlns=\"http://www.w3.org/2000/svg\" height=\"24px\"viewBox=\"0 0 24 24\"\n",
              "       width=\"24px\">\n",
              "    <path d=\"M0 0h24v24H0V0z\" fill=\"none\"/>\n",
              "    <path d=\"M18.56 5.44l.94 2.06.94-2.06 2.06-.94-2.06-.94-.94-2.06-.94 2.06-2.06.94zm-11 1L8.5 8.5l.94-2.06 2.06-.94-2.06-.94L8.5 2.5l-.94 2.06-2.06.94zm10 10l.94 2.06.94-2.06 2.06-.94-2.06-.94-.94-2.06-.94 2.06-2.06.94z\"/><path d=\"M17.41 7.96l-1.37-1.37c-.4-.4-.92-.59-1.43-.59-.52 0-1.04.2-1.43.59L10.3 9.45l-7.72 7.72c-.78.78-.78 2.05 0 2.83L4 21.41c.39.39.9.59 1.41.59.51 0 1.02-.2 1.41-.59l7.78-7.78 2.81-2.81c.8-.78.8-2.07 0-2.86zM5.41 20L4 18.59l7.72-7.72 1.47 1.35L5.41 20z\"/>\n",
              "  </svg>\n",
              "      </button>\n",
              "      \n",
              "  <style>\n",
              "    .colab-df-container {\n",
              "      display:flex;\n",
              "      flex-wrap:wrap;\n",
              "      gap: 12px;\n",
              "    }\n",
              "\n",
              "    .colab-df-convert {\n",
              "      background-color: #E8F0FE;\n",
              "      border: none;\n",
              "      border-radius: 50%;\n",
              "      cursor: pointer;\n",
              "      display: none;\n",
              "      fill: #1967D2;\n",
              "      height: 32px;\n",
              "      padding: 0 0 0 0;\n",
              "      width: 32px;\n",
              "    }\n",
              "\n",
              "    .colab-df-convert:hover {\n",
              "      background-color: #E2EBFA;\n",
              "      box-shadow: 0px 1px 2px rgba(60, 64, 67, 0.3), 0px 1px 3px 1px rgba(60, 64, 67, 0.15);\n",
              "      fill: #174EA6;\n",
              "    }\n",
              "\n",
              "    [theme=dark] .colab-df-convert {\n",
              "      background-color: #3B4455;\n",
              "      fill: #D2E3FC;\n",
              "    }\n",
              "\n",
              "    [theme=dark] .colab-df-convert:hover {\n",
              "      background-color: #434B5C;\n",
              "      box-shadow: 0px 1px 3px 1px rgba(0, 0, 0, 0.15);\n",
              "      filter: drop-shadow(0px 1px 2px rgba(0, 0, 0, 0.3));\n",
              "      fill: #FFFFFF;\n",
              "    }\n",
              "  </style>\n",
              "\n",
              "      <script>\n",
              "        const buttonEl =\n",
              "          document.querySelector('#df-4d384b1c-bbc1-4367-b506-c9503e97fa08 button.colab-df-convert');\n",
              "        buttonEl.style.display =\n",
              "          google.colab.kernel.accessAllowed ? 'block' : 'none';\n",
              "\n",
              "        async function convertToInteractive(key) {\n",
              "          const element = document.querySelector('#df-4d384b1c-bbc1-4367-b506-c9503e97fa08');\n",
              "          const dataTable =\n",
              "            await google.colab.kernel.invokeFunction('convertToInteractive',\n",
              "                                                     [key], {});\n",
              "          if (!dataTable) return;\n",
              "\n",
              "          const docLinkHtml = 'Like what you see? Visit the ' +\n",
              "            '<a target=\"_blank\" href=https://colab.research.google.com/notebooks/data_table.ipynb>data table notebook</a>'\n",
              "            + ' to learn more about interactive tables.';\n",
              "          element.innerHTML = '';\n",
              "          dataTable['output_type'] = 'display_data';\n",
              "          await google.colab.output.renderOutput(dataTable, element);\n",
              "          const docLink = document.createElement('div');\n",
              "          docLink.innerHTML = docLinkHtml;\n",
              "          element.appendChild(docLink);\n",
              "        }\n",
              "      </script>\n",
              "    </div>\n",
              "  </div>\n",
              "  "
            ],
            "text/plain": [
              "      Year   Lag1   Lag2   Lag3   Lag4   Lag5   Volume  Today Direction\n",
              "998   2005 -0.134  0.008 -0.007  0.715 -0.431  0.78690 -0.812      Down\n",
              "999   2005 -0.812 -0.134  0.008 -0.007  0.715  1.51080 -1.167      Down\n",
              "1000  2005 -1.167 -0.812 -0.134  0.008 -0.007  1.72100 -0.363      Down\n",
              "1001  2005 -0.363 -1.167 -0.812 -0.134  0.008  1.73890  0.351        Up\n",
              "1002  2005  0.351 -0.363 -1.167 -0.812 -0.134  1.56910 -0.143      Down\n",
              "...    ...    ...    ...    ...    ...    ...      ...    ...       ...\n",
              "1245  2005  0.422  0.252 -0.024 -0.584 -0.285  1.88850  0.043        Up\n",
              "1246  2005  0.043  0.422  0.252 -0.024 -0.584  1.28581 -0.955      Down\n",
              "1247  2005 -0.955  0.043  0.422  0.252 -0.024  1.54047  0.130        Up\n",
              "1248  2005  0.130 -0.955  0.043  0.422  0.252  1.42236 -0.298      Down\n",
              "1249  2005 -0.298  0.130 -0.955  0.043  0.422  1.38254 -0.489      Down\n",
              "\n",
              "[252 rows x 9 columns]"
            ]
          },
          "metadata": {},
          "execution_count": 17
        }
      ]
    },
    {
      "cell_type": "code",
      "source": [
        "X_base_smarket_teste = base_smarket_2005.iloc[:, 0:8].values\n",
        "X_base_smarket_teste"
      ],
      "metadata": {
        "colab": {
          "base_uri": "https://localhost:8080/"
        },
        "id": "JOaC3yPg5Bxf",
        "outputId": "0b0d5426-076b-4551-e118-a675431daf32"
      },
      "execution_count": null,
      "outputs": [
        {
          "output_type": "execute_result",
          "data": {
            "text/plain": [
              "array([[ 2.00500e+03, -1.34000e-01,  8.00000e-03, ..., -4.31000e-01,\n",
              "         7.86900e-01, -8.12000e-01],\n",
              "       [ 2.00500e+03, -8.12000e-01, -1.34000e-01, ...,  7.15000e-01,\n",
              "         1.51080e+00, -1.16700e+00],\n",
              "       [ 2.00500e+03, -1.16700e+00, -8.12000e-01, ..., -7.00000e-03,\n",
              "         1.72100e+00, -3.63000e-01],\n",
              "       ...,\n",
              "       [ 2.00500e+03, -9.55000e-01,  4.30000e-02, ..., -2.40000e-02,\n",
              "         1.54047e+00,  1.30000e-01],\n",
              "       [ 2.00500e+03,  1.30000e-01, -9.55000e-01, ...,  2.52000e-01,\n",
              "         1.42236e+00, -2.98000e-01],\n",
              "       [ 2.00500e+03, -2.98000e-01,  1.30000e-01, ...,  4.22000e-01,\n",
              "         1.38254e+00, -4.89000e-01]])"
            ]
          },
          "metadata": {},
          "execution_count": 18
        }
      ]
    },
    {
      "cell_type": "code",
      "source": [
        "y_base_smarket_teste = base_smarket_2005.iloc[:, 8].values\n",
        "y_base_smarket_teste"
      ],
      "metadata": {
        "colab": {
          "base_uri": "https://localhost:8080/"
        },
        "id": "Zahifi0l5v1h",
        "outputId": "f9f502dd-96a3-4f63-fb17-fd6aa72164ca"
      },
      "execution_count": null,
      "outputs": [
        {
          "output_type": "execute_result",
          "data": {
            "text/plain": [
              "array(['Down', 'Down', 'Down', 'Up', 'Down', 'Up', 'Down', 'Up', 'Down',\n",
              "       'Up', 'Up', 'Down', 'Down', 'Down', 'Down', 'Up', 'Up', 'Up',\n",
              "       'Down', 'Up', 'Up', 'Up', 'Down', 'Up', 'Down', 'Up', 'Down', 'Up',\n",
              "       'Up', 'Up', 'Up', 'Up', 'Down', 'Up', 'Down', 'Up', 'Up', 'Up',\n",
              "       'Down', 'Up', 'Down', 'Up', 'Up', 'Up', 'Down', 'Down', 'Up',\n",
              "       'Down', 'Up', 'Down', 'Down', 'Up', 'Down', 'Down', 'Down', 'Up',\n",
              "       'Down', 'Up', 'Down', 'Up', 'Down', 'Down', 'Up', 'Up', 'Up', 'Up',\n",
              "       'Down', 'Up', 'Up', 'Down', 'Down', 'Down', 'Up', 'Up', 'Down',\n",
              "       'Up', 'Down', 'Up', 'Down', 'Up', 'Down', 'Up', 'Up', 'Down', 'Up',\n",
              "       'Down', 'Down', 'Up', 'Down', 'Up', 'Down', 'Down', 'Up', 'Up',\n",
              "       'Up', 'Up', 'Down', 'Up', 'Up', 'Down', 'Up', 'Up', 'Down', 'Up',\n",
              "       'Up', 'Down', 'Up', 'Down', 'Down', 'Up', 'Down', 'Up', 'Up', 'Up',\n",
              "       'Up', 'Up', 'Down', 'Down', 'Up', 'Down', 'Down', 'Down', 'Up',\n",
              "       'Down', 'Down', 'Up', 'Up', 'Down', 'Up', 'Up', 'Up', 'Up', 'Up',\n",
              "       'Up', 'Up', 'Down', 'Up', 'Up', 'Down', 'Up', 'Down', 'Up', 'Up',\n",
              "       'Up', 'Down', 'Up', 'Up', 'Up', 'Down', 'Down', 'Down', 'Up',\n",
              "       'Down', 'Up', 'Down', 'Up', 'Down', 'Up', 'Down', 'Up', 'Up',\n",
              "       'Down', 'Down', 'Up', 'Down', 'Up', 'Down', 'Up', 'Up', 'Down',\n",
              "       'Up', 'Up', 'Down', 'Up', 'Down', 'Down', 'Down', 'Up', 'Up',\n",
              "       'Down', 'Down', 'Down', 'Up', 'Up', 'Up', 'Up', 'Up', 'Up', 'Up',\n",
              "       'Down', 'Down', 'Down', 'Down', 'Up', 'Down', 'Down', 'Down',\n",
              "       'Down', 'Up', 'Up', 'Down', 'Up', 'Down', 'Up', 'Up', 'Down',\n",
              "       'Down', 'Down', 'Up', 'Up', 'Down', 'Up', 'Up', 'Up', 'Up', 'Down',\n",
              "       'Up', 'Up', 'Up', 'Down', 'Down', 'Up', 'Up', 'Up', 'Up', 'Up',\n",
              "       'Up', 'Up', 'Down', 'Up', 'Down', 'Up', 'Up', 'Down', 'Up', 'Down',\n",
              "       'Down', 'Up', 'Up', 'Up', 'Up', 'Down', 'Down', 'Down', 'Down',\n",
              "       'Up', 'Up', 'Up', 'Down', 'Up', 'Down', 'Down'], dtype=object)"
            ]
          },
          "metadata": {},
          "execution_count": 19
        }
      ]
    },
    {
      "cell_type": "code",
      "source": [
        "base_smarket_treinamento_handled = base_smarket[base_smarket['Year']!=2005]\n",
        "base_smarket_treinamento_handled"
      ],
      "metadata": {
        "colab": {
          "base_uri": "https://localhost:8080/",
          "height": 424
        },
        "id": "YFw8Pk1x6CLR",
        "outputId": "0decfa5a-67b4-4f32-8a25-b24656ad1792"
      },
      "execution_count": null,
      "outputs": [
        {
          "output_type": "execute_result",
          "data": {
            "text/html": [
              "\n",
              "  <div id=\"df-23ff26f5-7a52-4b4f-8058-17c498a71219\">\n",
              "    <div class=\"colab-df-container\">\n",
              "      <div>\n",
              "<style scoped>\n",
              "    .dataframe tbody tr th:only-of-type {\n",
              "        vertical-align: middle;\n",
              "    }\n",
              "\n",
              "    .dataframe tbody tr th {\n",
              "        vertical-align: top;\n",
              "    }\n",
              "\n",
              "    .dataframe thead th {\n",
              "        text-align: right;\n",
              "    }\n",
              "</style>\n",
              "<table border=\"1\" class=\"dataframe\">\n",
              "  <thead>\n",
              "    <tr style=\"text-align: right;\">\n",
              "      <th></th>\n",
              "      <th>Year</th>\n",
              "      <th>Lag1</th>\n",
              "      <th>Lag2</th>\n",
              "      <th>Lag3</th>\n",
              "      <th>Lag4</th>\n",
              "      <th>Lag5</th>\n",
              "      <th>Volume</th>\n",
              "      <th>Today</th>\n",
              "      <th>Direction</th>\n",
              "    </tr>\n",
              "  </thead>\n",
              "  <tbody>\n",
              "    <tr>\n",
              "      <th>0</th>\n",
              "      <td>2001</td>\n",
              "      <td>0.381</td>\n",
              "      <td>-0.192</td>\n",
              "      <td>-2.624</td>\n",
              "      <td>-1.055</td>\n",
              "      <td>5.010</td>\n",
              "      <td>1.1913</td>\n",
              "      <td>0.959</td>\n",
              "      <td>Up</td>\n",
              "    </tr>\n",
              "    <tr>\n",
              "      <th>1</th>\n",
              "      <td>2001</td>\n",
              "      <td>0.959</td>\n",
              "      <td>0.381</td>\n",
              "      <td>-0.192</td>\n",
              "      <td>-2.624</td>\n",
              "      <td>-1.055</td>\n",
              "      <td>1.2965</td>\n",
              "      <td>1.032</td>\n",
              "      <td>Up</td>\n",
              "    </tr>\n",
              "    <tr>\n",
              "      <th>2</th>\n",
              "      <td>2001</td>\n",
              "      <td>1.032</td>\n",
              "      <td>0.959</td>\n",
              "      <td>0.381</td>\n",
              "      <td>-0.192</td>\n",
              "      <td>-2.624</td>\n",
              "      <td>1.4112</td>\n",
              "      <td>-0.623</td>\n",
              "      <td>Down</td>\n",
              "    </tr>\n",
              "    <tr>\n",
              "      <th>3</th>\n",
              "      <td>2001</td>\n",
              "      <td>-0.623</td>\n",
              "      <td>1.032</td>\n",
              "      <td>0.959</td>\n",
              "      <td>0.381</td>\n",
              "      <td>-0.192</td>\n",
              "      <td>1.2760</td>\n",
              "      <td>0.614</td>\n",
              "      <td>Up</td>\n",
              "    </tr>\n",
              "    <tr>\n",
              "      <th>4</th>\n",
              "      <td>2001</td>\n",
              "      <td>0.614</td>\n",
              "      <td>-0.623</td>\n",
              "      <td>1.032</td>\n",
              "      <td>0.959</td>\n",
              "      <td>0.381</td>\n",
              "      <td>1.2057</td>\n",
              "      <td>0.213</td>\n",
              "      <td>Up</td>\n",
              "    </tr>\n",
              "    <tr>\n",
              "      <th>...</th>\n",
              "      <td>...</td>\n",
              "      <td>...</td>\n",
              "      <td>...</td>\n",
              "      <td>...</td>\n",
              "      <td>...</td>\n",
              "      <td>...</td>\n",
              "      <td>...</td>\n",
              "      <td>...</td>\n",
              "      <td>...</td>\n",
              "    </tr>\n",
              "    <tr>\n",
              "      <th>993</th>\n",
              "      <td>2004</td>\n",
              "      <td>0.046</td>\n",
              "      <td>0.342</td>\n",
              "      <td>0.904</td>\n",
              "      <td>0.038</td>\n",
              "      <td>-0.749</td>\n",
              "      <td>0.9561</td>\n",
              "      <td>-0.431</td>\n",
              "      <td>Down</td>\n",
              "    </tr>\n",
              "    <tr>\n",
              "      <th>994</th>\n",
              "      <td>2004</td>\n",
              "      <td>-0.431</td>\n",
              "      <td>0.046</td>\n",
              "      <td>0.342</td>\n",
              "      <td>0.904</td>\n",
              "      <td>0.038</td>\n",
              "      <td>0.9220</td>\n",
              "      <td>0.715</td>\n",
              "      <td>Up</td>\n",
              "    </tr>\n",
              "    <tr>\n",
              "      <th>995</th>\n",
              "      <td>2004</td>\n",
              "      <td>0.715</td>\n",
              "      <td>-0.431</td>\n",
              "      <td>0.046</td>\n",
              "      <td>0.342</td>\n",
              "      <td>0.904</td>\n",
              "      <td>0.9830</td>\n",
              "      <td>-0.007</td>\n",
              "      <td>Down</td>\n",
              "    </tr>\n",
              "    <tr>\n",
              "      <th>996</th>\n",
              "      <td>2004</td>\n",
              "      <td>-0.007</td>\n",
              "      <td>0.715</td>\n",
              "      <td>-0.431</td>\n",
              "      <td>0.046</td>\n",
              "      <td>0.342</td>\n",
              "      <td>0.9259</td>\n",
              "      <td>0.008</td>\n",
              "      <td>Up</td>\n",
              "    </tr>\n",
              "    <tr>\n",
              "      <th>997</th>\n",
              "      <td>2004</td>\n",
              "      <td>0.008</td>\n",
              "      <td>-0.007</td>\n",
              "      <td>0.715</td>\n",
              "      <td>-0.431</td>\n",
              "      <td>0.046</td>\n",
              "      <td>0.8298</td>\n",
              "      <td>-0.134</td>\n",
              "      <td>Down</td>\n",
              "    </tr>\n",
              "  </tbody>\n",
              "</table>\n",
              "<p>998 rows × 9 columns</p>\n",
              "</div>\n",
              "      <button class=\"colab-df-convert\" onclick=\"convertToInteractive('df-23ff26f5-7a52-4b4f-8058-17c498a71219')\"\n",
              "              title=\"Convert this dataframe to an interactive table.\"\n",
              "              style=\"display:none;\">\n",
              "        \n",
              "  <svg xmlns=\"http://www.w3.org/2000/svg\" height=\"24px\"viewBox=\"0 0 24 24\"\n",
              "       width=\"24px\">\n",
              "    <path d=\"M0 0h24v24H0V0z\" fill=\"none\"/>\n",
              "    <path d=\"M18.56 5.44l.94 2.06.94-2.06 2.06-.94-2.06-.94-.94-2.06-.94 2.06-2.06.94zm-11 1L8.5 8.5l.94-2.06 2.06-.94-2.06-.94L8.5 2.5l-.94 2.06-2.06.94zm10 10l.94 2.06.94-2.06 2.06-.94-2.06-.94-.94-2.06-.94 2.06-2.06.94z\"/><path d=\"M17.41 7.96l-1.37-1.37c-.4-.4-.92-.59-1.43-.59-.52 0-1.04.2-1.43.59L10.3 9.45l-7.72 7.72c-.78.78-.78 2.05 0 2.83L4 21.41c.39.39.9.59 1.41.59.51 0 1.02-.2 1.41-.59l7.78-7.78 2.81-2.81c.8-.78.8-2.07 0-2.86zM5.41 20L4 18.59l7.72-7.72 1.47 1.35L5.41 20z\"/>\n",
              "  </svg>\n",
              "      </button>\n",
              "      \n",
              "  <style>\n",
              "    .colab-df-container {\n",
              "      display:flex;\n",
              "      flex-wrap:wrap;\n",
              "      gap: 12px;\n",
              "    }\n",
              "\n",
              "    .colab-df-convert {\n",
              "      background-color: #E8F0FE;\n",
              "      border: none;\n",
              "      border-radius: 50%;\n",
              "      cursor: pointer;\n",
              "      display: none;\n",
              "      fill: #1967D2;\n",
              "      height: 32px;\n",
              "      padding: 0 0 0 0;\n",
              "      width: 32px;\n",
              "    }\n",
              "\n",
              "    .colab-df-convert:hover {\n",
              "      background-color: #E2EBFA;\n",
              "      box-shadow: 0px 1px 2px rgba(60, 64, 67, 0.3), 0px 1px 3px 1px rgba(60, 64, 67, 0.15);\n",
              "      fill: #174EA6;\n",
              "    }\n",
              "\n",
              "    [theme=dark] .colab-df-convert {\n",
              "      background-color: #3B4455;\n",
              "      fill: #D2E3FC;\n",
              "    }\n",
              "\n",
              "    [theme=dark] .colab-df-convert:hover {\n",
              "      background-color: #434B5C;\n",
              "      box-shadow: 0px 1px 3px 1px rgba(0, 0, 0, 0.15);\n",
              "      filter: drop-shadow(0px 1px 2px rgba(0, 0, 0, 0.3));\n",
              "      fill: #FFFFFF;\n",
              "    }\n",
              "  </style>\n",
              "\n",
              "      <script>\n",
              "        const buttonEl =\n",
              "          document.querySelector('#df-23ff26f5-7a52-4b4f-8058-17c498a71219 button.colab-df-convert');\n",
              "        buttonEl.style.display =\n",
              "          google.colab.kernel.accessAllowed ? 'block' : 'none';\n",
              "\n",
              "        async function convertToInteractive(key) {\n",
              "          const element = document.querySelector('#df-23ff26f5-7a52-4b4f-8058-17c498a71219');\n",
              "          const dataTable =\n",
              "            await google.colab.kernel.invokeFunction('convertToInteractive',\n",
              "                                                     [key], {});\n",
              "          if (!dataTable) return;\n",
              "\n",
              "          const docLinkHtml = 'Like what you see? Visit the ' +\n",
              "            '<a target=\"_blank\" href=https://colab.research.google.com/notebooks/data_table.ipynb>data table notebook</a>'\n",
              "            + ' to learn more about interactive tables.';\n",
              "          element.innerHTML = '';\n",
              "          dataTable['output_type'] = 'display_data';\n",
              "          await google.colab.output.renderOutput(dataTable, element);\n",
              "          const docLink = document.createElement('div');\n",
              "          docLink.innerHTML = docLinkHtml;\n",
              "          element.appendChild(docLink);\n",
              "        }\n",
              "      </script>\n",
              "    </div>\n",
              "  </div>\n",
              "  "
            ],
            "text/plain": [
              "     Year   Lag1   Lag2   Lag3   Lag4   Lag5  Volume  Today Direction\n",
              "0    2001  0.381 -0.192 -2.624 -1.055  5.010  1.1913  0.959        Up\n",
              "1    2001  0.959  0.381 -0.192 -2.624 -1.055  1.2965  1.032        Up\n",
              "2    2001  1.032  0.959  0.381 -0.192 -2.624  1.4112 -0.623      Down\n",
              "3    2001 -0.623  1.032  0.959  0.381 -0.192  1.2760  0.614        Up\n",
              "4    2001  0.614 -0.623  1.032  0.959  0.381  1.2057  0.213        Up\n",
              "..    ...    ...    ...    ...    ...    ...     ...    ...       ...\n",
              "993  2004  0.046  0.342  0.904  0.038 -0.749  0.9561 -0.431      Down\n",
              "994  2004 -0.431  0.046  0.342  0.904  0.038  0.9220  0.715        Up\n",
              "995  2004  0.715 -0.431  0.046  0.342  0.904  0.9830 -0.007      Down\n",
              "996  2004 -0.007  0.715 -0.431  0.046  0.342  0.9259  0.008        Up\n",
              "997  2004  0.008 -0.007  0.715 -0.431  0.046  0.8298 -0.134      Down\n",
              "\n",
              "[998 rows x 9 columns]"
            ]
          },
          "metadata": {},
          "execution_count": 20
        }
      ]
    },
    {
      "cell_type": "code",
      "source": [
        "X_base_smarket_treinamento = base_smarket_treinamento_handled.iloc[:, 0:8].values\n",
        "X_base_smarket_treinamento"
      ],
      "metadata": {
        "colab": {
          "base_uri": "https://localhost:8080/"
        },
        "id": "IWbcwgMc7bN0",
        "outputId": "39b3405a-3068-48bf-c297-1f6c159db526"
      },
      "execution_count": null,
      "outputs": [
        {
          "output_type": "execute_result",
          "data": {
            "text/plain": [
              "array([[ 2.0010e+03,  3.8100e-01, -1.9200e-01, ...,  5.0100e+00,\n",
              "         1.1913e+00,  9.5900e-01],\n",
              "       [ 2.0010e+03,  9.5900e-01,  3.8100e-01, ..., -1.0550e+00,\n",
              "         1.2965e+00,  1.0320e+00],\n",
              "       [ 2.0010e+03,  1.0320e+00,  9.5900e-01, ..., -2.6240e+00,\n",
              "         1.4112e+00, -6.2300e-01],\n",
              "       ...,\n",
              "       [ 2.0040e+03,  7.1500e-01, -4.3100e-01, ...,  9.0400e-01,\n",
              "         9.8300e-01, -7.0000e-03],\n",
              "       [ 2.0040e+03, -7.0000e-03,  7.1500e-01, ...,  3.4200e-01,\n",
              "         9.2590e-01,  8.0000e-03],\n",
              "       [ 2.0040e+03,  8.0000e-03, -7.0000e-03, ...,  4.6000e-02,\n",
              "         8.2980e-01, -1.3400e-01]])"
            ]
          },
          "metadata": {},
          "execution_count": 21
        }
      ]
    },
    {
      "cell_type": "code",
      "source": [
        "y_base_smarket_treinamento = base_smarket_treinamento_handled.iloc[:, 8].values\n",
        "y_base_smarket_treinamento"
      ],
      "metadata": {
        "colab": {
          "base_uri": "https://localhost:8080/"
        },
        "id": "Y3_mpkNt6lxR",
        "outputId": "8e553701-7006-4cdb-d5f1-4a9b325282af"
      },
      "execution_count": null,
      "outputs": [
        {
          "output_type": "execute_result",
          "data": {
            "text/plain": [
              "array(['Up', 'Up', 'Down', 'Up', 'Up', 'Up', 'Down', 'Up', 'Up', 'Up',\n",
              "       'Down', 'Down', 'Up', 'Up', 'Down', 'Up', 'Down', 'Up', 'Down',\n",
              "       'Down', 'Down', 'Down', 'Up', 'Down', 'Down', 'Up', 'Down', 'Down',\n",
              "       'Down', 'Down', 'Down', 'Up', 'Down', 'Down', 'Up', 'Down', 'Up',\n",
              "       'Up', 'Up', 'Up', 'Down', 'Down', 'Up', 'Down', 'Up', 'Down', 'Up',\n",
              "       'Down', 'Down', 'Down', 'Up', 'Up', 'Up', 'Down', 'Down', 'Up',\n",
              "       'Down', 'Down', 'Down', 'Up', 'Down', 'Up', 'Up', 'Down', 'Up',\n",
              "       'Down', 'Up', 'Up', 'Up', 'Down', 'Down', 'Down', 'Up', 'Up', 'Up',\n",
              "       'Down', 'Up', 'Up', 'Down', 'Up', 'Down', 'Down', 'Down', 'Down',\n",
              "       'Down', 'Up', 'Up', 'Up', 'Up', 'Up', 'Up', 'Down', 'Down', 'Up',\n",
              "       'Down', 'Down', 'Down', 'Up', 'Up', 'Up', 'Up', 'Down', 'Up',\n",
              "       'Down', 'Down', 'Up', 'Down', 'Down', 'Down', 'Down', 'Up', 'Up',\n",
              "       'Up', 'Down', 'Down', 'Down', 'Down', 'Up', 'Down', 'Up', 'Down',\n",
              "       'Down', 'Down', 'Up', 'Down', 'Down', 'Up', 'Up', 'Down', 'Up',\n",
              "       'Down', 'Up', 'Down', 'Down', 'Down', 'Up', 'Up', 'Up', 'Down',\n",
              "       'Up', 'Up', 'Up', 'Down', 'Down', 'Up', 'Down', 'Down', 'Up', 'Up',\n",
              "       'Down', 'Down', 'Up', 'Down', 'Up', 'Down', 'Up', 'Down', 'Up',\n",
              "       'Down', 'Down', 'Down', 'Down', 'Up', 'Down', 'Down', 'Down',\n",
              "       'Down', 'Up', 'Down', 'Down', 'Down', 'Down', 'Down', 'Up', 'Up',\n",
              "       'Down', 'Up', 'Up', 'Down', 'Up', 'Up', 'Down', 'Up', 'Down',\n",
              "       'Down', 'Up', 'Up', 'Down', 'Down', 'Up', 'Down', 'Down', 'Up',\n",
              "       'Up', 'Down', 'Up', 'Up', 'Up', 'Down', 'Down', 'Down', 'Up', 'Up',\n",
              "       'Up', 'Up', 'Down', 'Up', 'Up', 'Down', 'Up', 'Up', 'Up', 'Down',\n",
              "       'Up', 'Down', 'Down', 'Up', 'Up', 'Down', 'Down', 'Up', 'Down',\n",
              "       'Down', 'Up', 'Up', 'Down', 'Down', 'Down', 'Down', 'Up', 'Down',\n",
              "       'Up', 'Up', 'Up', 'Up', 'Down', 'Up', 'Down', 'Up', 'Up', 'Up',\n",
              "       'Down', 'Up', 'Up', 'Up', 'Down', 'Down', 'Down', 'Up', 'Down',\n",
              "       'Down', 'Up', 'Down', 'Up', 'Down', 'Down', 'Up', 'Up', 'Up',\n",
              "       'Down', 'Down', 'Up', 'Up', 'Down', 'Down', 'Down', 'Down', 'Down',\n",
              "       'Up', 'Up', 'Down', 'Up', 'Down', 'Down', 'Down', 'Up', 'Down',\n",
              "       'Up', 'Up', 'Down', 'Up', 'Down', 'Up', 'Up', 'Down', 'Up', 'Down',\n",
              "       'Up', 'Up', 'Down', 'Down', 'Down', 'Up', 'Down', 'Up', 'Down',\n",
              "       'Up', 'Down', 'Down', 'Up', 'Up', 'Up', 'Down', 'Down', 'Down',\n",
              "       'Up', 'Down', 'Up', 'Down', 'Up', 'Down', 'Up', 'Down', 'Up',\n",
              "       'Down', 'Down', 'Up', 'Down', 'Down', 'Down', 'Down', 'Down',\n",
              "       'Down', 'Up', 'Up', 'Down', 'Down', 'Down', 'Down', 'Up', 'Down',\n",
              "       'Down', 'Up', 'Up', 'Down', 'Up', 'Up', 'Down', 'Down', 'Up', 'Up',\n",
              "       'Down', 'Down', 'Down', 'Down', 'Up', 'Down', 'Up', 'Up', 'Down',\n",
              "       'Down', 'Up', 'Down', 'Up', 'Down', 'Down', 'Up', 'Up', 'Down',\n",
              "       'Down', 'Down', 'Up', 'Down', 'Down', 'Up', 'Down', 'Down', 'Down',\n",
              "       'Up', 'Up', 'Down', 'Down', 'Down', 'Up', 'Down', 'Down', 'Down',\n",
              "       'Up', 'Down', 'Down', 'Down', 'Down', 'Up', 'Down', 'Up', 'Up',\n",
              "       'Up', 'Up', 'Down', 'Down', 'Down', 'Up', 'Up', 'Up', 'Up', 'Down',\n",
              "       'Down', 'Up', 'Up', 'Down', 'Up', 'Down', 'Up', 'Up', 'Down', 'Up',\n",
              "       'Down', 'Down', 'Down', 'Down', 'Down', 'Up', 'Down', 'Up', 'Up',\n",
              "       'Up', 'Down', 'Down', 'Up', 'Up', 'Down', 'Down', 'Down', 'Up',\n",
              "       'Down', 'Down', 'Up', 'Up', 'Down', 'Down', 'Up', 'Down', 'Down',\n",
              "       'Down', 'Down', 'Up', 'Down', 'Up', 'Up', 'Up', 'Up', 'Down', 'Up',\n",
              "       'Up', 'Up', 'Down', 'Up', 'Down', 'Up', 'Down', 'Down', 'Up',\n",
              "       'Down', 'Up', 'Up', 'Up', 'Up', 'Down', 'Down', 'Down', 'Up',\n",
              "       'Down', 'Up', 'Up', 'Down', 'Down', 'Up', 'Up', 'Down', 'Up',\n",
              "       'Down', 'Up', 'Down', 'Down', 'Down', 'Down', 'Down', 'Up', 'Down',\n",
              "       'Up', 'Up', 'Down', 'Down', 'Up', 'Down', 'Down', 'Down', 'Up',\n",
              "       'Up', 'Down', 'Down', 'Down', 'Up', 'Up', 'Up', 'Down', 'Up',\n",
              "       'Down', 'Down', 'Up', 'Up', 'Down', 'Up', 'Down', 'Down', 'Down',\n",
              "       'Down', 'Down', 'Up', 'Down', 'Down', 'Up', 'Up', 'Down', 'Up',\n",
              "       'Up', 'Down', 'Down', 'Down', 'Down', 'Up', 'Down', 'Down', 'Down',\n",
              "       'Up', 'Up', 'Down', 'Down', 'Up', 'Down', 'Up', 'Down', 'Up', 'Up',\n",
              "       'Down', 'Down', 'Up', 'Down', 'Up', 'Down', 'Down', 'Up', 'Up',\n",
              "       'Up', 'Up', 'Up', 'Up', 'Up', 'Up', 'Down', 'Up', 'Down', 'Down',\n",
              "       'Down', 'Down', 'Up', 'Up', 'Down', 'Up', 'Up', 'Down', 'Down',\n",
              "       'Up', 'Down', 'Up', 'Up', 'Down', 'Up', 'Down', 'Up', 'Up', 'Down',\n",
              "       'Down', 'Up', 'Up', 'Down', 'Down', 'Up', 'Down', 'Up', 'Down',\n",
              "       'Down', 'Up', 'Up', 'Down', 'Down', 'Up', 'Down', 'Down', 'Down',\n",
              "       'Up', 'Up', 'Up', 'Up', 'Up', 'Down', 'Up', 'Up', 'Up', 'Up', 'Up',\n",
              "       'Down', 'Down', 'Up', 'Up', 'Up', 'Down', 'Up', 'Up', 'Down',\n",
              "       'Down', 'Up', 'Down', 'Up', 'Down', 'Up', 'Down', 'Down', 'Up',\n",
              "       'Up', 'Down', 'Up', 'Up', 'Down', 'Down', 'Up', 'Up', 'Down',\n",
              "       'Down', 'Down', 'Up', 'Down', 'Up', 'Up', 'Down', 'Up', 'Down',\n",
              "       'Down', 'Down', 'Up', 'Down', 'Up', 'Down', 'Up', 'Up', 'Up', 'Up',\n",
              "       'Up', 'Down', 'Up', 'Up', 'Up', 'Up', 'Down', 'Up', 'Down', 'Up',\n",
              "       'Up', 'Up', 'Up', 'Up', 'Up', 'Up', 'Up', 'Down', 'Up', 'Down',\n",
              "       'Down', 'Up', 'Up', 'Down', 'Up', 'Down', 'Up', 'Down', 'Down',\n",
              "       'Up', 'Down', 'Down', 'Down', 'Up', 'Down', 'Up', 'Up', 'Up', 'Up',\n",
              "       'Up', 'Down', 'Up', 'Down', 'Up', 'Up', 'Down', 'Up', 'Down', 'Up',\n",
              "       'Up', 'Down', 'Up', 'Down', 'Up', 'Up', 'Up', 'Down', 'Up', 'Up',\n",
              "       'Down', 'Down', 'Up', 'Down', 'Down', 'Down', 'Up', 'Down', 'Down',\n",
              "       'Down', 'Down', 'Up', 'Down', 'Up', 'Up', 'Up', 'Up', 'Down', 'Up',\n",
              "       'Down', 'Down', 'Up', 'Down', 'Up', 'Down', 'Down', 'Up', 'Up',\n",
              "       'Down', 'Up', 'Up', 'Up', 'Down', 'Up', 'Up', 'Down', 'Up', 'Up',\n",
              "       'Up', 'Up', 'Down', 'Up', 'Up', 'Up', 'Up', 'Down', 'Up', 'Down',\n",
              "       'Up', 'Up', 'Up', 'Down', 'Up', 'Down', 'Down', 'Up', 'Down',\n",
              "       'Down', 'Up', 'Down', 'Up', 'Up', 'Down', 'Up', 'Up', 'Down', 'Up',\n",
              "       'Up', 'Down', 'Down', 'Up', 'Down', 'Down', 'Down', 'Down', 'Down',\n",
              "       'Up', 'Up', 'Up', 'Up', 'Down', 'Up', 'Up', 'Up', 'Down', 'Down',\n",
              "       'Down', 'Down', 'Up', 'Down', 'Up', 'Up', 'Down', 'Down', 'Down',\n",
              "       'Down', 'Down', 'Up', 'Down', 'Up', 'Up', 'Down', 'Up', 'Up', 'Up',\n",
              "       'Down', 'Down', 'Down', 'Up', 'Down', 'Down', 'Up', 'Up', 'Up',\n",
              "       'Down', 'Up', 'Up', 'Up', 'Down', 'Up', 'Down', 'Down', 'Down',\n",
              "       'Up', 'Up', 'Up', 'Down', 'Down', 'Down', 'Up', 'Up', 'Down',\n",
              "       'Down', 'Down', 'Up', 'Down', 'Up', 'Up', 'Up', 'Up', 'Up', 'Up',\n",
              "       'Down', 'Up', 'Up', 'Down', 'Up', 'Up', 'Up', 'Down', 'Up', 'Down',\n",
              "       'Up', 'Up', 'Down', 'Up', 'Down', 'Up', 'Up', 'Down', 'Down',\n",
              "       'Down', 'Up', 'Up', 'Down', 'Down', 'Down', 'Up', 'Down', 'Up',\n",
              "       'Up', 'Up', 'Down', 'Down', 'Down', 'Down', 'Up', 'Down', 'Up',\n",
              "       'Down', 'Down', 'Up', 'Up', 'Up', 'Up', 'Up', 'Down', 'Down',\n",
              "       'Down', 'Down', 'Up', 'Up', 'Down', 'Down', 'Up', 'Up', 'Up', 'Up',\n",
              "       'Down', 'Up', 'Down', 'Up', 'Up', 'Up', 'Up', 'Down', 'Up', 'Up',\n",
              "       'Up', 'Down', 'Up', 'Down', 'Up', 'Up', 'Up', 'Up', 'Down', 'Up',\n",
              "       'Up', 'Down', 'Up', 'Down', 'Down', 'Up', 'Down', 'Up', 'Up',\n",
              "       'Down', 'Up', 'Up', 'Down', 'Up', 'Down', 'Down', 'Up', 'Down',\n",
              "       'Down', 'Down', 'Up', 'Up', 'Down', 'Up', 'Up', 'Down', 'Down',\n",
              "       'Up', 'Up', 'Up', 'Up', 'Up', 'Up', 'Up', 'Up', 'Up', 'Down',\n",
              "       'Down', 'Down', 'Up', 'Up', 'Down', 'Down', 'Up', 'Up', 'Down',\n",
              "       'Up', 'Down', 'Up', 'Up', 'Down', 'Down', 'Up', 'Down', 'Up',\n",
              "       'Down', 'Down', 'Up', 'Up', 'Down', 'Up', 'Up', 'Up', 'Down',\n",
              "       'Down', 'Up', 'Up', 'Up', 'Up', 'Down', 'Up', 'Down', 'Up', 'Down'],\n",
              "      dtype=object)"
            ]
          },
          "metadata": {},
          "execution_count": 22
        }
      ]
    },
    {
      "cell_type": "code",
      "source": [
        "X_base_smarket = base_smarket.iloc[:, 0:8].values\n",
        "#X_base_smarket"
      ],
      "metadata": {
        "id": "q7C_xl4doW2D"
      },
      "execution_count": null,
      "outputs": []
    },
    {
      "cell_type": "code",
      "source": [
        "y_base_smarket = base_smarket.iloc[:, 8].values\n",
        "#y_base_smarket"
      ],
      "metadata": {
        "id": "N2g4ygsKsqpO"
      },
      "execution_count": null,
      "outputs": []
    },
    {
      "cell_type": "markdown",
      "source": [
        "#**Divisão da base em treinamento e teste - Ano: 2005**"
      ],
      "metadata": {
        "id": "PnYy4TT2eWrQ"
      }
    },
    {
      "cell_type": "code",
      "source": [
        "#X_base_smarket_treinamento, X_base_smarket_teste, y_base_smarket_treinamento, y_base_smarket_teste = train_test_split(X_base_smarket, y_base_smarket, test_size = 0.30, random_state = 0)"
      ],
      "metadata": {
        "id": "Xr-3XWv-ejwR"
      },
      "execution_count": null,
      "outputs": []
    },
    {
      "cell_type": "code",
      "source": [
        "X_base_smarket_treinamento.shape, y_base_smarket_treinamento.shape"
      ],
      "metadata": {
        "colab": {
          "base_uri": "https://localhost:8080/"
        },
        "id": "qruWeXdee6Eh",
        "outputId": "cf00d25b-0fe6-4f62-dbef-7adcb2ffa82d"
      },
      "execution_count": null,
      "outputs": [
        {
          "output_type": "execute_result",
          "data": {
            "text/plain": [
              "((998, 8), (998,))"
            ]
          },
          "metadata": {},
          "execution_count": 26
        }
      ]
    },
    {
      "cell_type": "code",
      "source": [
        "X_base_smarket_teste.shape, y_base_smarket_teste.shape"
      ],
      "metadata": {
        "colab": {
          "base_uri": "https://localhost:8080/"
        },
        "id": "Tmu5fIu6e8Ig",
        "outputId": "0acb9b5b-c02f-41fa-c193-49a0b0d2615b"
      },
      "execution_count": null,
      "outputs": [
        {
          "output_type": "execute_result",
          "data": {
            "text/plain": [
              "((252, 8), (252,))"
            ]
          },
          "metadata": {},
          "execution_count": 27
        }
      ]
    },
    {
      "cell_type": "markdown",
      "source": [
        "#**Salvar as variáveis**"
      ],
      "metadata": {
        "id": "ptR2NaNAe-so"
      }
    },
    {
      "cell_type": "code",
      "source": [
        "with open('smarket.pkl', mode = 'wb') as f:\n",
        "  pickle.dump([X_base_smarket_treinamento, y_base_smarket_treinamento, X_base_smarket_teste, y_base_smarket_teste], f)"
      ],
      "metadata": {
        "id": "QGyF7lblfBKR"
      },
      "execution_count": null,
      "outputs": []
    },
    {
      "cell_type": "markdown",
      "source": [
        "#**Leitura das variáveis**"
      ],
      "metadata": {
        "id": "4yv_PAbPi5kJ"
      }
    },
    {
      "cell_type": "code",
      "source": [
        "with open('smarket.pkl', 'rb') as f:  \n",
        "  X_base_smarket_treinamento, y_base_smarket_treinamento, X_base_smarket_teste, y_base_smarket_teste = pickle.load(f)"
      ],
      "metadata": {
        "id": "vXSd0_5ojDLp"
      },
      "execution_count": null,
      "outputs": []
    },
    {
      "cell_type": "code",
      "source": [
        "X_base_smarket_treinamento.shape, y_base_smarket_treinamento.shape"
      ],
      "metadata": {
        "colab": {
          "base_uri": "https://localhost:8080/"
        },
        "id": "4jFYRpiMjcby",
        "outputId": "1cf237c4-ea58-4adb-db6b-3fac18a3408f"
      },
      "execution_count": null,
      "outputs": [
        {
          "output_type": "execute_result",
          "data": {
            "text/plain": [
              "((998, 8), (998,))"
            ]
          },
          "metadata": {},
          "execution_count": 30
        }
      ]
    },
    {
      "cell_type": "code",
      "source": [
        "X_base_smarket_teste.shape, y_base_smarket_teste.shape"
      ],
      "metadata": {
        "colab": {
          "base_uri": "https://localhost:8080/"
        },
        "id": "xpxsoIyBjdT8",
        "outputId": "e04ff63f-bf94-4c85-eeea-293be7afa1a6"
      },
      "execution_count": null,
      "outputs": [
        {
          "output_type": "execute_result",
          "data": {
            "text/plain": [
              "((252, 8), (252,))"
            ]
          },
          "metadata": {},
          "execution_count": 31
        }
      ]
    },
    {
      "cell_type": "markdown",
      "source": [
        "#**Criação do modelo**"
      ],
      "metadata": {
        "id": "86WdAAxijquz"
      }
    },
    {
      "cell_type": "code",
      "source": [
        "knn_smarket = KNeighborsClassifier(n_neighbors=20)\n",
        "knn_smarket.fit(X_base_smarket_treinamento, y_base_smarket_treinamento)"
      ],
      "metadata": {
        "colab": {
          "base_uri": "https://localhost:8080/"
        },
        "id": "KqC_ZndBj2bq",
        "outputId": "0dbc618d-fc11-4cf6-f49d-e52779f5fa1e"
      },
      "execution_count": null,
      "outputs": [
        {
          "output_type": "execute_result",
          "data": {
            "text/plain": [
              "KNeighborsClassifier(n_neighbors=20)"
            ]
          },
          "metadata": {},
          "execution_count": 40
        }
      ]
    },
    {
      "cell_type": "markdown",
      "source": [
        "#**Predição**"
      ],
      "metadata": {
        "id": "B_7NDOLktXjG"
      }
    },
    {
      "cell_type": "code",
      "source": [
        "previsoes = knn_smarket.predict(X_base_smarket_teste)\n",
        "previsoes"
      ],
      "metadata": {
        "colab": {
          "base_uri": "https://localhost:8080/"
        },
        "id": "1tY7WZoSkFsp",
        "outputId": "1c9a10e9-3205-47d8-89c0-ea6a295c8d1f"
      },
      "execution_count": null,
      "outputs": [
        {
          "output_type": "execute_result",
          "data": {
            "text/plain": [
              "array(['Down', 'Down', 'Down', 'Up', 'Up', 'Up', 'Down', 'Up', 'Down',\n",
              "       'Up', 'Up', 'Down', 'Down', 'Down', 'Down', 'Up', 'Up', 'Up',\n",
              "       'Down', 'Up', 'Up', 'Up', 'Down', 'Up', 'Down', 'Up', 'Down', 'Up',\n",
              "       'Up', 'Up', 'Up', 'Down', 'Down', 'Up', 'Down', 'Up', 'Up', 'Up',\n",
              "       'Down', 'Up', 'Down', 'Up', 'Up', 'Up', 'Down', 'Down', 'Up',\n",
              "       'Down', 'Up', 'Down', 'Down', 'Up', 'Up', 'Down', 'Down', 'Down',\n",
              "       'Up', 'Up', 'Down', 'Up', 'Up', 'Down', 'Up', 'Up', 'Up', 'Up',\n",
              "       'Down', 'Up', 'Up', 'Down', 'Down', 'Down', 'Up', 'Up', 'Down',\n",
              "       'Up', 'Down', 'Up', 'Down', 'Up', 'Down', 'Up', 'Up', 'Up', 'Up',\n",
              "       'Down', 'Up', 'Up', 'Down', 'Up', 'Down', 'Down', 'Up', 'Up', 'Up',\n",
              "       'Up', 'Down', 'Up', 'Up', 'Down', 'Up', 'Up', 'Down', 'Up', 'Up',\n",
              "       'Down', 'Down', 'Up', 'Down', 'Up', 'Down', 'Up', 'Up', 'Up', 'Up',\n",
              "       'Up', 'Down', 'Down', 'Down', 'Down', 'Down', 'Up', 'Up', 'Down',\n",
              "       'Down', 'Up', 'Up', 'Down', 'Up', 'Up', 'Up', 'Up', 'Down', 'Up',\n",
              "       'Up', 'Down', 'Up', 'Up', 'Down', 'Up', 'Down', 'Up', 'Up', 'Up',\n",
              "       'Down', 'Up', 'Up', 'Up', 'Down', 'Down', 'Down', 'Up', 'Down',\n",
              "       'Up', 'Down', 'Up', 'Down', 'Up', 'Up', 'Up', 'Up', 'Up', 'Down',\n",
              "       'Up', 'Down', 'Up', 'Down', 'Up', 'Up', 'Down', 'Up', 'Up', 'Down',\n",
              "       'Up', 'Down', 'Down', 'Down', 'Down', 'Up', 'Down', 'Down', 'Down',\n",
              "       'Up', 'Up', 'Up', 'Up', 'Up', 'Up', 'Down', 'Down', 'Down', 'Down',\n",
              "       'Down', 'Up', 'Down', 'Up', 'Down', 'Up', 'Up', 'Up', 'Down', 'Up',\n",
              "       'Down', 'Up', 'Up', 'Down', 'Down', 'Down', 'Up', 'Up', 'Up', 'Up',\n",
              "       'Up', 'Up', 'Up', 'Down', 'Up', 'Up', 'Up', 'Up', 'Down', 'Up',\n",
              "       'Up', 'Up', 'Up', 'Up', 'Down', 'Up', 'Down', 'Down', 'Down', 'Up',\n",
              "       'Up', 'Down', 'Up', 'Down', 'Up', 'Up', 'Up', 'Up', 'Up', 'Down',\n",
              "       'Down', 'Down', 'Up', 'Up', 'Up', 'Up', 'Down', 'Up', 'Down',\n",
              "       'Down'], dtype=object)"
            ]
          },
          "metadata": {},
          "execution_count": 41
        }
      ]
    },
    {
      "cell_type": "code",
      "source": [
        "y_base_smarket_teste"
      ],
      "metadata": {
        "colab": {
          "base_uri": "https://localhost:8080/"
        },
        "id": "FaBV244FkVmc",
        "outputId": "cadda276-97eb-4384-f9a2-7001b0bc2ab4"
      },
      "execution_count": null,
      "outputs": [
        {
          "output_type": "execute_result",
          "data": {
            "text/plain": [
              "array(['Down', 'Down', 'Down', 'Up', 'Down', 'Up', 'Down', 'Up', 'Down',\n",
              "       'Up', 'Up', 'Down', 'Down', 'Down', 'Down', 'Up', 'Up', 'Up',\n",
              "       'Down', 'Up', 'Up', 'Up', 'Down', 'Up', 'Down', 'Up', 'Down', 'Up',\n",
              "       'Up', 'Up', 'Up', 'Up', 'Down', 'Up', 'Down', 'Up', 'Up', 'Up',\n",
              "       'Down', 'Up', 'Down', 'Up', 'Up', 'Up', 'Down', 'Down', 'Up',\n",
              "       'Down', 'Up', 'Down', 'Down', 'Up', 'Down', 'Down', 'Down', 'Up',\n",
              "       'Down', 'Up', 'Down', 'Up', 'Down', 'Down', 'Up', 'Up', 'Up', 'Up',\n",
              "       'Down', 'Up', 'Up', 'Down', 'Down', 'Down', 'Up', 'Up', 'Down',\n",
              "       'Up', 'Down', 'Up', 'Down', 'Up', 'Down', 'Up', 'Up', 'Down', 'Up',\n",
              "       'Down', 'Down', 'Up', 'Down', 'Up', 'Down', 'Down', 'Up', 'Up',\n",
              "       'Up', 'Up', 'Down', 'Up', 'Up', 'Down', 'Up', 'Up', 'Down', 'Up',\n",
              "       'Up', 'Down', 'Up', 'Down', 'Down', 'Up', 'Down', 'Up', 'Up', 'Up',\n",
              "       'Up', 'Up', 'Down', 'Down', 'Up', 'Down', 'Down', 'Down', 'Up',\n",
              "       'Down', 'Down', 'Up', 'Up', 'Down', 'Up', 'Up', 'Up', 'Up', 'Up',\n",
              "       'Up', 'Up', 'Down', 'Up', 'Up', 'Down', 'Up', 'Down', 'Up', 'Up',\n",
              "       'Up', 'Down', 'Up', 'Up', 'Up', 'Down', 'Down', 'Down', 'Up',\n",
              "       'Down', 'Up', 'Down', 'Up', 'Down', 'Up', 'Down', 'Up', 'Up',\n",
              "       'Down', 'Down', 'Up', 'Down', 'Up', 'Down', 'Up', 'Up', 'Down',\n",
              "       'Up', 'Up', 'Down', 'Up', 'Down', 'Down', 'Down', 'Up', 'Up',\n",
              "       'Down', 'Down', 'Down', 'Up', 'Up', 'Up', 'Up', 'Up', 'Up', 'Up',\n",
              "       'Down', 'Down', 'Down', 'Down', 'Up', 'Down', 'Down', 'Down',\n",
              "       'Down', 'Up', 'Up', 'Down', 'Up', 'Down', 'Up', 'Up', 'Down',\n",
              "       'Down', 'Down', 'Up', 'Up', 'Down', 'Up', 'Up', 'Up', 'Up', 'Down',\n",
              "       'Up', 'Up', 'Up', 'Down', 'Down', 'Up', 'Up', 'Up', 'Up', 'Up',\n",
              "       'Up', 'Up', 'Down', 'Up', 'Down', 'Up', 'Up', 'Down', 'Up', 'Down',\n",
              "       'Down', 'Up', 'Up', 'Up', 'Up', 'Down', 'Down', 'Down', 'Down',\n",
              "       'Up', 'Up', 'Up', 'Down', 'Up', 'Down', 'Down'], dtype=object)"
            ]
          },
          "metadata": {},
          "execution_count": 42
        }
      ]
    },
    {
      "cell_type": "code",
      "source": [
        "accuracy_score(y_base_smarket_teste, previsoes)"
      ],
      "metadata": {
        "colab": {
          "base_uri": "https://localhost:8080/"
        },
        "id": "1dj9bSh7kcnj",
        "outputId": "4aa42427-1f01-44ae-ba4d-9ecdaab07fff"
      },
      "execution_count": null,
      "outputs": [
        {
          "output_type": "execute_result",
          "data": {
            "text/plain": [
              "0.9007936507936508"
            ]
          },
          "metadata": {},
          "execution_count": 43
        }
      ]
    },
    {
      "cell_type": "markdown",
      "source": [
        "#**Visualização matriz de confusão**"
      ],
      "metadata": {
        "id": "NocmSJYCf0dq"
      }
    },
    {
      "cell_type": "code",
      "source": [
        "cm = ConfusionMatrix(knn_smarket)\n",
        "cm.fit(X_base_smarket_treinamento, y_base_smarket_treinamento)\n",
        "cm.score(X_base_smarket_teste, y_base_smarket_teste)"
      ],
      "metadata": {
        "colab": {
          "base_uri": "https://localhost:8080/",
          "height": 385
        },
        "id": "TFKuaHc-fv7h",
        "outputId": "85d27020-897d-4789-e0eb-71ff5bb504e1"
      },
      "execution_count": null,
      "outputs": [
        {
          "output_type": "execute_result",
          "data": {
            "text/plain": [
              "0.9007936507936508"
            ]
          },
          "metadata": {},
          "execution_count": 44
        },
        {
          "output_type": "display_data",
          "data": {
            "image/png": "[encoded data removed]",
            "text/plain": [
              "<Figure size 576x396 with 1 Axes>"
            ]
          },
          "metadata": {}
        }
      ]
    },
    {
      "cell_type": "markdown",
      "source": [
        "#**Relatório de Métricas**"
      ],
      "metadata": {
        "id": "1_NBV5QTuP_2"
      }
    },
    {
      "cell_type": "code",
      "source": [
        "print(classification_report(y_base_smarket_teste, previsoes))"
      ],
      "metadata": {
        "colab": {
          "base_uri": "https://localhost:8080/"
        },
        "id": "7ckt63FGkhL0",
        "outputId": "f047deb8-5361-4306-bc82-74f67b074dab"
      },
      "execution_count": null,
      "outputs": [
        {
          "output_type": "stream",
          "name": "stdout",
          "text": [
            "              precision    recall  f1-score   support\n",
            "\n",
            "        Down       0.91      0.86      0.88       111\n",
            "          Up       0.89      0.94      0.91       141\n",
            "\n",
            "    accuracy                           0.90       252\n",
            "   macro avg       0.90      0.90      0.90       252\n",
            "weighted avg       0.90      0.90      0.90       252\n",
            "\n"
          ]
        }
      ]
    },
    {
      "cell_type": "markdown",
      "source": [
        "#**Função para exibir gráfico das Curvas de Aprendizagem.**"
      ],
      "metadata": {
        "id": "CxQ2oIubtvRS"
      }
    },
    {
      "cell_type": "code",
      "source": [
        "def plot_learning_curve(\n",
        "    estimator,\n",
        "    title,\n",
        "    X,\n",
        "    y,\n",
        "    axes=None,\n",
        "    ylim=None,\n",
        "    cv=None,\n",
        "    n_jobs=None,\n",
        "    train_sizes=np.linspace(0.1, 1.0, 5),\n",
        "):\n",
        "  \n",
        "  if axes is None:\n",
        "    _, axes = plt.subplots(1, 3, figsize=(20, 5))\n",
        "  print(\"Testando...\")\n",
        "\n",
        "  axes[0].set_title(title)\n",
        "  if ylim is not None:\n",
        "    axes[0].set_ylim(*ylim)\n",
        "    axes[0].set_xlabel(\"Training examples\")\n",
        "    axes[0].set_ylabel(\"Score\")\n",
        "\n",
        "    train_sizes, train_scores, test_scores, fit_times, _ = learning_curve(\n",
        "        estimator,\n",
        "        X,\n",
        "        y,\n",
        "        cv=cv,\n",
        "        n_jobs=n_jobs,\n",
        "        train_sizes=train_sizes,\n",
        "        return_times=True,\n",
        "    )\n",
        "    train_scores_mean = np.mean(train_scores, axis=1)\n",
        "    train_scores_std = np.std(train_scores, axis=1)\n",
        "    test_scores_mean = np.mean(test_scores, axis=1)\n",
        "    test_scores_std = np.std(test_scores, axis=1)\n",
        "    fit_times_mean = np.mean(fit_times, axis=1)\n",
        "    fit_times_std = np.std(fit_times, axis=1)\n",
        "\n",
        "    # Plot learning curve\n",
        "    axes[0].grid()\n",
        "    axes[0].fill_between(\n",
        "        train_sizes,\n",
        "        train_scores_mean - train_scores_std,\n",
        "        train_scores_mean + train_scores_std,\n",
        "        alpha=0.1,\n",
        "        color=\"r\",\n",
        "    )\n",
        "    axes[0].fill_between(\n",
        "        train_sizes,\n",
        "        test_scores_mean - test_scores_std,\n",
        "        test_scores_mean + test_scores_std,\n",
        "        alpha=0.1,\n",
        "        color=\"g\",\n",
        "    )\n",
        "    axes[0].plot(\n",
        "        train_sizes, train_scores_mean, \"o-\", color=\"r\", label=\"Training score\"\n",
        "    )\n",
        "    axes[0].plot(\n",
        "        train_sizes, test_scores_mean, \"o-\", color=\"g\", label=\"Cross-validation score\"\n",
        "    )\n",
        "    axes[0].legend(loc=\"best\")\n",
        "\n",
        "    # Plot n_samples vs fit_times\n",
        "    axes[1].grid()\n",
        "    axes[1].plot(train_sizes, fit_times_mean, \"o-\")\n",
        "    axes[1].fill_between(\n",
        "        train_sizes,\n",
        "        fit_times_mean - fit_times_std,\n",
        "        fit_times_mean + fit_times_std,\n",
        "        alpha=0.1,\n",
        "    )\n",
        "    axes[1].set_xlabel(\"Training examples\")\n",
        "    axes[1].set_ylabel(\"fit_times\")\n",
        "    axes[1].set_title(\"Scalability of the model\")\n",
        "\n",
        "    # Plot fit_time vs score\n",
        "    fit_time_argsort = fit_times_mean.argsort()\n",
        "    fit_time_sorted = fit_times_mean[fit_time_argsort]\n",
        "    test_scores_mean_sorted = test_scores_mean[fit_time_argsort]\n",
        "    test_scores_std_sorted = test_scores_std[fit_time_argsort]\n",
        "    axes[2].grid()\n",
        "    axes[2].plot(fit_time_sorted, test_scores_mean_sorted, \"o-\")\n",
        "    axes[2].fill_between(\n",
        "        fit_time_sorted,\n",
        "        test_scores_mean_sorted - test_scores_std_sorted,\n",
        "        test_scores_mean_sorted + test_scores_std_sorted,\n",
        "        alpha=0.1,\n",
        "    )\n",
        "    axes[2].set_xlabel(\"fit_times\")\n",
        "    axes[2].set_ylabel(\"Score\")\n",
        "    axes[2].set_title(\"Performance of the model\")\n",
        "    \n",
        "    return plt"
      ],
      "metadata": {
        "id": "I13hwhxlf3Dk"
      },
      "execution_count": null,
      "outputs": []
    },
    {
      "cell_type": "markdown",
      "source": [
        "#**Vizualização das Curvas de Aprendizagem**"
      ],
      "metadata": {
        "id": "2Qrc5XXst_fI"
      }
    },
    {
      "cell_type": "code",
      "source": [
        "fig, axes = plt.subplots(3, 2, figsize=(10, 15))\n",
        "\n",
        "# Knn is more expensive so we do a lower number of Knn iterations:\n",
        "title = \"Learning Curves (Knn)\"\n",
        "cv = ShuffleSplit(n_splits=5, test_size=0.2, random_state=0)\n",
        "knn_smarket = KNeighborsClassifier(n_neighbors=20)\n",
        "plot_learning_curve(\n",
        "    knn_smarket, title, X_base_smarket, y_base_smarket, axes=axes[:, 0], ylim=(0.7, 1.01), cv=cv, n_jobs=4\n",
        ")\n",
        "\n",
        "# SVC is more expensive so we do a lower number of CV iterations:\n",
        "title = r\"Learning Curves (SVM, RBF kernel, $\\gamma=0.001$)\"\n",
        "cv = ShuffleSplit(n_splits=5, test_size=0.2, random_state=0)\n",
        "estimator = SVC(gamma=0.001)\n",
        "plot_learning_curve(\n",
        "    estimator, title, X_base_smarket, y_base_smarket, axes=axes[:, 1], ylim=(0.7, 1.01), cv=cv, n_jobs=4\n",
        ")\n",
        "\n",
        "plt.show()"
      ],
      "metadata": {
        "colab": {
          "base_uri": "https://localhost:8080/",
          "height": 929
        },
        "id": "azb3aN3Nf7H5",
        "outputId": "a970fa24-4162-40dc-92c7-d1d806eec98b"
      },
      "execution_count": null,
      "outputs": [
        {
          "output_type": "stream",
          "name": "stdout",
          "text": [
            "Testando...\n",
            "Testando...\n"
          ]
        },
        {
          "output_type": "display_data",
          "data": {
            "image/png": "[encoded data removed]",
            "text/plain": [
              "<Figure size 720x1080 with 6 Axes>"
            ]
          },
          "metadata": {}
        }
      ]
    }
  ]
}