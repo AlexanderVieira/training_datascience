{
  "nbformat": 4,
  "nbformat_minor": 0,
  "metadata": {
    "colab": {
      "name": "DR3_TP1_knn.ipynb",
      "provenance": [],
      "collapsed_sections": [],
      "authorship_tag": "ABX9TyPYXKBd0+f/Bx24c6X6zH7f",
      "include_colab_link": true
    },
    "kernelspec": {
      "name": "python3",
      "display_name": "Python 3"
    },
    "language_info": {
      "name": "python"
    }
  },
  "cells": [
    {
      "cell_type": "markdown",
      "metadata": {
        "id": "view-in-github",
        "colab_type": "text"
      },
      "source": [
        "<a href=\"https://colab.research.google.com/github/AlexanderVieira/training_datascience/blob/main/DR3_TP1_knn.ipynb\" target=\"_parent\"><img src=\"https://colab.research.google.com/assets/colab-badge.svg\" alt=\"Open In Colab\"/></a>"
      ]
    },
    {
      "cell_type": "markdown",
      "source": [
        "#**Instalção de Módulos**"
      ],
      "metadata": {
        "id": "UqksudWrfixD"
      }
    },
    {
      "cell_type": "code",
      "source": [
        "!pip install yellowbrick"
      ],
      "metadata": {
        "colab": {
          "base_uri": "https://localhost:8080/"
        },
        "id": "MgiV43vafY9U",
        "outputId": "814a2646-1fd4-495e-b7b6-69d60064c9ae"
      },
      "execution_count": 24,
      "outputs": [
        {
          "output_type": "stream",
          "name": "stdout",
          "text": [
            "Collecting yellowbrick\n",
            "  Downloading yellowbrick-1.4-py3-none-any.whl (274 kB)\n",
            "\u001b[?25l\r\u001b[K     |█▏                              | 10 kB 13.0 MB/s eta 0:00:01\r\u001b[K     |██▍                             | 20 kB 13.5 MB/s eta 0:00:01\r\u001b[K     |███▋                            | 30 kB 10.1 MB/s eta 0:00:01\r\u001b[K     |████▉                           | 40 kB 3.9 MB/s eta 0:00:01\r\u001b[K     |██████                          | 51 kB 3.9 MB/s eta 0:00:01\r\u001b[K     |███████▏                        | 61 kB 4.6 MB/s eta 0:00:01\r\u001b[K     |████████▍                       | 71 kB 4.8 MB/s eta 0:00:01\r\u001b[K     |█████████▋                      | 81 kB 4.8 MB/s eta 0:00:01\r\u001b[K     |██████████▊                     | 92 kB 5.3 MB/s eta 0:00:01\r\u001b[K     |████████████                    | 102 kB 4.4 MB/s eta 0:00:01\r\u001b[K     |█████████████▏                  | 112 kB 4.4 MB/s eta 0:00:01\r\u001b[K     |██████████████▍                 | 122 kB 4.4 MB/s eta 0:00:01\r\u001b[K     |███████████████▌                | 133 kB 4.4 MB/s eta 0:00:01\r\u001b[K     |████████████████▊               | 143 kB 4.4 MB/s eta 0:00:01\r\u001b[K     |██████████████████              | 153 kB 4.4 MB/s eta 0:00:01\r\u001b[K     |███████████████████▏            | 163 kB 4.4 MB/s eta 0:00:01\r\u001b[K     |████████████████████▎           | 174 kB 4.4 MB/s eta 0:00:01\r\u001b[K     |█████████████████████▌          | 184 kB 4.4 MB/s eta 0:00:01\r\u001b[K     |██████████████████████▊         | 194 kB 4.4 MB/s eta 0:00:01\r\u001b[K     |████████████████████████        | 204 kB 4.4 MB/s eta 0:00:01\r\u001b[K     |█████████████████████████       | 215 kB 4.4 MB/s eta 0:00:01\r\u001b[K     |██████████████████████████▎     | 225 kB 4.4 MB/s eta 0:00:01\r\u001b[K     |███████████████████████████▌    | 235 kB 4.4 MB/s eta 0:00:01\r\u001b[K     |████████████████████████████▊   | 245 kB 4.4 MB/s eta 0:00:01\r\u001b[K     |█████████████████████████████▉  | 256 kB 4.4 MB/s eta 0:00:01\r\u001b[K     |███████████████████████████████ | 266 kB 4.4 MB/s eta 0:00:01\r\u001b[K     |████████████████████████████████| 274 kB 4.4 MB/s \n",
            "\u001b[?25hRequirement already satisfied: scikit-learn>=1.0.0 in /usr/local/lib/python3.7/dist-packages (from yellowbrick) (1.0.2)\n",
            "Requirement already satisfied: scipy>=1.0.0 in /usr/local/lib/python3.7/dist-packages (from yellowbrick) (1.4.1)\n",
            "Requirement already satisfied: matplotlib!=3.0.0,>=2.0.2 in /usr/local/lib/python3.7/dist-packages (from yellowbrick) (3.2.2)\n",
            "Requirement already satisfied: numpy>=1.16.0 in /usr/local/lib/python3.7/dist-packages (from yellowbrick) (1.21.5)\n",
            "Requirement already satisfied: cycler>=0.10.0 in /usr/local/lib/python3.7/dist-packages (from yellowbrick) (0.11.0)\n",
            "Requirement already satisfied: python-dateutil>=2.1 in /usr/local/lib/python3.7/dist-packages (from matplotlib!=3.0.0,>=2.0.2->yellowbrick) (2.8.2)\n",
            "Requirement already satisfied: kiwisolver>=1.0.1 in /usr/local/lib/python3.7/dist-packages (from matplotlib!=3.0.0,>=2.0.2->yellowbrick) (1.3.2)\n",
            "Requirement already satisfied: pyparsing!=2.0.4,!=2.1.2,!=2.1.6,>=2.0.1 in /usr/local/lib/python3.7/dist-packages (from matplotlib!=3.0.0,>=2.0.2->yellowbrick) (3.0.7)\n",
            "Requirement already satisfied: six>=1.5 in /usr/local/lib/python3.7/dist-packages (from python-dateutil>=2.1->matplotlib!=3.0.0,>=2.0.2->yellowbrick) (1.15.0)\n",
            "Requirement already satisfied: joblib>=0.11 in /usr/local/lib/python3.7/dist-packages (from scikit-learn>=1.0.0->yellowbrick) (1.1.0)\n",
            "Requirement already satisfied: threadpoolctl>=2.0.0 in /usr/local/lib/python3.7/dist-packages (from scikit-learn>=1.0.0->yellowbrick) (3.1.0)\n",
            "Installing collected packages: yellowbrick\n",
            "Successfully installed yellowbrick-1.4\n"
          ]
        }
      ]
    },
    {
      "cell_type": "markdown",
      "source": [
        "#**Importação das bibliotecas básicas**"
      ],
      "metadata": {
        "id": "OYbxAxZu23qx"
      }
    },
    {
      "cell_type": "code",
      "execution_count": 500,
      "metadata": {
        "id": "ISeGQX_Fua8w"
      },
      "outputs": [],
      "source": [
        "import pickle\n",
        "import pandas as pd\n",
        "import numpy as np\n",
        "import seaborn as sns\n",
        "import matplotlib.pyplot as plt\n",
        "from matplotlib.colors import ListedColormap\n",
        "import plotly.express as px\n",
        "from sklearn.neighbors import KNeighborsClassifier\n",
        "from sklearn.model_selection import train_test_split\n",
        "from sklearn.metrics import accuracy_score, classification_report\n",
        "from yellowbrick.classifier import ConfusionMatrix"
      ]
    },
    {
      "cell_type": "markdown",
      "source": [
        "#**Aprendizagem baseada em instâncias - knn**"
      ],
      "metadata": {
        "id": "uvNTnRoCgM1L"
      }
    },
    {
      "cell_type": "markdown",
      "source": [
        "#**Carregamento da base de dados Smarket**"
      ],
      "metadata": {
        "id": "8GoSS811aYXs"
      }
    },
    {
      "cell_type": "code",
      "source": [
        "base_smarket = pd.read_csv('/content/Smarket.csv')\n",
        "base_smarket"
      ],
      "metadata": {
        "colab": {
          "base_uri": "https://localhost:8080/",
          "height": 424
        },
        "id": "RI3sb_MTvFrA",
        "outputId": "33db2a04-5235-4b8e-d7c2-00d743c91b6e"
      },
      "execution_count": 501,
      "outputs": [
        {
          "output_type": "execute_result",
          "data": {
            "text/html": [
              "\n",
              "  <div id=\"df-d48cb957-518a-48cf-92a8-15b411d7f10a\">\n",
              "    <div class=\"colab-df-container\">\n",
              "      <div>\n",
              "<style scoped>\n",
              "    .dataframe tbody tr th:only-of-type {\n",
              "        vertical-align: middle;\n",
              "    }\n",
              "\n",
              "    .dataframe tbody tr th {\n",
              "        vertical-align: top;\n",
              "    }\n",
              "\n",
              "    .dataframe thead th {\n",
              "        text-align: right;\n",
              "    }\n",
              "</style>\n",
              "<table border=\"1\" class=\"dataframe\">\n",
              "  <thead>\n",
              "    <tr style=\"text-align: right;\">\n",
              "      <th></th>\n",
              "      <th>Year</th>\n",
              "      <th>Lag1</th>\n",
              "      <th>Lag2</th>\n",
              "      <th>Lag3</th>\n",
              "      <th>Lag4</th>\n",
              "      <th>Lag5</th>\n",
              "      <th>Volume</th>\n",
              "      <th>Today</th>\n",
              "      <th>Direction</th>\n",
              "    </tr>\n",
              "  </thead>\n",
              "  <tbody>\n",
              "    <tr>\n",
              "      <th>0</th>\n",
              "      <td>2001</td>\n",
              "      <td>0.381</td>\n",
              "      <td>-0.192</td>\n",
              "      <td>-2.624</td>\n",
              "      <td>-1.055</td>\n",
              "      <td>5.010</td>\n",
              "      <td>1.19130</td>\n",
              "      <td>0.959</td>\n",
              "      <td>Up</td>\n",
              "    </tr>\n",
              "    <tr>\n",
              "      <th>1</th>\n",
              "      <td>2001</td>\n",
              "      <td>0.959</td>\n",
              "      <td>0.381</td>\n",
              "      <td>-0.192</td>\n",
              "      <td>-2.624</td>\n",
              "      <td>-1.055</td>\n",
              "      <td>1.29650</td>\n",
              "      <td>1.032</td>\n",
              "      <td>Up</td>\n",
              "    </tr>\n",
              "    <tr>\n",
              "      <th>2</th>\n",
              "      <td>2001</td>\n",
              "      <td>1.032</td>\n",
              "      <td>0.959</td>\n",
              "      <td>0.381</td>\n",
              "      <td>-0.192</td>\n",
              "      <td>-2.624</td>\n",
              "      <td>1.41120</td>\n",
              "      <td>-0.623</td>\n",
              "      <td>Down</td>\n",
              "    </tr>\n",
              "    <tr>\n",
              "      <th>3</th>\n",
              "      <td>2001</td>\n",
              "      <td>-0.623</td>\n",
              "      <td>1.032</td>\n",
              "      <td>0.959</td>\n",
              "      <td>0.381</td>\n",
              "      <td>-0.192</td>\n",
              "      <td>1.27600</td>\n",
              "      <td>0.614</td>\n",
              "      <td>Up</td>\n",
              "    </tr>\n",
              "    <tr>\n",
              "      <th>4</th>\n",
              "      <td>2001</td>\n",
              "      <td>0.614</td>\n",
              "      <td>-0.623</td>\n",
              "      <td>1.032</td>\n",
              "      <td>0.959</td>\n",
              "      <td>0.381</td>\n",
              "      <td>1.20570</td>\n",
              "      <td>0.213</td>\n",
              "      <td>Up</td>\n",
              "    </tr>\n",
              "    <tr>\n",
              "      <th>...</th>\n",
              "      <td>...</td>\n",
              "      <td>...</td>\n",
              "      <td>...</td>\n",
              "      <td>...</td>\n",
              "      <td>...</td>\n",
              "      <td>...</td>\n",
              "      <td>...</td>\n",
              "      <td>...</td>\n",
              "      <td>...</td>\n",
              "    </tr>\n",
              "    <tr>\n",
              "      <th>1245</th>\n",
              "      <td>2005</td>\n",
              "      <td>0.422</td>\n",
              "      <td>0.252</td>\n",
              "      <td>-0.024</td>\n",
              "      <td>-0.584</td>\n",
              "      <td>-0.285</td>\n",
              "      <td>1.88850</td>\n",
              "      <td>0.043</td>\n",
              "      <td>Up</td>\n",
              "    </tr>\n",
              "    <tr>\n",
              "      <th>1246</th>\n",
              "      <td>2005</td>\n",
              "      <td>0.043</td>\n",
              "      <td>0.422</td>\n",
              "      <td>0.252</td>\n",
              "      <td>-0.024</td>\n",
              "      <td>-0.584</td>\n",
              "      <td>1.28581</td>\n",
              "      <td>-0.955</td>\n",
              "      <td>Down</td>\n",
              "    </tr>\n",
              "    <tr>\n",
              "      <th>1247</th>\n",
              "      <td>2005</td>\n",
              "      <td>-0.955</td>\n",
              "      <td>0.043</td>\n",
              "      <td>0.422</td>\n",
              "      <td>0.252</td>\n",
              "      <td>-0.024</td>\n",
              "      <td>1.54047</td>\n",
              "      <td>0.130</td>\n",
              "      <td>Up</td>\n",
              "    </tr>\n",
              "    <tr>\n",
              "      <th>1248</th>\n",
              "      <td>2005</td>\n",
              "      <td>0.130</td>\n",
              "      <td>-0.955</td>\n",
              "      <td>0.043</td>\n",
              "      <td>0.422</td>\n",
              "      <td>0.252</td>\n",
              "      <td>1.42236</td>\n",
              "      <td>-0.298</td>\n",
              "      <td>Down</td>\n",
              "    </tr>\n",
              "    <tr>\n",
              "      <th>1249</th>\n",
              "      <td>2005</td>\n",
              "      <td>-0.298</td>\n",
              "      <td>0.130</td>\n",
              "      <td>-0.955</td>\n",
              "      <td>0.043</td>\n",
              "      <td>0.422</td>\n",
              "      <td>1.38254</td>\n",
              "      <td>-0.489</td>\n",
              "      <td>Down</td>\n",
              "    </tr>\n",
              "  </tbody>\n",
              "</table>\n",
              "<p>1250 rows × 9 columns</p>\n",
              "</div>\n",
              "      <button class=\"colab-df-convert\" onclick=\"convertToInteractive('df-d48cb957-518a-48cf-92a8-15b411d7f10a')\"\n",
              "              title=\"Convert this dataframe to an interactive table.\"\n",
              "              style=\"display:none;\">\n",
              "        \n",
              "  <svg xmlns=\"http://www.w3.org/2000/svg\" height=\"24px\"viewBox=\"0 0 24 24\"\n",
              "       width=\"24px\">\n",
              "    <path d=\"M0 0h24v24H0V0z\" fill=\"none\"/>\n",
              "    <path d=\"M18.56 5.44l.94 2.06.94-2.06 2.06-.94-2.06-.94-.94-2.06-.94 2.06-2.06.94zm-11 1L8.5 8.5l.94-2.06 2.06-.94-2.06-.94L8.5 2.5l-.94 2.06-2.06.94zm10 10l.94 2.06.94-2.06 2.06-.94-2.06-.94-.94-2.06-.94 2.06-2.06.94z\"/><path d=\"M17.41 7.96l-1.37-1.37c-.4-.4-.92-.59-1.43-.59-.52 0-1.04.2-1.43.59L10.3 9.45l-7.72 7.72c-.78.78-.78 2.05 0 2.83L4 21.41c.39.39.9.59 1.41.59.51 0 1.02-.2 1.41-.59l7.78-7.78 2.81-2.81c.8-.78.8-2.07 0-2.86zM5.41 20L4 18.59l7.72-7.72 1.47 1.35L5.41 20z\"/>\n",
              "  </svg>\n",
              "      </button>\n",
              "      \n",
              "  <style>\n",
              "    .colab-df-container {\n",
              "      display:flex;\n",
              "      flex-wrap:wrap;\n",
              "      gap: 12px;\n",
              "    }\n",
              "\n",
              "    .colab-df-convert {\n",
              "      background-color: #E8F0FE;\n",
              "      border: none;\n",
              "      border-radius: 50%;\n",
              "      cursor: pointer;\n",
              "      display: none;\n",
              "      fill: #1967D2;\n",
              "      height: 32px;\n",
              "      padding: 0 0 0 0;\n",
              "      width: 32px;\n",
              "    }\n",
              "\n",
              "    .colab-df-convert:hover {\n",
              "      background-color: #E2EBFA;\n",
              "      box-shadow: 0px 1px 2px rgba(60, 64, 67, 0.3), 0px 1px 3px 1px rgba(60, 64, 67, 0.15);\n",
              "      fill: #174EA6;\n",
              "    }\n",
              "\n",
              "    [theme=dark] .colab-df-convert {\n",
              "      background-color: #3B4455;\n",
              "      fill: #D2E3FC;\n",
              "    }\n",
              "\n",
              "    [theme=dark] .colab-df-convert:hover {\n",
              "      background-color: #434B5C;\n",
              "      box-shadow: 0px 1px 3px 1px rgba(0, 0, 0, 0.15);\n",
              "      filter: drop-shadow(0px 1px 2px rgba(0, 0, 0, 0.3));\n",
              "      fill: #FFFFFF;\n",
              "    }\n",
              "  </style>\n",
              "\n",
              "      <script>\n",
              "        const buttonEl =\n",
              "          document.querySelector('#df-d48cb957-518a-48cf-92a8-15b411d7f10a button.colab-df-convert');\n",
              "        buttonEl.style.display =\n",
              "          google.colab.kernel.accessAllowed ? 'block' : 'none';\n",
              "\n",
              "        async function convertToInteractive(key) {\n",
              "          const element = document.querySelector('#df-d48cb957-518a-48cf-92a8-15b411d7f10a');\n",
              "          const dataTable =\n",
              "            await google.colab.kernel.invokeFunction('convertToInteractive',\n",
              "                                                     [key], {});\n",
              "          if (!dataTable) return;\n",
              "\n",
              "          const docLinkHtml = 'Like what you see? Visit the ' +\n",
              "            '<a target=\"_blank\" href=https://colab.research.google.com/notebooks/data_table.ipynb>data table notebook</a>'\n",
              "            + ' to learn more about interactive tables.';\n",
              "          element.innerHTML = '';\n",
              "          dataTable['output_type'] = 'display_data';\n",
              "          await google.colab.output.renderOutput(dataTable, element);\n",
              "          const docLink = document.createElement('div');\n",
              "          docLink.innerHTML = docLinkHtml;\n",
              "          element.appendChild(docLink);\n",
              "        }\n",
              "      </script>\n",
              "    </div>\n",
              "  </div>\n",
              "  "
            ],
            "text/plain": [
              "      Year   Lag1   Lag2   Lag3   Lag4   Lag5   Volume  Today Direction\n",
              "0     2001  0.381 -0.192 -2.624 -1.055  5.010  1.19130  0.959        Up\n",
              "1     2001  0.959  0.381 -0.192 -2.624 -1.055  1.29650  1.032        Up\n",
              "2     2001  1.032  0.959  0.381 -0.192 -2.624  1.41120 -0.623      Down\n",
              "3     2001 -0.623  1.032  0.959  0.381 -0.192  1.27600  0.614        Up\n",
              "4     2001  0.614 -0.623  1.032  0.959  0.381  1.20570  0.213        Up\n",
              "...    ...    ...    ...    ...    ...    ...      ...    ...       ...\n",
              "1245  2005  0.422  0.252 -0.024 -0.584 -0.285  1.88850  0.043        Up\n",
              "1246  2005  0.043  0.422  0.252 -0.024 -0.584  1.28581 -0.955      Down\n",
              "1247  2005 -0.955  0.043  0.422  0.252 -0.024  1.54047  0.130        Up\n",
              "1248  2005  0.130 -0.955  0.043  0.422  0.252  1.42236 -0.298      Down\n",
              "1249  2005 -0.298  0.130 -0.955  0.043  0.422  1.38254 -0.489      Down\n",
              "\n",
              "[1250 rows x 9 columns]"
            ]
          },
          "metadata": {},
          "execution_count": 501
        }
      ]
    },
    {
      "cell_type": "markdown",
      "source": [
        "#**Exploração dos dados**"
      ],
      "metadata": {
        "id": "JesfG17Qa3Mh"
      }
    },
    {
      "cell_type": "code",
      "source": [
        "base_smarket.info()"
      ],
      "metadata": {
        "colab": {
          "base_uri": "https://localhost:8080/"
        },
        "id": "hGWltzD5YYIc",
        "outputId": "932abe4c-c192-468b-a524-44bf071d6f55"
      },
      "execution_count": 502,
      "outputs": [
        {
          "output_type": "stream",
          "name": "stdout",
          "text": [
            "<class 'pandas.core.frame.DataFrame'>\n",
            "RangeIndex: 1250 entries, 0 to 1249\n",
            "Data columns (total 9 columns):\n",
            " #   Column     Non-Null Count  Dtype  \n",
            "---  ------     --------------  -----  \n",
            " 0   Year       1250 non-null   int64  \n",
            " 1   Lag1       1250 non-null   float64\n",
            " 2   Lag2       1250 non-null   float64\n",
            " 3   Lag3       1250 non-null   float64\n",
            " 4   Lag4       1250 non-null   float64\n",
            " 5   Lag5       1250 non-null   float64\n",
            " 6   Volume     1250 non-null   float64\n",
            " 7   Today      1250 non-null   float64\n",
            " 8   Direction  1250 non-null   object \n",
            "dtypes: float64(7), int64(1), object(1)\n",
            "memory usage: 88.0+ KB\n"
          ]
        }
      ]
    },
    {
      "cell_type": "code",
      "source": [
        "base_smarket.describe()"
      ],
      "metadata": {
        "colab": {
          "base_uri": "https://localhost:8080/",
          "height": 300
        },
        "id": "-HdTD3cvYoSE",
        "outputId": "72985b21-1f8c-41df-f89e-1001fd2e442c"
      },
      "execution_count": 503,
      "outputs": [
        {
          "output_type": "execute_result",
          "data": {
            "text/html": [
              "\n",
              "  <div id=\"df-ea38f764-b6c8-415d-9b4a-d627ae2ea045\">\n",
              "    <div class=\"colab-df-container\">\n",
              "      <div>\n",
              "<style scoped>\n",
              "    .dataframe tbody tr th:only-of-type {\n",
              "        vertical-align: middle;\n",
              "    }\n",
              "\n",
              "    .dataframe tbody tr th {\n",
              "        vertical-align: top;\n",
              "    }\n",
              "\n",
              "    .dataframe thead th {\n",
              "        text-align: right;\n",
              "    }\n",
              "</style>\n",
              "<table border=\"1\" class=\"dataframe\">\n",
              "  <thead>\n",
              "    <tr style=\"text-align: right;\">\n",
              "      <th></th>\n",
              "      <th>Year</th>\n",
              "      <th>Lag1</th>\n",
              "      <th>Lag2</th>\n",
              "      <th>Lag3</th>\n",
              "      <th>Lag4</th>\n",
              "      <th>Lag5</th>\n",
              "      <th>Volume</th>\n",
              "      <th>Today</th>\n",
              "    </tr>\n",
              "  </thead>\n",
              "  <tbody>\n",
              "    <tr>\n",
              "      <th>count</th>\n",
              "      <td>1250.000000</td>\n",
              "      <td>1250.000000</td>\n",
              "      <td>1250.000000</td>\n",
              "      <td>1250.000000</td>\n",
              "      <td>1250.000000</td>\n",
              "      <td>1250.00000</td>\n",
              "      <td>1250.000000</td>\n",
              "      <td>1250.000000</td>\n",
              "    </tr>\n",
              "    <tr>\n",
              "      <th>mean</th>\n",
              "      <td>2003.016000</td>\n",
              "      <td>0.003834</td>\n",
              "      <td>0.003919</td>\n",
              "      <td>0.001716</td>\n",
              "      <td>0.001636</td>\n",
              "      <td>0.00561</td>\n",
              "      <td>1.478305</td>\n",
              "      <td>0.003138</td>\n",
              "    </tr>\n",
              "    <tr>\n",
              "      <th>std</th>\n",
              "      <td>1.409018</td>\n",
              "      <td>1.136299</td>\n",
              "      <td>1.136280</td>\n",
              "      <td>1.138703</td>\n",
              "      <td>1.138774</td>\n",
              "      <td>1.14755</td>\n",
              "      <td>0.360357</td>\n",
              "      <td>1.136334</td>\n",
              "    </tr>\n",
              "    <tr>\n",
              "      <th>min</th>\n",
              "      <td>2001.000000</td>\n",
              "      <td>-4.922000</td>\n",
              "      <td>-4.922000</td>\n",
              "      <td>-4.922000</td>\n",
              "      <td>-4.922000</td>\n",
              "      <td>-4.92200</td>\n",
              "      <td>0.356070</td>\n",
              "      <td>-4.922000</td>\n",
              "    </tr>\n",
              "    <tr>\n",
              "      <th>25%</th>\n",
              "      <td>2002.000000</td>\n",
              "      <td>-0.639500</td>\n",
              "      <td>-0.639500</td>\n",
              "      <td>-0.640000</td>\n",
              "      <td>-0.640000</td>\n",
              "      <td>-0.64000</td>\n",
              "      <td>1.257400</td>\n",
              "      <td>-0.639500</td>\n",
              "    </tr>\n",
              "    <tr>\n",
              "      <th>50%</th>\n",
              "      <td>2003.000000</td>\n",
              "      <td>0.039000</td>\n",
              "      <td>0.039000</td>\n",
              "      <td>0.038500</td>\n",
              "      <td>0.038500</td>\n",
              "      <td>0.03850</td>\n",
              "      <td>1.422950</td>\n",
              "      <td>0.038500</td>\n",
              "    </tr>\n",
              "    <tr>\n",
              "      <th>75%</th>\n",
              "      <td>2004.000000</td>\n",
              "      <td>0.596750</td>\n",
              "      <td>0.596750</td>\n",
              "      <td>0.596750</td>\n",
              "      <td>0.596750</td>\n",
              "      <td>0.59700</td>\n",
              "      <td>1.641675</td>\n",
              "      <td>0.596750</td>\n",
              "    </tr>\n",
              "    <tr>\n",
              "      <th>max</th>\n",
              "      <td>2005.000000</td>\n",
              "      <td>5.733000</td>\n",
              "      <td>5.733000</td>\n",
              "      <td>5.733000</td>\n",
              "      <td>5.733000</td>\n",
              "      <td>5.73300</td>\n",
              "      <td>3.152470</td>\n",
              "      <td>5.733000</td>\n",
              "    </tr>\n",
              "  </tbody>\n",
              "</table>\n",
              "</div>\n",
              "      <button class=\"colab-df-convert\" onclick=\"convertToInteractive('df-ea38f764-b6c8-415d-9b4a-d627ae2ea045')\"\n",
              "              title=\"Convert this dataframe to an interactive table.\"\n",
              "              style=\"display:none;\">\n",
              "        \n",
              "  <svg xmlns=\"http://www.w3.org/2000/svg\" height=\"24px\"viewBox=\"0 0 24 24\"\n",
              "       width=\"24px\">\n",
              "    <path d=\"M0 0h24v24H0V0z\" fill=\"none\"/>\n",
              "    <path d=\"M18.56 5.44l.94 2.06.94-2.06 2.06-.94-2.06-.94-.94-2.06-.94 2.06-2.06.94zm-11 1L8.5 8.5l.94-2.06 2.06-.94-2.06-.94L8.5 2.5l-.94 2.06-2.06.94zm10 10l.94 2.06.94-2.06 2.06-.94-2.06-.94-.94-2.06-.94 2.06-2.06.94z\"/><path d=\"M17.41 7.96l-1.37-1.37c-.4-.4-.92-.59-1.43-.59-.52 0-1.04.2-1.43.59L10.3 9.45l-7.72 7.72c-.78.78-.78 2.05 0 2.83L4 21.41c.39.39.9.59 1.41.59.51 0 1.02-.2 1.41-.59l7.78-7.78 2.81-2.81c.8-.78.8-2.07 0-2.86zM5.41 20L4 18.59l7.72-7.72 1.47 1.35L5.41 20z\"/>\n",
              "  </svg>\n",
              "      </button>\n",
              "      \n",
              "  <style>\n",
              "    .colab-df-container {\n",
              "      display:flex;\n",
              "      flex-wrap:wrap;\n",
              "      gap: 12px;\n",
              "    }\n",
              "\n",
              "    .colab-df-convert {\n",
              "      background-color: #E8F0FE;\n",
              "      border: none;\n",
              "      border-radius: 50%;\n",
              "      cursor: pointer;\n",
              "      display: none;\n",
              "      fill: #1967D2;\n",
              "      height: 32px;\n",
              "      padding: 0 0 0 0;\n",
              "      width: 32px;\n",
              "    }\n",
              "\n",
              "    .colab-df-convert:hover {\n",
              "      background-color: #E2EBFA;\n",
              "      box-shadow: 0px 1px 2px rgba(60, 64, 67, 0.3), 0px 1px 3px 1px rgba(60, 64, 67, 0.15);\n",
              "      fill: #174EA6;\n",
              "    }\n",
              "\n",
              "    [theme=dark] .colab-df-convert {\n",
              "      background-color: #3B4455;\n",
              "      fill: #D2E3FC;\n",
              "    }\n",
              "\n",
              "    [theme=dark] .colab-df-convert:hover {\n",
              "      background-color: #434B5C;\n",
              "      box-shadow: 0px 1px 3px 1px rgba(0, 0, 0, 0.15);\n",
              "      filter: drop-shadow(0px 1px 2px rgba(0, 0, 0, 0.3));\n",
              "      fill: #FFFFFF;\n",
              "    }\n",
              "  </style>\n",
              "\n",
              "      <script>\n",
              "        const buttonEl =\n",
              "          document.querySelector('#df-ea38f764-b6c8-415d-9b4a-d627ae2ea045 button.colab-df-convert');\n",
              "        buttonEl.style.display =\n",
              "          google.colab.kernel.accessAllowed ? 'block' : 'none';\n",
              "\n",
              "        async function convertToInteractive(key) {\n",
              "          const element = document.querySelector('#df-ea38f764-b6c8-415d-9b4a-d627ae2ea045');\n",
              "          const dataTable =\n",
              "            await google.colab.kernel.invokeFunction('convertToInteractive',\n",
              "                                                     [key], {});\n",
              "          if (!dataTable) return;\n",
              "\n",
              "          const docLinkHtml = 'Like what you see? Visit the ' +\n",
              "            '<a target=\"_blank\" href=https://colab.research.google.com/notebooks/data_table.ipynb>data table notebook</a>'\n",
              "            + ' to learn more about interactive tables.';\n",
              "          element.innerHTML = '';\n",
              "          dataTable['output_type'] = 'display_data';\n",
              "          await google.colab.output.renderOutput(dataTable, element);\n",
              "          const docLink = document.createElement('div');\n",
              "          docLink.innerHTML = docLinkHtml;\n",
              "          element.appendChild(docLink);\n",
              "        }\n",
              "      </script>\n",
              "    </div>\n",
              "  </div>\n",
              "  "
            ],
            "text/plain": [
              "              Year         Lag1  ...       Volume        Today\n",
              "count  1250.000000  1250.000000  ...  1250.000000  1250.000000\n",
              "mean   2003.016000     0.003834  ...     1.478305     0.003138\n",
              "std       1.409018     1.136299  ...     0.360357     1.136334\n",
              "min    2001.000000    -4.922000  ...     0.356070    -4.922000\n",
              "25%    2002.000000    -0.639500  ...     1.257400    -0.639500\n",
              "50%    2003.000000     0.039000  ...     1.422950     0.038500\n",
              "75%    2004.000000     0.596750  ...     1.641675     0.596750\n",
              "max    2005.000000     5.733000  ...     3.152470     5.733000\n",
              "\n",
              "[8 rows x 8 columns]"
            ]
          },
          "metadata": {},
          "execution_count": 503
        }
      ]
    },
    {
      "cell_type": "code",
      "source": [
        "base_smarket.isnull().sum()"
      ],
      "metadata": {
        "colab": {
          "base_uri": "https://localhost:8080/"
        },
        "id": "YSr3Lcz_wCTh",
        "outputId": "703ef566-66e3-407a-a150-6b8183417936"
      },
      "execution_count": 504,
      "outputs": [
        {
          "output_type": "execute_result",
          "data": {
            "text/plain": [
              "Year         0\n",
              "Lag1         0\n",
              "Lag2         0\n",
              "Lag3         0\n",
              "Lag4         0\n",
              "Lag5         0\n",
              "Volume       0\n",
              "Today        0\n",
              "Direction    0\n",
              "dtype: int64"
            ]
          },
          "metadata": {},
          "execution_count": 504
        }
      ]
    },
    {
      "cell_type": "code",
      "source": [
        "np.unique(base_smarket['Direction'], return_counts=True)"
      ],
      "metadata": {
        "colab": {
          "base_uri": "https://localhost:8080/"
        },
        "id": "aHmpALZsmq5q",
        "outputId": "def82769-1de2-4127-fad7-9720da68fb09"
      },
      "execution_count": 505,
      "outputs": [
        {
          "output_type": "execute_result",
          "data": {
            "text/plain": [
              "(array(['Down', 'Up'], dtype=object), array([602, 648]))"
            ]
          },
          "metadata": {},
          "execution_count": 505
        }
      ]
    },
    {
      "cell_type": "code",
      "source": [
        "base_smarket.index"
      ],
      "metadata": {
        "colab": {
          "base_uri": "https://localhost:8080/"
        },
        "id": "pxhdQ_0und4q",
        "outputId": "12378ee0-cdc6-4cb6-d6fd-2185e7e64a6f"
      },
      "execution_count": 506,
      "outputs": [
        {
          "output_type": "execute_result",
          "data": {
            "text/plain": [
              "RangeIndex(start=0, stop=1250, step=1)"
            ]
          },
          "metadata": {},
          "execution_count": 506
        }
      ]
    },
    {
      "cell_type": "markdown",
      "source": [
        "#**Visualização dos dados**"
      ],
      "metadata": {
        "id": "31tOo7ezbJGB"
      }
    },
    {
      "cell_type": "code",
      "source": [
        "sns.countplot(x = base_smarket['Direction']);"
      ],
      "metadata": {
        "colab": {
          "base_uri": "https://localhost:8080/",
          "height": 361
        },
        "id": "H7g6VGSxm-eD",
        "outputId": "170144ed-b2b0-4100-bc6b-f03fae1ed718"
      },
      "execution_count": 507,
      "outputs": [
        {
          "output_type": "display_data",
          "data": {
            "image/png": "[encoded data removed]",
            "text/plain": [
              "<Figure size 576x396 with 1 Axes>"
            ]
          },
          "metadata": {}
        }
      ]
    },
    {
      "cell_type": "code",
      "source": [
        "sns.countplot(x = base_smarket['Year']);"
      ],
      "metadata": {
        "colab": {
          "base_uri": "https://localhost:8080/",
          "height": 361
        },
        "id": "0eJo-H2B1RGF",
        "outputId": "e22d8fed-048a-4fbd-e6eb-4f67b5f6a2d7"
      },
      "execution_count": 508,
      "outputs": [
        {
          "output_type": "display_data",
          "data": {
            "image/png": "[encoded data removed]",
            "text/plain": [
              "<Figure size 576x396 with 1 Axes>"
            ]
          },
          "metadata": {}
        }
      ]
    },
    {
      "cell_type": "code",
      "source": [
        "plt.hist(x=base_smarket['Volume']);"
      ],
      "metadata": {
        "colab": {
          "base_uri": "https://localhost:8080/",
          "height": 347
        },
        "id": "JGzxgB3Lcd8c",
        "outputId": "e64b2f64-0d73-499f-e1d7-bc41363684e0"
      },
      "execution_count": 509,
      "outputs": [
        {
          "output_type": "display_data",
          "data": {
            "image/png": "[encoded data removed]",
            "text/plain": [
              "<Figure size 576x396 with 1 Axes>"
            ]
          },
          "metadata": {}
        }
      ]
    },
    {
      "cell_type": "code",
      "source": [
        "sns.distplot(base_smarket['Volume'], hist = True, kde = True);"
      ],
      "metadata": {
        "colab": {
          "base_uri": "https://localhost:8080/",
          "height": 450
        },
        "id": "u3yicDwCq5wJ",
        "outputId": "265ac1ff-c7d5-43ea-9445-72c585bf8f2b"
      },
      "execution_count": 510,
      "outputs": [
        {
          "output_type": "stream",
          "name": "stderr",
          "text": [
            "/usr/local/lib/python3.7/dist-packages/seaborn/distributions.py:2619: FutureWarning:\n",
            "\n",
            "`distplot` is a deprecated function and will be removed in a future version. Please adapt your code to use either `displot` (a figure-level function with similar flexibility) or `histplot` (an axes-level function for histograms).\n",
            "\n"
          ]
        },
        {
          "output_type": "display_data",
          "data": {
            "image/png": "[encoded data removed]",
            "text/plain": [
              "<Figure size 576x396 with 1 Axes>"
            ]
          },
          "metadata": {}
        }
      ]
    },
    {
      "cell_type": "code",
      "source": [
        "plt.hist(x=base_smarket['Today']);"
      ],
      "metadata": {
        "colab": {
          "base_uri": "https://localhost:8080/",
          "height": 347
        },
        "id": "rNy5xaxgcrDO",
        "outputId": "79c37930-7854-46f1-f835-a9048013ef43"
      },
      "execution_count": 511,
      "outputs": [
        {
          "output_type": "display_data",
          "data": {
            "image/png": "[encoded data removed]",
            "text/plain": [
              "<Figure size 576x396 with 1 Axes>"
            ]
          },
          "metadata": {}
        }
      ]
    },
    {
      "cell_type": "code",
      "source": [
        "plt.hist(x=base_smarket['Lag1']);"
      ],
      "metadata": {
        "colab": {
          "base_uri": "https://localhost:8080/",
          "height": 347
        },
        "id": "TAktK69OdD2W",
        "outputId": "c0653aed-4195-4eb2-871f-3f3dd953e233"
      },
      "execution_count": 512,
      "outputs": [
        {
          "output_type": "display_data",
          "data": {
            "image/png": "[encoded data removed]",
            "text/plain": [
              "<Figure size 576x396 with 1 Axes>"
            ]
          },
          "metadata": {}
        }
      ]
    },
    {
      "cell_type": "code",
      "source": [
        "sns.distplot(base_smarket['Lag1'], hist = True, kde = True);"
      ],
      "metadata": {
        "colab": {
          "base_uri": "https://localhost:8080/",
          "height": 450
        },
        "id": "WoiWcZziqsV4",
        "outputId": "6fb25e94-a98d-4b36-a7d7-6ceb8c522b35"
      },
      "execution_count": 513,
      "outputs": [
        {
          "output_type": "stream",
          "name": "stderr",
          "text": [
            "/usr/local/lib/python3.7/dist-packages/seaborn/distributions.py:2619: FutureWarning:\n",
            "\n",
            "`distplot` is a deprecated function and will be removed in a future version. Please adapt your code to use either `displot` (a figure-level function with similar flexibility) or `histplot` (an axes-level function for histograms).\n",
            "\n"
          ]
        },
        {
          "output_type": "display_data",
          "data": {
            "image/png": "[encoded data removed]",
            "text/plain": [
              "<Figure size 576x396 with 1 Axes>"
            ]
          },
          "metadata": {}
        }
      ]
    },
    {
      "cell_type": "code",
      "source": [
        "grafico = px.treemap(base_smarket, path=['Direction', 'Year'])\n",
        "grafico.show()"
      ],
      "metadata": {
        "colab": {
          "base_uri": "https://localhost:8080/",
          "height": 542
        },
        "id": "UhiFbnqMdOTs",
        "outputId": "b5d7ecfd-6885-4ba8-a5c4-56a1c383b041"
      },
      "execution_count": 514,
      "outputs": [
        {
          "output_type": "display_data",
          "data": {
            "text/html": [
              "<html>\n",
              "<head><meta charset=\"utf-8\" /></head>\n",
              "<body>\n",
              "    <div>            <script src=\"https://cdnjs.cloudflare.com/ajax/libs/mathjax/2.7.5/MathJax.js?config=TeX-AMS-MML_SVG\"></script><script type=\"text/javascript\">if (window.MathJax) {MathJax.Hub.Config({SVG: {font: \"STIX-Web\"}});}</script>                <script type=\"text/javascript\">window.PlotlyConfig = {MathJaxConfig: 'local'};</script>\n",
              "        <script src=\"https://cdn.plot.ly/plotly-2.8.3.min.js\"></script>                <div id=\"cff995ba-fbdd-415f-a649-285df5cb38ca\" class=\"plotly-graph-div\" style=\"height:525px; width:100%;\"></div>            <script type=\"text/javascript\">                                    window.PLOTLYENV=window.PLOTLYENV || {};                                    if (document.getElementById(\"cff995ba-fbdd-415f-a649-285df5cb38ca\")) {                    Plotly.newPlot(                        \"cff995ba-fbdd-415f-a649-285df5cb38ca\",                        [{\"branchvalues\":\"total\",\"domain\":{\"x\":[0.0,1.0],\"y\":[0.0,1.0]},\"hovertemplate\":\"labels=%{label}<br>count=%{value}<br>parent=%{parent}<br>id=%{id}<extra></extra>\",\"ids\":[\"Down/2001\",\"Up/2001\",\"Down/2002\",\"Up/2002\",\"Down/2003\",\"Up/2003\",\"Down/2004\",\"Up/2004\",\"Down/2005\",\"Up/2005\",\"Down\",\"Up\"],\"labels\":[\"2001\",\"2001\",\"2002\",\"2002\",\"2003\",\"2003\",\"2004\",\"2004\",\"2005\",\"2005\",\"Down\",\"Up\"],\"name\":\"\",\"parents\":[\"Down\",\"Up\",\"Down\",\"Up\",\"Down\",\"Up\",\"Down\",\"Up\",\"Down\",\"Up\",\"\",\"\"],\"values\":[125,117,140,112,114,138,112,140,111,141,602,648],\"type\":\"treemap\"}],                        {\"template\":{\"data\":{\"bar\":[{\"error_x\":{\"color\":\"#2a3f5f\"},\"error_y\":{\"color\":\"#2a3f5f\"},\"marker\":{\"line\":{\"color\":\"#E5ECF6\",\"width\":0.5},\"pattern\":{\"fillmode\":\"overlay\",\"size\":10,\"solidity\":0.2}},\"type\":\"bar\"}],\"barpolar\":[{\"marker\":{\"line\":{\"color\":\"#E5ECF6\",\"width\":0.5},\"pattern\":{\"fillmode\":\"overlay\",\"size\":10,\"solidity\":0.2}},\"type\":\"barpolar\"}],\"carpet\":[{\"aaxis\":{\"endlinecolor\":\"#2a3f5f\",\"gridcolor\":\"white\",\"linecolor\":\"white\",\"minorgridcolor\":\"white\",\"startlinecolor\":\"#2a3f5f\"},\"baxis\":{\"endlinecolor\":\"#2a3f5f\",\"gridcolor\":\"white\",\"linecolor\":\"white\",\"minorgridcolor\":\"white\",\"startlinecolor\":\"#2a3f5f\"},\"type\":\"carpet\"}],\"choropleth\":[{\"colorbar\":{\"outlinewidth\":0,\"ticks\":\"\"},\"type\":\"choropleth\"}],\"contour\":[{\"colorbar\":{\"outlinewidth\":0,\"ticks\":\"\"},\"colorscale\":[[0.0,\"#0d0887\"],[0.1111111111111111,\"#46039f\"],[0.2222222222222222,\"#7201a8\"],[0.3333333333333333,\"#9c179e\"],[0.4444444444444444,\"#bd3786\"],[0.5555555555555556,\"#d8576b\"],[0.6666666666666666,\"#ed7953\"],[0.7777777777777778,\"#fb9f3a\"],[0.8888888888888888,\"#fdca26\"],[1.0,\"#f0f921\"]],\"type\":\"contour\"}],\"contourcarpet\":[{\"colorbar\":{\"outlinewidth\":0,\"ticks\":\"\"},\"type\":\"contourcarpet\"}],\"heatmap\":[{\"colorbar\":{\"outlinewidth\":0,\"ticks\":\"\"},\"colorscale\":[[0.0,\"#0d0887\"],[0.1111111111111111,\"#46039f\"],[0.2222222222222222,\"#7201a8\"],[0.3333333333333333,\"#9c179e\"],[0.4444444444444444,\"#bd3786\"],[0.5555555555555556,\"#d8576b\"],[0.6666666666666666,\"#ed7953\"],[0.7777777777777778,\"#fb9f3a\"],[0.8888888888888888,\"#fdca26\"],[1.0,\"#f0f921\"]],\"type\":\"heatmap\"}],\"heatmapgl\":[{\"colorbar\":{\"outlinewidth\":0,\"ticks\":\"\"},\"colorscale\":[[0.0,\"#0d0887\"],[0.1111111111111111,\"#46039f\"],[0.2222222222222222,\"#7201a8\"],[0.3333333333333333,\"#9c179e\"],[0.4444444444444444,\"#bd3786\"],[0.5555555555555556,\"#d8576b\"],[0.6666666666666666,\"#ed7953\"],[0.7777777777777778,\"#fb9f3a\"],[0.8888888888888888,\"#fdca26\"],[1.0,\"#f0f921\"]],\"type\":\"heatmapgl\"}],\"histogram\":[{\"marker\":{\"pattern\":{\"fillmode\":\"overlay\",\"size\":10,\"solidity\":0.2}},\"type\":\"histogram\"}],\"histogram2d\":[{\"colorbar\":{\"outlinewidth\":0,\"ticks\":\"\"},\"colorscale\":[[0.0,\"#0d0887\"],[0.1111111111111111,\"#46039f\"],[0.2222222222222222,\"#7201a8\"],[0.3333333333333333,\"#9c179e\"],[0.4444444444444444,\"#bd3786\"],[0.5555555555555556,\"#d8576b\"],[0.6666666666666666,\"#ed7953\"],[0.7777777777777778,\"#fb9f3a\"],[0.8888888888888888,\"#fdca26\"],[1.0,\"#f0f921\"]],\"type\":\"histogram2d\"}],\"histogram2dcontour\":[{\"colorbar\":{\"outlinewidth\":0,\"ticks\":\"\"},\"colorscale\":[[0.0,\"#0d0887\"],[0.1111111111111111,\"#46039f\"],[0.2222222222222222,\"#7201a8\"],[0.3333333333333333,\"#9c179e\"],[0.4444444444444444,\"#bd3786\"],[0.5555555555555556,\"#d8576b\"],[0.6666666666666666,\"#ed7953\"],[0.7777777777777778,\"#fb9f3a\"],[0.8888888888888888,\"#fdca26\"],[1.0,\"#f0f921\"]],\"type\":\"histogram2dcontour\"}],\"mesh3d\":[{\"colorbar\":{\"outlinewidth\":0,\"ticks\":\"\"},\"type\":\"mesh3d\"}],\"parcoords\":[{\"line\":{\"colorbar\":{\"outlinewidth\":0,\"ticks\":\"\"}},\"type\":\"parcoords\"}],\"pie\":[{\"automargin\":true,\"type\":\"pie\"}],\"scatter\":[{\"marker\":{\"colorbar\":{\"outlinewidth\":0,\"ticks\":\"\"}},\"type\":\"scatter\"}],\"scatter3d\":[{\"line\":{\"colorbar\":{\"outlinewidth\":0,\"ticks\":\"\"}},\"marker\":{\"colorbar\":{\"outlinewidth\":0,\"ticks\":\"\"}},\"type\":\"scatter3d\"}],\"scattercarpet\":[{\"marker\":{\"colorbar\":{\"outlinewidth\":0,\"ticks\":\"\"}},\"type\":\"scattercarpet\"}],\"scattergeo\":[{\"marker\":{\"colorbar\":{\"outlinewidth\":0,\"ticks\":\"\"}},\"type\":\"scattergeo\"}],\"scattergl\":[{\"marker\":{\"colorbar\":{\"outlinewidth\":0,\"ticks\":\"\"}},\"type\":\"scattergl\"}],\"scattermapbox\":[{\"marker\":{\"colorbar\":{\"outlinewidth\":0,\"ticks\":\"\"}},\"type\":\"scattermapbox\"}],\"scatterpolar\":[{\"marker\":{\"colorbar\":{\"outlinewidth\":0,\"ticks\":\"\"}},\"type\":\"scatterpolar\"}],\"scatterpolargl\":[{\"marker\":{\"colorbar\":{\"outlinewidth\":0,\"ticks\":\"\"}},\"type\":\"scatterpolargl\"}],\"scatterternary\":[{\"marker\":{\"colorbar\":{\"outlinewidth\":0,\"ticks\":\"\"}},\"type\":\"scatterternary\"}],\"surface\":[{\"colorbar\":{\"outlinewidth\":0,\"ticks\":\"\"},\"colorscale\":[[0.0,\"#0d0887\"],[0.1111111111111111,\"#46039f\"],[0.2222222222222222,\"#7201a8\"],[0.3333333333333333,\"#9c179e\"],[0.4444444444444444,\"#bd3786\"],[0.5555555555555556,\"#d8576b\"],[0.6666666666666666,\"#ed7953\"],[0.7777777777777778,\"#fb9f3a\"],[0.8888888888888888,\"#fdca26\"],[1.0,\"#f0f921\"]],\"type\":\"surface\"}],\"table\":[{\"cells\":{\"fill\":{\"color\":\"#EBF0F8\"},\"line\":{\"color\":\"white\"}},\"header\":{\"fill\":{\"color\":\"#C8D4E3\"},\"line\":{\"color\":\"white\"}},\"type\":\"table\"}]},\"layout\":{\"annotationdefaults\":{\"arrowcolor\":\"#2a3f5f\",\"arrowhead\":0,\"arrowwidth\":1},\"autotypenumbers\":\"strict\",\"coloraxis\":{\"colorbar\":{\"outlinewidth\":0,\"ticks\":\"\"}},\"colorscale\":{\"diverging\":[[0,\"#8e0152\"],[0.1,\"#c51b7d\"],[0.2,\"#de77ae\"],[0.3,\"#f1b6da\"],[0.4,\"#fde0ef\"],[0.5,\"#f7f7f7\"],[0.6,\"#e6f5d0\"],[0.7,\"#b8e186\"],[0.8,\"#7fbc41\"],[0.9,\"#4d9221\"],[1,\"#276419\"]],\"sequential\":[[0.0,\"#0d0887\"],[0.1111111111111111,\"#46039f\"],[0.2222222222222222,\"#7201a8\"],[0.3333333333333333,\"#9c179e\"],[0.4444444444444444,\"#bd3786\"],[0.5555555555555556,\"#d8576b\"],[0.6666666666666666,\"#ed7953\"],[0.7777777777777778,\"#fb9f3a\"],[0.8888888888888888,\"#fdca26\"],[1.0,\"#f0f921\"]],\"sequentialminus\":[[0.0,\"#0d0887\"],[0.1111111111111111,\"#46039f\"],[0.2222222222222222,\"#7201a8\"],[0.3333333333333333,\"#9c179e\"],[0.4444444444444444,\"#bd3786\"],[0.5555555555555556,\"#d8576b\"],[0.6666666666666666,\"#ed7953\"],[0.7777777777777778,\"#fb9f3a\"],[0.8888888888888888,\"#fdca26\"],[1.0,\"#f0f921\"]]},\"colorway\":[\"#636efa\",\"#EF553B\",\"#00cc96\",\"#ab63fa\",\"#FFA15A\",\"#19d3f3\",\"#FF6692\",\"#B6E880\",\"#FF97FF\",\"#FECB52\"],\"font\":{\"color\":\"#2a3f5f\"},\"geo\":{\"bgcolor\":\"white\",\"lakecolor\":\"white\",\"landcolor\":\"#E5ECF6\",\"showlakes\":true,\"showland\":true,\"subunitcolor\":\"white\"},\"hoverlabel\":{\"align\":\"left\"},\"hovermode\":\"closest\",\"mapbox\":{\"style\":\"light\"},\"paper_bgcolor\":\"white\",\"plot_bgcolor\":\"#E5ECF6\",\"polar\":{\"angularaxis\":{\"gridcolor\":\"white\",\"linecolor\":\"white\",\"ticks\":\"\"},\"bgcolor\":\"#E5ECF6\",\"radialaxis\":{\"gridcolor\":\"white\",\"linecolor\":\"white\",\"ticks\":\"\"}},\"scene\":{\"xaxis\":{\"backgroundcolor\":\"#E5ECF6\",\"gridcolor\":\"white\",\"gridwidth\":2,\"linecolor\":\"white\",\"showbackground\":true,\"ticks\":\"\",\"zerolinecolor\":\"white\"},\"yaxis\":{\"backgroundcolor\":\"#E5ECF6\",\"gridcolor\":\"white\",\"gridwidth\":2,\"linecolor\":\"white\",\"showbackground\":true,\"ticks\":\"\",\"zerolinecolor\":\"white\"},\"zaxis\":{\"backgroundcolor\":\"#E5ECF6\",\"gridcolor\":\"white\",\"gridwidth\":2,\"linecolor\":\"white\",\"showbackground\":true,\"ticks\":\"\",\"zerolinecolor\":\"white\"}},\"shapedefaults\":{\"line\":{\"color\":\"#2a3f5f\"}},\"ternary\":{\"aaxis\":{\"gridcolor\":\"white\",\"linecolor\":\"white\",\"ticks\":\"\"},\"baxis\":{\"gridcolor\":\"white\",\"linecolor\":\"white\",\"ticks\":\"\"},\"bgcolor\":\"#E5ECF6\",\"caxis\":{\"gridcolor\":\"white\",\"linecolor\":\"white\",\"ticks\":\"\"}},\"title\":{\"x\":0.05},\"xaxis\":{\"automargin\":true,\"gridcolor\":\"white\",\"linecolor\":\"white\",\"ticks\":\"\",\"title\":{\"standoff\":15},\"zerolinecolor\":\"white\",\"zerolinewidth\":2},\"yaxis\":{\"automargin\":true,\"gridcolor\":\"white\",\"linecolor\":\"white\",\"ticks\":\"\",\"title\":{\"standoff\":15},\"zerolinecolor\":\"white\",\"zerolinewidth\":2}}},\"legend\":{\"tracegroupgap\":0},\"margin\":{\"t\":60}},                        {\"responsive\": true}                    ).then(function(){\n",
              "                            \n",
              "var gd = document.getElementById('cff995ba-fbdd-415f-a649-285df5cb38ca');\n",
              "var x = new MutationObserver(function (mutations, observer) {{\n",
              "        var display = window.getComputedStyle(gd).display;\n",
              "        if (!display || display === 'none') {{\n",
              "            console.log([gd, 'removed!']);\n",
              "            Plotly.purge(gd);\n",
              "            observer.disconnect();\n",
              "        }}\n",
              "}});\n",
              "\n",
              "// Listen for the removal of the full notebook cells\n",
              "var notebookContainer = gd.closest('#notebook-container');\n",
              "if (notebookContainer) {{\n",
              "    x.observe(notebookContainer, {childList: true});\n",
              "}}\n",
              "\n",
              "// Listen for the clearing of the current output cell\n",
              "var outputEl = gd.closest('.output');\n",
              "if (outputEl) {{\n",
              "    x.observe(outputEl, {childList: true});\n",
              "}}\n",
              "\n",
              "                        })                };                            </script>        </div>\n",
              "</body>\n",
              "</html>"
            ]
          },
          "metadata": {}
        }
      ]
    },
    {
      "cell_type": "markdown",
      "source": [
        "#**Divisão entre previsores e classe**"
      ],
      "metadata": {
        "id": "dGzqUP2moPNU"
      }
    },
    {
      "cell_type": "code",
      "source": [
        "base_smarket_2005 = base_smarket[base_smarket['Year']==2005]\n",
        "base_smarket_2005"
      ],
      "metadata": {
        "colab": {
          "base_uri": "https://localhost:8080/",
          "height": 424
        },
        "id": "rJFL_nn33-k9",
        "outputId": "bd2ff099-1aa9-4c6b-c12a-6c7a5107ca91"
      },
      "execution_count": 515,
      "outputs": [
        {
          "output_type": "execute_result",
          "data": {
            "text/html": [
              "\n",
              "  <div id=\"df-5ee2fd2c-49cf-45f1-b232-ad46595aac3c\">\n",
              "    <div class=\"colab-df-container\">\n",
              "      <div>\n",
              "<style scoped>\n",
              "    .dataframe tbody tr th:only-of-type {\n",
              "        vertical-align: middle;\n",
              "    }\n",
              "\n",
              "    .dataframe tbody tr th {\n",
              "        vertical-align: top;\n",
              "    }\n",
              "\n",
              "    .dataframe thead th {\n",
              "        text-align: right;\n",
              "    }\n",
              "</style>\n",
              "<table border=\"1\" class=\"dataframe\">\n",
              "  <thead>\n",
              "    <tr style=\"text-align: right;\">\n",
              "      <th></th>\n",
              "      <th>Year</th>\n",
              "      <th>Lag1</th>\n",
              "      <th>Lag2</th>\n",
              "      <th>Lag3</th>\n",
              "      <th>Lag4</th>\n",
              "      <th>Lag5</th>\n",
              "      <th>Volume</th>\n",
              "      <th>Today</th>\n",
              "      <th>Direction</th>\n",
              "    </tr>\n",
              "  </thead>\n",
              "  <tbody>\n",
              "    <tr>\n",
              "      <th>998</th>\n",
              "      <td>2005</td>\n",
              "      <td>-0.134</td>\n",
              "      <td>0.008</td>\n",
              "      <td>-0.007</td>\n",
              "      <td>0.715</td>\n",
              "      <td>-0.431</td>\n",
              "      <td>0.78690</td>\n",
              "      <td>-0.812</td>\n",
              "      <td>Down</td>\n",
              "    </tr>\n",
              "    <tr>\n",
              "      <th>999</th>\n",
              "      <td>2005</td>\n",
              "      <td>-0.812</td>\n",
              "      <td>-0.134</td>\n",
              "      <td>0.008</td>\n",
              "      <td>-0.007</td>\n",
              "      <td>0.715</td>\n",
              "      <td>1.51080</td>\n",
              "      <td>-1.167</td>\n",
              "      <td>Down</td>\n",
              "    </tr>\n",
              "    <tr>\n",
              "      <th>1000</th>\n",
              "      <td>2005</td>\n",
              "      <td>-1.167</td>\n",
              "      <td>-0.812</td>\n",
              "      <td>-0.134</td>\n",
              "      <td>0.008</td>\n",
              "      <td>-0.007</td>\n",
              "      <td>1.72100</td>\n",
              "      <td>-0.363</td>\n",
              "      <td>Down</td>\n",
              "    </tr>\n",
              "    <tr>\n",
              "      <th>1001</th>\n",
              "      <td>2005</td>\n",
              "      <td>-0.363</td>\n",
              "      <td>-1.167</td>\n",
              "      <td>-0.812</td>\n",
              "      <td>-0.134</td>\n",
              "      <td>0.008</td>\n",
              "      <td>1.73890</td>\n",
              "      <td>0.351</td>\n",
              "      <td>Up</td>\n",
              "    </tr>\n",
              "    <tr>\n",
              "      <th>1002</th>\n",
              "      <td>2005</td>\n",
              "      <td>0.351</td>\n",
              "      <td>-0.363</td>\n",
              "      <td>-1.167</td>\n",
              "      <td>-0.812</td>\n",
              "      <td>-0.134</td>\n",
              "      <td>1.56910</td>\n",
              "      <td>-0.143</td>\n",
              "      <td>Down</td>\n",
              "    </tr>\n",
              "    <tr>\n",
              "      <th>...</th>\n",
              "      <td>...</td>\n",
              "      <td>...</td>\n",
              "      <td>...</td>\n",
              "      <td>...</td>\n",
              "      <td>...</td>\n",
              "      <td>...</td>\n",
              "      <td>...</td>\n",
              "      <td>...</td>\n",
              "      <td>...</td>\n",
              "    </tr>\n",
              "    <tr>\n",
              "      <th>1245</th>\n",
              "      <td>2005</td>\n",
              "      <td>0.422</td>\n",
              "      <td>0.252</td>\n",
              "      <td>-0.024</td>\n",
              "      <td>-0.584</td>\n",
              "      <td>-0.285</td>\n",
              "      <td>1.88850</td>\n",
              "      <td>0.043</td>\n",
              "      <td>Up</td>\n",
              "    </tr>\n",
              "    <tr>\n",
              "      <th>1246</th>\n",
              "      <td>2005</td>\n",
              "      <td>0.043</td>\n",
              "      <td>0.422</td>\n",
              "      <td>0.252</td>\n",
              "      <td>-0.024</td>\n",
              "      <td>-0.584</td>\n",
              "      <td>1.28581</td>\n",
              "      <td>-0.955</td>\n",
              "      <td>Down</td>\n",
              "    </tr>\n",
              "    <tr>\n",
              "      <th>1247</th>\n",
              "      <td>2005</td>\n",
              "      <td>-0.955</td>\n",
              "      <td>0.043</td>\n",
              "      <td>0.422</td>\n",
              "      <td>0.252</td>\n",
              "      <td>-0.024</td>\n",
              "      <td>1.54047</td>\n",
              "      <td>0.130</td>\n",
              "      <td>Up</td>\n",
              "    </tr>\n",
              "    <tr>\n",
              "      <th>1248</th>\n",
              "      <td>2005</td>\n",
              "      <td>0.130</td>\n",
              "      <td>-0.955</td>\n",
              "      <td>0.043</td>\n",
              "      <td>0.422</td>\n",
              "      <td>0.252</td>\n",
              "      <td>1.42236</td>\n",
              "      <td>-0.298</td>\n",
              "      <td>Down</td>\n",
              "    </tr>\n",
              "    <tr>\n",
              "      <th>1249</th>\n",
              "      <td>2005</td>\n",
              "      <td>-0.298</td>\n",
              "      <td>0.130</td>\n",
              "      <td>-0.955</td>\n",
              "      <td>0.043</td>\n",
              "      <td>0.422</td>\n",
              "      <td>1.38254</td>\n",
              "      <td>-0.489</td>\n",
              "      <td>Down</td>\n",
              "    </tr>\n",
              "  </tbody>\n",
              "</table>\n",
              "<p>252 rows × 9 columns</p>\n",
              "</div>\n",
              "      <button class=\"colab-df-convert\" onclick=\"convertToInteractive('df-5ee2fd2c-49cf-45f1-b232-ad46595aac3c')\"\n",
              "              title=\"Convert this dataframe to an interactive table.\"\n",
              "              style=\"display:none;\">\n",
              "        \n",
              "  <svg xmlns=\"http://www.w3.org/2000/svg\" height=\"24px\"viewBox=\"0 0 24 24\"\n",
              "       width=\"24px\">\n",
              "    <path d=\"M0 0h24v24H0V0z\" fill=\"none\"/>\n",
              "    <path d=\"M18.56 5.44l.94 2.06.94-2.06 2.06-.94-2.06-.94-.94-2.06-.94 2.06-2.06.94zm-11 1L8.5 8.5l.94-2.06 2.06-.94-2.06-.94L8.5 2.5l-.94 2.06-2.06.94zm10 10l.94 2.06.94-2.06 2.06-.94-2.06-.94-.94-2.06-.94 2.06-2.06.94z\"/><path d=\"M17.41 7.96l-1.37-1.37c-.4-.4-.92-.59-1.43-.59-.52 0-1.04.2-1.43.59L10.3 9.45l-7.72 7.72c-.78.78-.78 2.05 0 2.83L4 21.41c.39.39.9.59 1.41.59.51 0 1.02-.2 1.41-.59l7.78-7.78 2.81-2.81c.8-.78.8-2.07 0-2.86zM5.41 20L4 18.59l7.72-7.72 1.47 1.35L5.41 20z\"/>\n",
              "  </svg>\n",
              "      </button>\n",
              "      \n",
              "  <style>\n",
              "    .colab-df-container {\n",
              "      display:flex;\n",
              "      flex-wrap:wrap;\n",
              "      gap: 12px;\n",
              "    }\n",
              "\n",
              "    .colab-df-convert {\n",
              "      background-color: #E8F0FE;\n",
              "      border: none;\n",
              "      border-radius: 50%;\n",
              "      cursor: pointer;\n",
              "      display: none;\n",
              "      fill: #1967D2;\n",
              "      height: 32px;\n",
              "      padding: 0 0 0 0;\n",
              "      width: 32px;\n",
              "    }\n",
              "\n",
              "    .colab-df-convert:hover {\n",
              "      background-color: #E2EBFA;\n",
              "      box-shadow: 0px 1px 2px rgba(60, 64, 67, 0.3), 0px 1px 3px 1px rgba(60, 64, 67, 0.15);\n",
              "      fill: #174EA6;\n",
              "    }\n",
              "\n",
              "    [theme=dark] .colab-df-convert {\n",
              "      background-color: #3B4455;\n",
              "      fill: #D2E3FC;\n",
              "    }\n",
              "\n",
              "    [theme=dark] .colab-df-convert:hover {\n",
              "      background-color: #434B5C;\n",
              "      box-shadow: 0px 1px 3px 1px rgba(0, 0, 0, 0.15);\n",
              "      filter: drop-shadow(0px 1px 2px rgba(0, 0, 0, 0.3));\n",
              "      fill: #FFFFFF;\n",
              "    }\n",
              "  </style>\n",
              "\n",
              "      <script>\n",
              "        const buttonEl =\n",
              "          document.querySelector('#df-5ee2fd2c-49cf-45f1-b232-ad46595aac3c button.colab-df-convert');\n",
              "        buttonEl.style.display =\n",
              "          google.colab.kernel.accessAllowed ? 'block' : 'none';\n",
              "\n",
              "        async function convertToInteractive(key) {\n",
              "          const element = document.querySelector('#df-5ee2fd2c-49cf-45f1-b232-ad46595aac3c');\n",
              "          const dataTable =\n",
              "            await google.colab.kernel.invokeFunction('convertToInteractive',\n",
              "                                                     [key], {});\n",
              "          if (!dataTable) return;\n",
              "\n",
              "          const docLinkHtml = 'Like what you see? Visit the ' +\n",
              "            '<a target=\"_blank\" href=https://colab.research.google.com/notebooks/data_table.ipynb>data table notebook</a>'\n",
              "            + ' to learn more about interactive tables.';\n",
              "          element.innerHTML = '';\n",
              "          dataTable['output_type'] = 'display_data';\n",
              "          await google.colab.output.renderOutput(dataTable, element);\n",
              "          const docLink = document.createElement('div');\n",
              "          docLink.innerHTML = docLinkHtml;\n",
              "          element.appendChild(docLink);\n",
              "        }\n",
              "      </script>\n",
              "    </div>\n",
              "  </div>\n",
              "  "
            ],
            "text/plain": [
              "      Year   Lag1   Lag2   Lag3   Lag4   Lag5   Volume  Today Direction\n",
              "998   2005 -0.134  0.008 -0.007  0.715 -0.431  0.78690 -0.812      Down\n",
              "999   2005 -0.812 -0.134  0.008 -0.007  0.715  1.51080 -1.167      Down\n",
              "1000  2005 -1.167 -0.812 -0.134  0.008 -0.007  1.72100 -0.363      Down\n",
              "1001  2005 -0.363 -1.167 -0.812 -0.134  0.008  1.73890  0.351        Up\n",
              "1002  2005  0.351 -0.363 -1.167 -0.812 -0.134  1.56910 -0.143      Down\n",
              "...    ...    ...    ...    ...    ...    ...      ...    ...       ...\n",
              "1245  2005  0.422  0.252 -0.024 -0.584 -0.285  1.88850  0.043        Up\n",
              "1246  2005  0.043  0.422  0.252 -0.024 -0.584  1.28581 -0.955      Down\n",
              "1247  2005 -0.955  0.043  0.422  0.252 -0.024  1.54047  0.130        Up\n",
              "1248  2005  0.130 -0.955  0.043  0.422  0.252  1.42236 -0.298      Down\n",
              "1249  2005 -0.298  0.130 -0.955  0.043  0.422  1.38254 -0.489      Down\n",
              "\n",
              "[252 rows x 9 columns]"
            ]
          },
          "metadata": {},
          "execution_count": 515
        }
      ]
    },
    {
      "cell_type": "code",
      "source": [
        "X_base_smarket_teste = base_smarket_2005.iloc[:, 0:8].values\n",
        "X_base_smarket_teste"
      ],
      "metadata": {
        "colab": {
          "base_uri": "https://localhost:8080/"
        },
        "id": "JOaC3yPg5Bxf",
        "outputId": "6bb04d36-81db-472f-a9da-31d98d963e77"
      },
      "execution_count": 516,
      "outputs": [
        {
          "output_type": "execute_result",
          "data": {
            "text/plain": [
              "array([[ 2.00500e+03, -1.34000e-01,  8.00000e-03, ..., -4.31000e-01,\n",
              "         7.86900e-01, -8.12000e-01],\n",
              "       [ 2.00500e+03, -8.12000e-01, -1.34000e-01, ...,  7.15000e-01,\n",
              "         1.51080e+00, -1.16700e+00],\n",
              "       [ 2.00500e+03, -1.16700e+00, -8.12000e-01, ..., -7.00000e-03,\n",
              "         1.72100e+00, -3.63000e-01],\n",
              "       ...,\n",
              "       [ 2.00500e+03, -9.55000e-01,  4.30000e-02, ..., -2.40000e-02,\n",
              "         1.54047e+00,  1.30000e-01],\n",
              "       [ 2.00500e+03,  1.30000e-01, -9.55000e-01, ...,  2.52000e-01,\n",
              "         1.42236e+00, -2.98000e-01],\n",
              "       [ 2.00500e+03, -2.98000e-01,  1.30000e-01, ...,  4.22000e-01,\n",
              "         1.38254e+00, -4.89000e-01]])"
            ]
          },
          "metadata": {},
          "execution_count": 516
        }
      ]
    },
    {
      "cell_type": "code",
      "source": [
        "y_base_smarket_teste = base_smarket_2005.iloc[:, 8].values\n",
        "y_base_smarket_teste"
      ],
      "metadata": {
        "colab": {
          "base_uri": "https://localhost:8080/"
        },
        "id": "Zahifi0l5v1h",
        "outputId": "549aaf47-f0b8-4afa-fe1c-7a90c8ebd5d9"
      },
      "execution_count": 517,
      "outputs": [
        {
          "output_type": "execute_result",
          "data": {
            "text/plain": [
              "array(['Down', 'Down', 'Down', 'Up', 'Down', 'Up', 'Down', 'Up', 'Down',\n",
              "       'Up', 'Up', 'Down', 'Down', 'Down', 'Down', 'Up', 'Up', 'Up',\n",
              "       'Down', 'Up', 'Up', 'Up', 'Down', 'Up', 'Down', 'Up', 'Down', 'Up',\n",
              "       'Up', 'Up', 'Up', 'Up', 'Down', 'Up', 'Down', 'Up', 'Up', 'Up',\n",
              "       'Down', 'Up', 'Down', 'Up', 'Up', 'Up', 'Down', 'Down', 'Up',\n",
              "       'Down', 'Up', 'Down', 'Down', 'Up', 'Down', 'Down', 'Down', 'Up',\n",
              "       'Down', 'Up', 'Down', 'Up', 'Down', 'Down', 'Up', 'Up', 'Up', 'Up',\n",
              "       'Down', 'Up', 'Up', 'Down', 'Down', 'Down', 'Up', 'Up', 'Down',\n",
              "       'Up', 'Down', 'Up', 'Down', 'Up', 'Down', 'Up', 'Up', 'Down', 'Up',\n",
              "       'Down', 'Down', 'Up', 'Down', 'Up', 'Down', 'Down', 'Up', 'Up',\n",
              "       'Up', 'Up', 'Down', 'Up', 'Up', 'Down', 'Up', 'Up', 'Down', 'Up',\n",
              "       'Up', 'Down', 'Up', 'Down', 'Down', 'Up', 'Down', 'Up', 'Up', 'Up',\n",
              "       'Up', 'Up', 'Down', 'Down', 'Up', 'Down', 'Down', 'Down', 'Up',\n",
              "       'Down', 'Down', 'Up', 'Up', 'Down', 'Up', 'Up', 'Up', 'Up', 'Up',\n",
              "       'Up', 'Up', 'Down', 'Up', 'Up', 'Down', 'Up', 'Down', 'Up', 'Up',\n",
              "       'Up', 'Down', 'Up', 'Up', 'Up', 'Down', 'Down', 'Down', 'Up',\n",
              "       'Down', 'Up', 'Down', 'Up', 'Down', 'Up', 'Down', 'Up', 'Up',\n",
              "       'Down', 'Down', 'Up', 'Down', 'Up', 'Down', 'Up', 'Up', 'Down',\n",
              "       'Up', 'Up', 'Down', 'Up', 'Down', 'Down', 'Down', 'Up', 'Up',\n",
              "       'Down', 'Down', 'Down', 'Up', 'Up', 'Up', 'Up', 'Up', 'Up', 'Up',\n",
              "       'Down', 'Down', 'Down', 'Down', 'Up', 'Down', 'Down', 'Down',\n",
              "       'Down', 'Up', 'Up', 'Down', 'Up', 'Down', 'Up', 'Up', 'Down',\n",
              "       'Down', 'Down', 'Up', 'Up', 'Down', 'Up', 'Up', 'Up', 'Up', 'Down',\n",
              "       'Up', 'Up', 'Up', 'Down', 'Down', 'Up', 'Up', 'Up', 'Up', 'Up',\n",
              "       'Up', 'Up', 'Down', 'Up', 'Down', 'Up', 'Up', 'Down', 'Up', 'Down',\n",
              "       'Down', 'Up', 'Up', 'Up', 'Up', 'Down', 'Down', 'Down', 'Down',\n",
              "       'Up', 'Up', 'Up', 'Down', 'Up', 'Down', 'Down'], dtype=object)"
            ]
          },
          "metadata": {},
          "execution_count": 517
        }
      ]
    },
    {
      "cell_type": "code",
      "source": [
        "base_smarket_treinamento_handled = base_smarket[base_smarket['Year']!=2005]\n",
        "base_smarket_treinamento_handled"
      ],
      "metadata": {
        "colab": {
          "base_uri": "https://localhost:8080/",
          "height": 424
        },
        "id": "YFw8Pk1x6CLR",
        "outputId": "edce2eea-9ef7-4ed6-8e50-1566511025f7"
      },
      "execution_count": 518,
      "outputs": [
        {
          "output_type": "execute_result",
          "data": {
            "text/html": [
              "\n",
              "  <div id=\"df-a530f3bd-2f15-4fcc-9e61-3f31587e006c\">\n",
              "    <div class=\"colab-df-container\">\n",
              "      <div>\n",
              "<style scoped>\n",
              "    .dataframe tbody tr th:only-of-type {\n",
              "        vertical-align: middle;\n",
              "    }\n",
              "\n",
              "    .dataframe tbody tr th {\n",
              "        vertical-align: top;\n",
              "    }\n",
              "\n",
              "    .dataframe thead th {\n",
              "        text-align: right;\n",
              "    }\n",
              "</style>\n",
              "<table border=\"1\" class=\"dataframe\">\n",
              "  <thead>\n",
              "    <tr style=\"text-align: right;\">\n",
              "      <th></th>\n",
              "      <th>Year</th>\n",
              "      <th>Lag1</th>\n",
              "      <th>Lag2</th>\n",
              "      <th>Lag3</th>\n",
              "      <th>Lag4</th>\n",
              "      <th>Lag5</th>\n",
              "      <th>Volume</th>\n",
              "      <th>Today</th>\n",
              "      <th>Direction</th>\n",
              "    </tr>\n",
              "  </thead>\n",
              "  <tbody>\n",
              "    <tr>\n",
              "      <th>0</th>\n",
              "      <td>2001</td>\n",
              "      <td>0.381</td>\n",
              "      <td>-0.192</td>\n",
              "      <td>-2.624</td>\n",
              "      <td>-1.055</td>\n",
              "      <td>5.010</td>\n",
              "      <td>1.1913</td>\n",
              "      <td>0.959</td>\n",
              "      <td>Up</td>\n",
              "    </tr>\n",
              "    <tr>\n",
              "      <th>1</th>\n",
              "      <td>2001</td>\n",
              "      <td>0.959</td>\n",
              "      <td>0.381</td>\n",
              "      <td>-0.192</td>\n",
              "      <td>-2.624</td>\n",
              "      <td>-1.055</td>\n",
              "      <td>1.2965</td>\n",
              "      <td>1.032</td>\n",
              "      <td>Up</td>\n",
              "    </tr>\n",
              "    <tr>\n",
              "      <th>2</th>\n",
              "      <td>2001</td>\n",
              "      <td>1.032</td>\n",
              "      <td>0.959</td>\n",
              "      <td>0.381</td>\n",
              "      <td>-0.192</td>\n",
              "      <td>-2.624</td>\n",
              "      <td>1.4112</td>\n",
              "      <td>-0.623</td>\n",
              "      <td>Down</td>\n",
              "    </tr>\n",
              "    <tr>\n",
              "      <th>3</th>\n",
              "      <td>2001</td>\n",
              "      <td>-0.623</td>\n",
              "      <td>1.032</td>\n",
              "      <td>0.959</td>\n",
              "      <td>0.381</td>\n",
              "      <td>-0.192</td>\n",
              "      <td>1.2760</td>\n",
              "      <td>0.614</td>\n",
              "      <td>Up</td>\n",
              "    </tr>\n",
              "    <tr>\n",
              "      <th>4</th>\n",
              "      <td>2001</td>\n",
              "      <td>0.614</td>\n",
              "      <td>-0.623</td>\n",
              "      <td>1.032</td>\n",
              "      <td>0.959</td>\n",
              "      <td>0.381</td>\n",
              "      <td>1.2057</td>\n",
              "      <td>0.213</td>\n",
              "      <td>Up</td>\n",
              "    </tr>\n",
              "    <tr>\n",
              "      <th>...</th>\n",
              "      <td>...</td>\n",
              "      <td>...</td>\n",
              "      <td>...</td>\n",
              "      <td>...</td>\n",
              "      <td>...</td>\n",
              "      <td>...</td>\n",
              "      <td>...</td>\n",
              "      <td>...</td>\n",
              "      <td>...</td>\n",
              "    </tr>\n",
              "    <tr>\n",
              "      <th>993</th>\n",
              "      <td>2004</td>\n",
              "      <td>0.046</td>\n",
              "      <td>0.342</td>\n",
              "      <td>0.904</td>\n",
              "      <td>0.038</td>\n",
              "      <td>-0.749</td>\n",
              "      <td>0.9561</td>\n",
              "      <td>-0.431</td>\n",
              "      <td>Down</td>\n",
              "    </tr>\n",
              "    <tr>\n",
              "      <th>994</th>\n",
              "      <td>2004</td>\n",
              "      <td>-0.431</td>\n",
              "      <td>0.046</td>\n",
              "      <td>0.342</td>\n",
              "      <td>0.904</td>\n",
              "      <td>0.038</td>\n",
              "      <td>0.9220</td>\n",
              "      <td>0.715</td>\n",
              "      <td>Up</td>\n",
              "    </tr>\n",
              "    <tr>\n",
              "      <th>995</th>\n",
              "      <td>2004</td>\n",
              "      <td>0.715</td>\n",
              "      <td>-0.431</td>\n",
              "      <td>0.046</td>\n",
              "      <td>0.342</td>\n",
              "      <td>0.904</td>\n",
              "      <td>0.9830</td>\n",
              "      <td>-0.007</td>\n",
              "      <td>Down</td>\n",
              "    </tr>\n",
              "    <tr>\n",
              "      <th>996</th>\n",
              "      <td>2004</td>\n",
              "      <td>-0.007</td>\n",
              "      <td>0.715</td>\n",
              "      <td>-0.431</td>\n",
              "      <td>0.046</td>\n",
              "      <td>0.342</td>\n",
              "      <td>0.9259</td>\n",
              "      <td>0.008</td>\n",
              "      <td>Up</td>\n",
              "    </tr>\n",
              "    <tr>\n",
              "      <th>997</th>\n",
              "      <td>2004</td>\n",
              "      <td>0.008</td>\n",
              "      <td>-0.007</td>\n",
              "      <td>0.715</td>\n",
              "      <td>-0.431</td>\n",
              "      <td>0.046</td>\n",
              "      <td>0.8298</td>\n",
              "      <td>-0.134</td>\n",
              "      <td>Down</td>\n",
              "    </tr>\n",
              "  </tbody>\n",
              "</table>\n",
              "<p>998 rows × 9 columns</p>\n",
              "</div>\n",
              "      <button class=\"colab-df-convert\" onclick=\"convertToInteractive('df-a530f3bd-2f15-4fcc-9e61-3f31587e006c')\"\n",
              "              title=\"Convert this dataframe to an interactive table.\"\n",
              "              style=\"display:none;\">\n",
              "        \n",
              "  <svg xmlns=\"http://www.w3.org/2000/svg\" height=\"24px\"viewBox=\"0 0 24 24\"\n",
              "       width=\"24px\">\n",
              "    <path d=\"M0 0h24v24H0V0z\" fill=\"none\"/>\n",
              "    <path d=\"M18.56 5.44l.94 2.06.94-2.06 2.06-.94-2.06-.94-.94-2.06-.94 2.06-2.06.94zm-11 1L8.5 8.5l.94-2.06 2.06-.94-2.06-.94L8.5 2.5l-.94 2.06-2.06.94zm10 10l.94 2.06.94-2.06 2.06-.94-2.06-.94-.94-2.06-.94 2.06-2.06.94z\"/><path d=\"M17.41 7.96l-1.37-1.37c-.4-.4-.92-.59-1.43-.59-.52 0-1.04.2-1.43.59L10.3 9.45l-7.72 7.72c-.78.78-.78 2.05 0 2.83L4 21.41c.39.39.9.59 1.41.59.51 0 1.02-.2 1.41-.59l7.78-7.78 2.81-2.81c.8-.78.8-2.07 0-2.86zM5.41 20L4 18.59l7.72-7.72 1.47 1.35L5.41 20z\"/>\n",
              "  </svg>\n",
              "      </button>\n",
              "      \n",
              "  <style>\n",
              "    .colab-df-container {\n",
              "      display:flex;\n",
              "      flex-wrap:wrap;\n",
              "      gap: 12px;\n",
              "    }\n",
              "\n",
              "    .colab-df-convert {\n",
              "      background-color: #E8F0FE;\n",
              "      border: none;\n",
              "      border-radius: 50%;\n",
              "      cursor: pointer;\n",
              "      display: none;\n",
              "      fill: #1967D2;\n",
              "      height: 32px;\n",
              "      padding: 0 0 0 0;\n",
              "      width: 32px;\n",
              "    }\n",
              "\n",
              "    .colab-df-convert:hover {\n",
              "      background-color: #E2EBFA;\n",
              "      box-shadow: 0px 1px 2px rgba(60, 64, 67, 0.3), 0px 1px 3px 1px rgba(60, 64, 67, 0.15);\n",
              "      fill: #174EA6;\n",
              "    }\n",
              "\n",
              "    [theme=dark] .colab-df-convert {\n",
              "      background-color: #3B4455;\n",
              "      fill: #D2E3FC;\n",
              "    }\n",
              "\n",
              "    [theme=dark] .colab-df-convert:hover {\n",
              "      background-color: #434B5C;\n",
              "      box-shadow: 0px 1px 3px 1px rgba(0, 0, 0, 0.15);\n",
              "      filter: drop-shadow(0px 1px 2px rgba(0, 0, 0, 0.3));\n",
              "      fill: #FFFFFF;\n",
              "    }\n",
              "  </style>\n",
              "\n",
              "      <script>\n",
              "        const buttonEl =\n",
              "          document.querySelector('#df-a530f3bd-2f15-4fcc-9e61-3f31587e006c button.colab-df-convert');\n",
              "        buttonEl.style.display =\n",
              "          google.colab.kernel.accessAllowed ? 'block' : 'none';\n",
              "\n",
              "        async function convertToInteractive(key) {\n",
              "          const element = document.querySelector('#df-a530f3bd-2f15-4fcc-9e61-3f31587e006c');\n",
              "          const dataTable =\n",
              "            await google.colab.kernel.invokeFunction('convertToInteractive',\n",
              "                                                     [key], {});\n",
              "          if (!dataTable) return;\n",
              "\n",
              "          const docLinkHtml = 'Like what you see? Visit the ' +\n",
              "            '<a target=\"_blank\" href=https://colab.research.google.com/notebooks/data_table.ipynb>data table notebook</a>'\n",
              "            + ' to learn more about interactive tables.';\n",
              "          element.innerHTML = '';\n",
              "          dataTable['output_type'] = 'display_data';\n",
              "          await google.colab.output.renderOutput(dataTable, element);\n",
              "          const docLink = document.createElement('div');\n",
              "          docLink.innerHTML = docLinkHtml;\n",
              "          element.appendChild(docLink);\n",
              "        }\n",
              "      </script>\n",
              "    </div>\n",
              "  </div>\n",
              "  "
            ],
            "text/plain": [
              "     Year   Lag1   Lag2   Lag3   Lag4   Lag5  Volume  Today Direction\n",
              "0    2001  0.381 -0.192 -2.624 -1.055  5.010  1.1913  0.959        Up\n",
              "1    2001  0.959  0.381 -0.192 -2.624 -1.055  1.2965  1.032        Up\n",
              "2    2001  1.032  0.959  0.381 -0.192 -2.624  1.4112 -0.623      Down\n",
              "3    2001 -0.623  1.032  0.959  0.381 -0.192  1.2760  0.614        Up\n",
              "4    2001  0.614 -0.623  1.032  0.959  0.381  1.2057  0.213        Up\n",
              "..    ...    ...    ...    ...    ...    ...     ...    ...       ...\n",
              "993  2004  0.046  0.342  0.904  0.038 -0.749  0.9561 -0.431      Down\n",
              "994  2004 -0.431  0.046  0.342  0.904  0.038  0.9220  0.715        Up\n",
              "995  2004  0.715 -0.431  0.046  0.342  0.904  0.9830 -0.007      Down\n",
              "996  2004 -0.007  0.715 -0.431  0.046  0.342  0.9259  0.008        Up\n",
              "997  2004  0.008 -0.007  0.715 -0.431  0.046  0.8298 -0.134      Down\n",
              "\n",
              "[998 rows x 9 columns]"
            ]
          },
          "metadata": {},
          "execution_count": 518
        }
      ]
    },
    {
      "cell_type": "code",
      "source": [
        "X_base_smarket_treinamento = base_smarket_treinamento_handled.iloc[:, 0:8].values\n",
        "X_base_smarket_treinamento"
      ],
      "metadata": {
        "colab": {
          "base_uri": "https://localhost:8080/"
        },
        "id": "IWbcwgMc7bN0",
        "outputId": "d13232a2-bdb4-4fd3-9622-f128931c1e4f"
      },
      "execution_count": 519,
      "outputs": [
        {
          "output_type": "execute_result",
          "data": {
            "text/plain": [
              "array([[ 2.0010e+03,  3.8100e-01, -1.9200e-01, ...,  5.0100e+00,\n",
              "         1.1913e+00,  9.5900e-01],\n",
              "       [ 2.0010e+03,  9.5900e-01,  3.8100e-01, ..., -1.0550e+00,\n",
              "         1.2965e+00,  1.0320e+00],\n",
              "       [ 2.0010e+03,  1.0320e+00,  9.5900e-01, ..., -2.6240e+00,\n",
              "         1.4112e+00, -6.2300e-01],\n",
              "       ...,\n",
              "       [ 2.0040e+03,  7.1500e-01, -4.3100e-01, ...,  9.0400e-01,\n",
              "         9.8300e-01, -7.0000e-03],\n",
              "       [ 2.0040e+03, -7.0000e-03,  7.1500e-01, ...,  3.4200e-01,\n",
              "         9.2590e-01,  8.0000e-03],\n",
              "       [ 2.0040e+03,  8.0000e-03, -7.0000e-03, ...,  4.6000e-02,\n",
              "         8.2980e-01, -1.3400e-01]])"
            ]
          },
          "metadata": {},
          "execution_count": 519
        }
      ]
    },
    {
      "cell_type": "code",
      "source": [
        "y_base_smarket_treinamento = base_smarket_treinamento_handled.iloc[:, 8].values\n",
        "y_base_smarket_treinamento"
      ],
      "metadata": {
        "colab": {
          "base_uri": "https://localhost:8080/"
        },
        "id": "Y3_mpkNt6lxR",
        "outputId": "f4251b3f-9229-476d-bb89-c25e03bc6cf9"
      },
      "execution_count": 520,
      "outputs": [
        {
          "output_type": "execute_result",
          "data": {
            "text/plain": [
              "array(['Up', 'Up', 'Down', 'Up', 'Up', 'Up', 'Down', 'Up', 'Up', 'Up',\n",
              "       'Down', 'Down', 'Up', 'Up', 'Down', 'Up', 'Down', 'Up', 'Down',\n",
              "       'Down', 'Down', 'Down', 'Up', 'Down', 'Down', 'Up', 'Down', 'Down',\n",
              "       'Down', 'Down', 'Down', 'Up', 'Down', 'Down', 'Up', 'Down', 'Up',\n",
              "       'Up', 'Up', 'Up', 'Down', 'Down', 'Up', 'Down', 'Up', 'Down', 'Up',\n",
              "       'Down', 'Down', 'Down', 'Up', 'Up', 'Up', 'Down', 'Down', 'Up',\n",
              "       'Down', 'Down', 'Down', 'Up', 'Down', 'Up', 'Up', 'Down', 'Up',\n",
              "       'Down', 'Up', 'Up', 'Up', 'Down', 'Down', 'Down', 'Up', 'Up', 'Up',\n",
              "       'Down', 'Up', 'Up', 'Down', 'Up', 'Down', 'Down', 'Down', 'Down',\n",
              "       'Down', 'Up', 'Up', 'Up', 'Up', 'Up', 'Up', 'Down', 'Down', 'Up',\n",
              "       'Down', 'Down', 'Down', 'Up', 'Up', 'Up', 'Up', 'Down', 'Up',\n",
              "       'Down', 'Down', 'Up', 'Down', 'Down', 'Down', 'Down', 'Up', 'Up',\n",
              "       'Up', 'Down', 'Down', 'Down', 'Down', 'Up', 'Down', 'Up', 'Down',\n",
              "       'Down', 'Down', 'Up', 'Down', 'Down', 'Up', 'Up', 'Down', 'Up',\n",
              "       'Down', 'Up', 'Down', 'Down', 'Down', 'Up', 'Up', 'Up', 'Down',\n",
              "       'Up', 'Up', 'Up', 'Down', 'Down', 'Up', 'Down', 'Down', 'Up', 'Up',\n",
              "       'Down', 'Down', 'Up', 'Down', 'Up', 'Down', 'Up', 'Down', 'Up',\n",
              "       'Down', 'Down', 'Down', 'Down', 'Up', 'Down', 'Down', 'Down',\n",
              "       'Down', 'Up', 'Down', 'Down', 'Down', 'Down', 'Down', 'Up', 'Up',\n",
              "       'Down', 'Up', 'Up', 'Down', 'Up', 'Up', 'Down', 'Up', 'Down',\n",
              "       'Down', 'Up', 'Up', 'Down', 'Down', 'Up', 'Down', 'Down', 'Up',\n",
              "       'Up', 'Down', 'Up', 'Up', 'Up', 'Down', 'Down', 'Down', 'Up', 'Up',\n",
              "       'Up', 'Up', 'Down', 'Up', 'Up', 'Down', 'Up', 'Up', 'Up', 'Down',\n",
              "       'Up', 'Down', 'Down', 'Up', 'Up', 'Down', 'Down', 'Up', 'Down',\n",
              "       'Down', 'Up', 'Up', 'Down', 'Down', 'Down', 'Down', 'Up', 'Down',\n",
              "       'Up', 'Up', 'Up', 'Up', 'Down', 'Up', 'Down', 'Up', 'Up', 'Up',\n",
              "       'Down', 'Up', 'Up', 'Up', 'Down', 'Down', 'Down', 'Up', 'Down',\n",
              "       'Down', 'Up', 'Down', 'Up', 'Down', 'Down', 'Up', 'Up', 'Up',\n",
              "       'Down', 'Down', 'Up', 'Up', 'Down', 'Down', 'Down', 'Down', 'Down',\n",
              "       'Up', 'Up', 'Down', 'Up', 'Down', 'Down', 'Down', 'Up', 'Down',\n",
              "       'Up', 'Up', 'Down', 'Up', 'Down', 'Up', 'Up', 'Down', 'Up', 'Down',\n",
              "       'Up', 'Up', 'Down', 'Down', 'Down', 'Up', 'Down', 'Up', 'Down',\n",
              "       'Up', 'Down', 'Down', 'Up', 'Up', 'Up', 'Down', 'Down', 'Down',\n",
              "       'Up', 'Down', 'Up', 'Down', 'Up', 'Down', 'Up', 'Down', 'Up',\n",
              "       'Down', 'Down', 'Up', 'Down', 'Down', 'Down', 'Down', 'Down',\n",
              "       'Down', 'Up', 'Up', 'Down', 'Down', 'Down', 'Down', 'Up', 'Down',\n",
              "       'Down', 'Up', 'Up', 'Down', 'Up', 'Up', 'Down', 'Down', 'Up', 'Up',\n",
              "       'Down', 'Down', 'Down', 'Down', 'Up', 'Down', 'Up', 'Up', 'Down',\n",
              "       'Down', 'Up', 'Down', 'Up', 'Down', 'Down', 'Up', 'Up', 'Down',\n",
              "       'Down', 'Down', 'Up', 'Down', 'Down', 'Up', 'Down', 'Down', 'Down',\n",
              "       'Up', 'Up', 'Down', 'Down', 'Down', 'Up', 'Down', 'Down', 'Down',\n",
              "       'Up', 'Down', 'Down', 'Down', 'Down', 'Up', 'Down', 'Up', 'Up',\n",
              "       'Up', 'Up', 'Down', 'Down', 'Down', 'Up', 'Up', 'Up', 'Up', 'Down',\n",
              "       'Down', 'Up', 'Up', 'Down', 'Up', 'Down', 'Up', 'Up', 'Down', 'Up',\n",
              "       'Down', 'Down', 'Down', 'Down', 'Down', 'Up', 'Down', 'Up', 'Up',\n",
              "       'Up', 'Down', 'Down', 'Up', 'Up', 'Down', 'Down', 'Down', 'Up',\n",
              "       'Down', 'Down', 'Up', 'Up', 'Down', 'Down', 'Up', 'Down', 'Down',\n",
              "       'Down', 'Down', 'Up', 'Down', 'Up', 'Up', 'Up', 'Up', 'Down', 'Up',\n",
              "       'Up', 'Up', 'Down', 'Up', 'Down', 'Up', 'Down', 'Down', 'Up',\n",
              "       'Down', 'Up', 'Up', 'Up', 'Up', 'Down', 'Down', 'Down', 'Up',\n",
              "       'Down', 'Up', 'Up', 'Down', 'Down', 'Up', 'Up', 'Down', 'Up',\n",
              "       'Down', 'Up', 'Down', 'Down', 'Down', 'Down', 'Down', 'Up', 'Down',\n",
              "       'Up', 'Up', 'Down', 'Down', 'Up', 'Down', 'Down', 'Down', 'Up',\n",
              "       'Up', 'Down', 'Down', 'Down', 'Up', 'Up', 'Up', 'Down', 'Up',\n",
              "       'Down', 'Down', 'Up', 'Up', 'Down', 'Up', 'Down', 'Down', 'Down',\n",
              "       'Down', 'Down', 'Up', 'Down', 'Down', 'Up', 'Up', 'Down', 'Up',\n",
              "       'Up', 'Down', 'Down', 'Down', 'Down', 'Up', 'Down', 'Down', 'Down',\n",
              "       'Up', 'Up', 'Down', 'Down', 'Up', 'Down', 'Up', 'Down', 'Up', 'Up',\n",
              "       'Down', 'Down', 'Up', 'Down', 'Up', 'Down', 'Down', 'Up', 'Up',\n",
              "       'Up', 'Up', 'Up', 'Up', 'Up', 'Up', 'Down', 'Up', 'Down', 'Down',\n",
              "       'Down', 'Down', 'Up', 'Up', 'Down', 'Up', 'Up', 'Down', 'Down',\n",
              "       'Up', 'Down', 'Up', 'Up', 'Down', 'Up', 'Down', 'Up', 'Up', 'Down',\n",
              "       'Down', 'Up', 'Up', 'Down', 'Down', 'Up', 'Down', 'Up', 'Down',\n",
              "       'Down', 'Up', 'Up', 'Down', 'Down', 'Up', 'Down', 'Down', 'Down',\n",
              "       'Up', 'Up', 'Up', 'Up', 'Up', 'Down', 'Up', 'Up', 'Up', 'Up', 'Up',\n",
              "       'Down', 'Down', 'Up', 'Up', 'Up', 'Down', 'Up', 'Up', 'Down',\n",
              "       'Down', 'Up', 'Down', 'Up', 'Down', 'Up', 'Down', 'Down', 'Up',\n",
              "       'Up', 'Down', 'Up', 'Up', 'Down', 'Down', 'Up', 'Up', 'Down',\n",
              "       'Down', 'Down', 'Up', 'Down', 'Up', 'Up', 'Down', 'Up', 'Down',\n",
              "       'Down', 'Down', 'Up', 'Down', 'Up', 'Down', 'Up', 'Up', 'Up', 'Up',\n",
              "       'Up', 'Down', 'Up', 'Up', 'Up', 'Up', 'Down', 'Up', 'Down', 'Up',\n",
              "       'Up', 'Up', 'Up', 'Up', 'Up', 'Up', 'Up', 'Down', 'Up', 'Down',\n",
              "       'Down', 'Up', 'Up', 'Down', 'Up', 'Down', 'Up', 'Down', 'Down',\n",
              "       'Up', 'Down', 'Down', 'Down', 'Up', 'Down', 'Up', 'Up', 'Up', 'Up',\n",
              "       'Up', 'Down', 'Up', 'Down', 'Up', 'Up', 'Down', 'Up', 'Down', 'Up',\n",
              "       'Up', 'Down', 'Up', 'Down', 'Up', 'Up', 'Up', 'Down', 'Up', 'Up',\n",
              "       'Down', 'Down', 'Up', 'Down', 'Down', 'Down', 'Up', 'Down', 'Down',\n",
              "       'Down', 'Down', 'Up', 'Down', 'Up', 'Up', 'Up', 'Up', 'Down', 'Up',\n",
              "       'Down', 'Down', 'Up', 'Down', 'Up', 'Down', 'Down', 'Up', 'Up',\n",
              "       'Down', 'Up', 'Up', 'Up', 'Down', 'Up', 'Up', 'Down', 'Up', 'Up',\n",
              "       'Up', 'Up', 'Down', 'Up', 'Up', 'Up', 'Up', 'Down', 'Up', 'Down',\n",
              "       'Up', 'Up', 'Up', 'Down', 'Up', 'Down', 'Down', 'Up', 'Down',\n",
              "       'Down', 'Up', 'Down', 'Up', 'Up', 'Down', 'Up', 'Up', 'Down', 'Up',\n",
              "       'Up', 'Down', 'Down', 'Up', 'Down', 'Down', 'Down', 'Down', 'Down',\n",
              "       'Up', 'Up', 'Up', 'Up', 'Down', 'Up', 'Up', 'Up', 'Down', 'Down',\n",
              "       'Down', 'Down', 'Up', 'Down', 'Up', 'Up', 'Down', 'Down', 'Down',\n",
              "       'Down', 'Down', 'Up', 'Down', 'Up', 'Up', 'Down', 'Up', 'Up', 'Up',\n",
              "       'Down', 'Down', 'Down', 'Up', 'Down', 'Down', 'Up', 'Up', 'Up',\n",
              "       'Down', 'Up', 'Up', 'Up', 'Down', 'Up', 'Down', 'Down', 'Down',\n",
              "       'Up', 'Up', 'Up', 'Down', 'Down', 'Down', 'Up', 'Up', 'Down',\n",
              "       'Down', 'Down', 'Up', 'Down', 'Up', 'Up', 'Up', 'Up', 'Up', 'Up',\n",
              "       'Down', 'Up', 'Up', 'Down', 'Up', 'Up', 'Up', 'Down', 'Up', 'Down',\n",
              "       'Up', 'Up', 'Down', 'Up', 'Down', 'Up', 'Up', 'Down', 'Down',\n",
              "       'Down', 'Up', 'Up', 'Down', 'Down', 'Down', 'Up', 'Down', 'Up',\n",
              "       'Up', 'Up', 'Down', 'Down', 'Down', 'Down', 'Up', 'Down', 'Up',\n",
              "       'Down', 'Down', 'Up', 'Up', 'Up', 'Up', 'Up', 'Down', 'Down',\n",
              "       'Down', 'Down', 'Up', 'Up', 'Down', 'Down', 'Up', 'Up', 'Up', 'Up',\n",
              "       'Down', 'Up', 'Down', 'Up', 'Up', 'Up', 'Up', 'Down', 'Up', 'Up',\n",
              "       'Up', 'Down', 'Up', 'Down', 'Up', 'Up', 'Up', 'Up', 'Down', 'Up',\n",
              "       'Up', 'Down', 'Up', 'Down', 'Down', 'Up', 'Down', 'Up', 'Up',\n",
              "       'Down', 'Up', 'Up', 'Down', 'Up', 'Down', 'Down', 'Up', 'Down',\n",
              "       'Down', 'Down', 'Up', 'Up', 'Down', 'Up', 'Up', 'Down', 'Down',\n",
              "       'Up', 'Up', 'Up', 'Up', 'Up', 'Up', 'Up', 'Up', 'Up', 'Down',\n",
              "       'Down', 'Down', 'Up', 'Up', 'Down', 'Down', 'Up', 'Up', 'Down',\n",
              "       'Up', 'Down', 'Up', 'Up', 'Down', 'Down', 'Up', 'Down', 'Up',\n",
              "       'Down', 'Down', 'Up', 'Up', 'Down', 'Up', 'Up', 'Up', 'Down',\n",
              "       'Down', 'Up', 'Up', 'Up', 'Up', 'Down', 'Up', 'Down', 'Up', 'Down'],\n",
              "      dtype=object)"
            ]
          },
          "metadata": {},
          "execution_count": 520
        }
      ]
    },
    {
      "cell_type": "code",
      "source": [
        "#X_base_smarket = base_smarket.iloc[:, 0:8].values\n",
        "#X_base_smarket"
      ],
      "metadata": {
        "id": "q7C_xl4doW2D"
      },
      "execution_count": null,
      "outputs": []
    },
    {
      "cell_type": "code",
      "source": [
        "#y_base_smarket = base_smarket.iloc[:, 8].values\n",
        "#y_base_smarket"
      ],
      "metadata": {
        "id": "N2g4ygsKsqpO"
      },
      "execution_count": null,
      "outputs": []
    },
    {
      "cell_type": "markdown",
      "source": [
        "#**Divisão da base em treinamento e teste**"
      ],
      "metadata": {
        "id": "PnYy4TT2eWrQ"
      }
    },
    {
      "cell_type": "code",
      "source": [
        "#X_base_smarket_treinamento, X_base_smarket_teste, y_base_smarket_treinamento, y_base_smarket_teste = train_test_split(X_base_smarket, y_base_smarket, test_size = 0.30, random_state = 0)"
      ],
      "metadata": {
        "id": "Xr-3XWv-ejwR"
      },
      "execution_count": 80,
      "outputs": []
    },
    {
      "cell_type": "code",
      "source": [
        "X_base_smarket_treinamento.shape, y_base_smarket_treinamento.shape"
      ],
      "metadata": {
        "colab": {
          "base_uri": "https://localhost:8080/"
        },
        "id": "qruWeXdee6Eh",
        "outputId": "dd6af8b9-4851-48d0-d42e-43930d640717"
      },
      "execution_count": 521,
      "outputs": [
        {
          "output_type": "execute_result",
          "data": {
            "text/plain": [
              "((998, 8), (998,))"
            ]
          },
          "metadata": {},
          "execution_count": 521
        }
      ]
    },
    {
      "cell_type": "code",
      "source": [
        "X_base_smarket_teste.shape, y_base_smarket_teste.shape"
      ],
      "metadata": {
        "colab": {
          "base_uri": "https://localhost:8080/"
        },
        "id": "Tmu5fIu6e8Ig",
        "outputId": "36dedaae-dd46-4438-f2af-a8b2ec4fd4ad"
      },
      "execution_count": 522,
      "outputs": [
        {
          "output_type": "execute_result",
          "data": {
            "text/plain": [
              "((252, 8), (252,))"
            ]
          },
          "metadata": {},
          "execution_count": 522
        }
      ]
    },
    {
      "cell_type": "markdown",
      "source": [
        "#**Salvar as variáveis**"
      ],
      "metadata": {
        "id": "ptR2NaNAe-so"
      }
    },
    {
      "cell_type": "code",
      "source": [
        "with open('smarket.pkl', mode = 'wb') as f:\n",
        "  pickle.dump([X_base_smarket_treinamento, y_base_smarket_treinamento, X_base_smarket_teste, y_base_smarket_teste], f)"
      ],
      "metadata": {
        "id": "QGyF7lblfBKR"
      },
      "execution_count": 39,
      "outputs": []
    },
    {
      "cell_type": "markdown",
      "source": [
        "#**Leitura das variáveis**"
      ],
      "metadata": {
        "id": "4yv_PAbPi5kJ"
      }
    },
    {
      "cell_type": "code",
      "source": [
        "with open('smarket.pkl', 'rb') as f:  \n",
        "  X_base_smarket_treinamento, y_base_smarket_treinamento, X_base_smarket_teste, y_base_smarket_teste = pickle.load(f)"
      ],
      "metadata": {
        "id": "vXSd0_5ojDLp"
      },
      "execution_count": 40,
      "outputs": []
    },
    {
      "cell_type": "code",
      "source": [
        "X_base_smarket_treinamento.shape, y_base_smarket_treinamento.shape"
      ],
      "metadata": {
        "colab": {
          "base_uri": "https://localhost:8080/"
        },
        "id": "4jFYRpiMjcby",
        "outputId": "0f5e7d88-e48a-410e-9adf-9095bd91b1d4"
      },
      "execution_count": 267,
      "outputs": [
        {
          "output_type": "execute_result",
          "data": {
            "text/plain": [
              "((998, 8), (998,))"
            ]
          },
          "metadata": {},
          "execution_count": 267
        }
      ]
    },
    {
      "cell_type": "code",
      "source": [
        "X_base_smarket_teste.shape, y_base_smarket_teste.shape"
      ],
      "metadata": {
        "colab": {
          "base_uri": "https://localhost:8080/"
        },
        "id": "xpxsoIyBjdT8",
        "outputId": "1da2e556-3a29-44dc-8989-49245fcd9edc"
      },
      "execution_count": 268,
      "outputs": [
        {
          "output_type": "execute_result",
          "data": {
            "text/plain": [
              "((252, 8), (252,))"
            ]
          },
          "metadata": {},
          "execution_count": 268
        }
      ]
    },
    {
      "cell_type": "markdown",
      "source": [
        "#**Criação do modelo**"
      ],
      "metadata": {
        "id": "86WdAAxijquz"
      }
    },
    {
      "cell_type": "code",
      "source": [
        "knn_smarket = KNeighborsClassifier(n_neighbors=5)\n",
        "knn_smarket.fit(X_base_smarket_treinamento, y_base_smarket_treinamento)"
      ],
      "metadata": {
        "colab": {
          "base_uri": "https://localhost:8080/"
        },
        "id": "KqC_ZndBj2bq",
        "outputId": "e41de1c5-ce20-4fe8-9f4a-06d86c484987"
      },
      "execution_count": 547,
      "outputs": [
        {
          "output_type": "execute_result",
          "data": {
            "text/plain": [
              "KNeighborsClassifier()"
            ]
          },
          "metadata": {},
          "execution_count": 547
        }
      ]
    },
    {
      "cell_type": "code",
      "source": [
        "previsoes = knn_smarket.predict(X_base_smarket_teste)\n",
        "previsoes"
      ],
      "metadata": {
        "colab": {
          "base_uri": "https://localhost:8080/"
        },
        "id": "1tY7WZoSkFsp",
        "outputId": "6b259a83-54c6-40e4-91fa-736130ee42f3"
      },
      "execution_count": 548,
      "outputs": [
        {
          "output_type": "execute_result",
          "data": {
            "text/plain": [
              "array(['Down', 'Down', 'Down', 'Up', 'Up', 'Up', 'Down', 'Up', 'Down',\n",
              "       'Up', 'Up', 'Down', 'Down', 'Down', 'Down', 'Up', 'Up', 'Up',\n",
              "       'Down', 'Up', 'Up', 'Down', 'Down', 'Up', 'Down', 'Up', 'Down',\n",
              "       'Up', 'Up', 'Down', 'Up', 'Down', 'Down', 'Up', 'Down', 'Up', 'Up',\n",
              "       'Up', 'Down', 'Up', 'Down', 'Up', 'Up', 'Up', 'Down', 'Down',\n",
              "       'Down', 'Down', 'Up', 'Up', 'Down', 'Up', 'Down', 'Down', 'Down',\n",
              "       'Down', 'Up', 'Up', 'Down', 'Up', 'Down', 'Up', 'Up', 'Up', 'Up',\n",
              "       'Up', 'Down', 'Up', 'Up', 'Down', 'Down', 'Down', 'Up', 'Up',\n",
              "       'Down', 'Up', 'Down', 'Up', 'Down', 'Up', 'Down', 'Up', 'Up',\n",
              "       'Down', 'Up', 'Down', 'Down', 'Up', 'Down', 'Up', 'Down', 'Down',\n",
              "       'Up', 'Up', 'Up', 'Up', 'Down', 'Up', 'Up', 'Down', 'Up', 'Up',\n",
              "       'Down', 'Up', 'Up', 'Down', 'Up', 'Down', 'Down', 'Up', 'Down',\n",
              "       'Up', 'Up', 'Up', 'Up', 'Up', 'Down', 'Down', 'Down', 'Down',\n",
              "       'Down', 'Up', 'Up', 'Up', 'Down', 'Down', 'Up', 'Down', 'Up', 'Up',\n",
              "       'Up', 'Up', 'Down', 'Up', 'Up', 'Down', 'Up', 'Up', 'Down', 'Up',\n",
              "       'Down', 'Up', 'Up', 'Up', 'Down', 'Down', 'Up', 'Down', 'Down',\n",
              "       'Down', 'Down', 'Up', 'Up', 'Up', 'Down', 'Up', 'Down', 'Down',\n",
              "       'Up', 'Up', 'Up', 'Down', 'Down', 'Down', 'Down', 'Up', 'Up', 'Up',\n",
              "       'Up', 'Up', 'Up', 'Up', 'Down', 'Up', 'Down', 'Down', 'Down', 'Up',\n",
              "       'Up', 'Down', 'Down', 'Down', 'Up', 'Up', 'Up', 'Up', 'Up', 'Up',\n",
              "       'Down', 'Up', 'Down', 'Down', 'Down', 'Up', 'Down', 'Down', 'Down',\n",
              "       'Up', 'Up', 'Up', 'Down', 'Up', 'Down', 'Up', 'Up', 'Down', 'Down',\n",
              "       'Down', 'Up', 'Up', 'Down', 'Up', 'Up', 'Up', 'Up', 'Down', 'Up',\n",
              "       'Up', 'Down', 'Up', 'Down', 'Down', 'Up', 'Down', 'Up', 'Up', 'Up',\n",
              "       'Down', 'Down', 'Up', 'Down', 'Up', 'Up', 'Up', 'Down', 'Down',\n",
              "       'Up', 'Up', 'Up', 'Up', 'Up', 'Down', 'Down', 'Down', 'Up', 'Up',\n",
              "       'Up', 'Up', 'Down', 'Up', 'Down', 'Down'], dtype=object)"
            ]
          },
          "metadata": {},
          "execution_count": 548
        }
      ]
    },
    {
      "cell_type": "code",
      "source": [
        "y_base_smarket_teste"
      ],
      "metadata": {
        "colab": {
          "base_uri": "https://localhost:8080/"
        },
        "id": "FaBV244FkVmc",
        "outputId": "864fedcb-ee80-4398-9600-6a7337805acc"
      },
      "execution_count": 525,
      "outputs": [
        {
          "output_type": "execute_result",
          "data": {
            "text/plain": [
              "array(['Down', 'Down', 'Down', 'Up', 'Down', 'Up', 'Down', 'Up', 'Down',\n",
              "       'Up', 'Up', 'Down', 'Down', 'Down', 'Down', 'Up', 'Up', 'Up',\n",
              "       'Down', 'Up', 'Up', 'Up', 'Down', 'Up', 'Down', 'Up', 'Down', 'Up',\n",
              "       'Up', 'Up', 'Up', 'Up', 'Down', 'Up', 'Down', 'Up', 'Up', 'Up',\n",
              "       'Down', 'Up', 'Down', 'Up', 'Up', 'Up', 'Down', 'Down', 'Up',\n",
              "       'Down', 'Up', 'Down', 'Down', 'Up', 'Down', 'Down', 'Down', 'Up',\n",
              "       'Down', 'Up', 'Down', 'Up', 'Down', 'Down', 'Up', 'Up', 'Up', 'Up',\n",
              "       'Down', 'Up', 'Up', 'Down', 'Down', 'Down', 'Up', 'Up', 'Down',\n",
              "       'Up', 'Down', 'Up', 'Down', 'Up', 'Down', 'Up', 'Up', 'Down', 'Up',\n",
              "       'Down', 'Down', 'Up', 'Down', 'Up', 'Down', 'Down', 'Up', 'Up',\n",
              "       'Up', 'Up', 'Down', 'Up', 'Up', 'Down', 'Up', 'Up', 'Down', 'Up',\n",
              "       'Up', 'Down', 'Up', 'Down', 'Down', 'Up', 'Down', 'Up', 'Up', 'Up',\n",
              "       'Up', 'Up', 'Down', 'Down', 'Up', 'Down', 'Down', 'Down', 'Up',\n",
              "       'Down', 'Down', 'Up', 'Up', 'Down', 'Up', 'Up', 'Up', 'Up', 'Up',\n",
              "       'Up', 'Up', 'Down', 'Up', 'Up', 'Down', 'Up', 'Down', 'Up', 'Up',\n",
              "       'Up', 'Down', 'Up', 'Up', 'Up', 'Down', 'Down', 'Down', 'Up',\n",
              "       'Down', 'Up', 'Down', 'Up', 'Down', 'Up', 'Down', 'Up', 'Up',\n",
              "       'Down', 'Down', 'Up', 'Down', 'Up', 'Down', 'Up', 'Up', 'Down',\n",
              "       'Up', 'Up', 'Down', 'Up', 'Down', 'Down', 'Down', 'Up', 'Up',\n",
              "       'Down', 'Down', 'Down', 'Up', 'Up', 'Up', 'Up', 'Up', 'Up', 'Up',\n",
              "       'Down', 'Down', 'Down', 'Down', 'Up', 'Down', 'Down', 'Down',\n",
              "       'Down', 'Up', 'Up', 'Down', 'Up', 'Down', 'Up', 'Up', 'Down',\n",
              "       'Down', 'Down', 'Up', 'Up', 'Down', 'Up', 'Up', 'Up', 'Up', 'Down',\n",
              "       'Up', 'Up', 'Up', 'Down', 'Down', 'Up', 'Up', 'Up', 'Up', 'Up',\n",
              "       'Up', 'Up', 'Down', 'Up', 'Down', 'Up', 'Up', 'Down', 'Up', 'Down',\n",
              "       'Down', 'Up', 'Up', 'Up', 'Up', 'Down', 'Down', 'Down', 'Down',\n",
              "       'Up', 'Up', 'Up', 'Down', 'Up', 'Down', 'Down'], dtype=object)"
            ]
          },
          "metadata": {},
          "execution_count": 525
        }
      ]
    },
    {
      "cell_type": "code",
      "source": [
        "accuracy_score(y_base_smarket_teste, previsoes)"
      ],
      "metadata": {
        "colab": {
          "base_uri": "https://localhost:8080/"
        },
        "id": "1dj9bSh7kcnj",
        "outputId": "73f08642-f03f-4ddd-a9ca-cbe3018c3e54"
      },
      "execution_count": 549,
      "outputs": [
        {
          "output_type": "execute_result",
          "data": {
            "text/plain": [
              "0.8650793650793651"
            ]
          },
          "metadata": {},
          "execution_count": 549
        }
      ]
    },
    {
      "cell_type": "markdown",
      "source": [
        "#**Visualização matriz de confusão**"
      ],
      "metadata": {
        "id": "NocmSJYCf0dq"
      }
    },
    {
      "cell_type": "code",
      "source": [
        "cm = ConfusionMatrix(knn_smarket)\n",
        "cm.fit(X_base_smarket_treinamento, y_base_smarket_treinamento)\n",
        "cm.score(X_base_smarket_teste, y_base_smarket_teste)"
      ],
      "metadata": {
        "colab": {
          "base_uri": "https://localhost:8080/",
          "height": 385
        },
        "id": "TFKuaHc-fv7h",
        "outputId": "aa2f52af-e8c8-4db2-a712-9b3db4706233"
      },
      "execution_count": 550,
      "outputs": [
        {
          "output_type": "execute_result",
          "data": {
            "text/plain": [
              "0.8650793650793651"
            ]
          },
          "metadata": {},
          "execution_count": 550
        },
        {
          "output_type": "display_data",
          "data": {
            "image/png": "[encoded data removed]",
            "text/plain": [
              "<Figure size 576x396 with 1 Axes>"
            ]
          },
          "metadata": {}
        }
      ]
    },
    {
      "cell_type": "code",
      "source": [
        "print(classification_report(y_base_smarket_teste, previsoes))"
      ],
      "metadata": {
        "colab": {
          "base_uri": "https://localhost:8080/"
        },
        "id": "7ckt63FGkhL0",
        "outputId": "7646bf23-2de0-40b3-cdbd-cac86f8ca6c3"
      },
      "execution_count": 551,
      "outputs": [
        {
          "output_type": "stream",
          "name": "stdout",
          "text": [
            "              precision    recall  f1-score   support\n",
            "\n",
            "        Down       0.84      0.86      0.85       111\n",
            "          Up       0.88      0.87      0.88       141\n",
            "\n",
            "    accuracy                           0.87       252\n",
            "   macro avg       0.86      0.86      0.86       252\n",
            "weighted avg       0.87      0.87      0.87       252\n",
            "\n"
          ]
        }
      ]
    }
  ]
}